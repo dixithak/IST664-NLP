{
 "cells": [
  {
   "cell_type": "code",
   "execution_count": 1,
   "id": "11f82486",
   "metadata": {},
   "outputs": [],
   "source": [
    "# Lab Week 7 - Classification tasks with different types of features\n",
    "# This file has small examples that are meant to be run individually\n",
    "#   in the Python shell\n",
    "\n",
    "import nltk"
   ]
  },
  {
   "cell_type": "code",
   "execution_count": 2,
   "id": "30b02e73",
   "metadata": {},
   "outputs": [],
   "source": [
    "# define a feature extraction function for each name\n",
    "def gender_features(word):\n",
    "    return{'last_letter': word[-1]}"
   ]
  },
  {
   "cell_type": "code",
   "execution_count": 3,
   "id": "5fd7cd7f",
   "metadata": {
    "scrolled": true
   },
   "outputs": [
    {
     "name": "stdout",
     "output_type": "stream",
     "text": [
      "{'last_letter': 'k'}\n"
     ]
    }
   ],
   "source": [
    "print(gender_features('Shrek'))"
   ]
  },
  {
   "cell_type": "code",
   "execution_count": 4,
   "id": "4571a320",
   "metadata": {},
   "outputs": [
    {
     "name": "stdout",
     "output_type": "stream",
     "text": [
      "['Aamir', 'Aaron', 'Abbey', 'Abbie', 'Abbot', 'Abbott', 'Abby', 'Abdel', 'Abdul', 'Abdulkarim', 'Abdullah', 'Abe', 'Abel', 'Abelard', 'Abner', 'Abraham', 'Abram', 'Ace', 'Adair', 'Adam']\n",
      "['Abagael', 'Abagail', 'Abbe', 'Abbey', 'Abbi', 'Abbie', 'Abby', 'Abigael', 'Abigail', 'Abigale', 'Abra', 'Acacia', 'Ada', 'Adah', 'Adaline', 'Adara', 'Addie', 'Addis', 'Adel', 'Adela']\n"
     ]
    }
   ],
   "source": [
    "# resource for male and female first names\n",
    "from nltk.corpus import names\n",
    "print(names.words('male.txt')[:20])\n",
    "print(names.words('female.txt')[:20])"
   ]
  },
  {
   "cell_type": "code",
   "execution_count": 5,
   "id": "8773057b",
   "metadata": {},
   "outputs": [
    {
     "name": "stdout",
     "output_type": "stream",
     "text": [
      "7944\n",
      "[('Aamir', 'male'), ('Aaron', 'male'), ('Abbey', 'male'), ('Abbie', 'male'), ('Abbot', 'male'), ('Abbott', 'male'), ('Abby', 'male'), ('Abdel', 'male'), ('Abdul', 'male'), ('Abdulkarim', 'male'), ('Abdullah', 'male'), ('Abe', 'male'), ('Abel', 'male'), ('Abelard', 'male'), ('Abner', 'male'), ('Abraham', 'male'), ('Abram', 'male'), ('Ace', 'male'), ('Adair', 'male'), ('Adam', 'male')]\n",
      "[('Zena', 'female'), ('Zenia', 'female'), ('Zia', 'female'), ('Zilvia', 'female'), ('Zita', 'female'), ('Zitella', 'female'), ('Zoe', 'female'), ('Zola', 'female'), ('Zonda', 'female'), ('Zondra', 'female'), ('Zonnya', 'female'), ('Zora', 'female'), ('Zorah', 'female'), ('Zorana', 'female'), ('Zorina', 'female'), ('Zorine', 'female'), ('Zsa Zsa', 'female'), ('Zsazsa', 'female'), ('Zulema', 'female'), ('Zuzana', 'female')]\n"
     ]
    }
   ],
   "source": [
    "# make list of male and female names paired with gender\n",
    "namesgender = ([(name, 'male') for name in names.words('male.txt')] +\n",
    "          [(name, 'female') for name in names.words('female.txt')])\n",
    "print(len(namesgender))\n",
    "print(namesgender[:20])\n",
    "print(namesgender[7924:])"
   ]
  },
  {
   "cell_type": "code",
   "execution_count": 6,
   "id": "bf7938fa",
   "metadata": {},
   "outputs": [
    {
     "name": "stdout",
     "output_type": "stream",
     "text": [
      "[('Aleda', 'female'), ('Sybyl', 'female'), ('Osborne', 'male'), ('Stephie', 'female'), ('Mehetabel', 'female'), ('Erda', 'female'), ('Sean', 'female'), ('Nathanil', 'male'), ('Analiese', 'female'), ('Stig', 'male'), ('Aurore', 'female'), ('Fancie', 'female'), ('Leonidas', 'male'), ('Jillayne', 'female'), ('Delphinia', 'female'), ('Ashish', 'male'), ('Cathrin', 'female'), ('Merna', 'female'), ('Kat', 'female'), ('Yule', 'male')]\n"
     ]
    }
   ],
   "source": [
    "# put the list into random order\n",
    "import random\n",
    "random.shuffle(namesgender)\n",
    "print(namesgender[:20])"
   ]
  },
  {
   "cell_type": "code",
   "execution_count": 7,
   "id": "dc552cd7",
   "metadata": {},
   "outputs": [],
   "source": [
    "# separate the names into training and test\n",
    "train_names = namesgender[500:]\n",
    "test_names = namesgender[:500]"
   ]
  },
  {
   "cell_type": "code",
   "execution_count": 8,
   "id": "81a7894d",
   "metadata": {},
   "outputs": [
    {
     "name": "stdout",
     "output_type": "stream",
     "text": [
      "[({'last_letter': 'a'}, 'female'), ({'last_letter': 'e'}, 'female'), ({'last_letter': 'y'}, 'female'), ({'last_letter': 'e'}, 'female'), ({'last_letter': 'a'}, 'female'), ({'last_letter': 'y'}, 'female'), ({'last_letter': 'e'}, 'female'), ({'last_letter': 'a'}, 'female'), ({'last_letter': 'i'}, 'female'), ({'last_letter': 'n'}, 'male'), ({'last_letter': 'n'}, 'female'), ({'last_letter': 'a'}, 'female'), ({'last_letter': 'n'}, 'female'), ({'last_letter': 'e'}, 'female'), ({'last_letter': 'e'}, 'female'), ({'last_letter': 's'}, 'male'), ({'last_letter': 'l'}, 'male'), ({'last_letter': 'a'}, 'female'), ({'last_letter': 'l'}, 'female'), ({'last_letter': 'y'}, 'female')]\n"
     ]
    }
   ],
   "source": [
    "# use our features to train a classify and test on the development test set\n",
    "train_set = [(gender_features(n), g) for (n, g) in train_names]\n",
    "test_set = [(gender_features(n), g) for (n, g) in test_names]\n",
    "print(train_set[:20])"
   ]
  },
  {
   "cell_type": "code",
   "execution_count": 9,
   "id": "3840ca32",
   "metadata": {},
   "outputs": [],
   "source": [
    "classifier = nltk.NaiveBayesClassifier.train(train_set)"
   ]
  },
  {
   "cell_type": "code",
   "execution_count": 10,
   "id": "e53783fd",
   "metadata": {},
   "outputs": [
    {
     "name": "stdout",
     "output_type": "stream",
     "text": [
      "male\n",
      "female\n"
     ]
    }
   ],
   "source": [
    "# classify new instances\n",
    "print(classifier.classify(gender_features('Neo')))\n",
    "print(classifier.classify(gender_features('Trinity')))"
   ]
  },
  {
   "cell_type": "code",
   "execution_count": 11,
   "id": "1585e0bb",
   "metadata": {},
   "outputs": [
    {
     "name": "stdout",
     "output_type": "stream",
     "text": [
      "0.732\n"
     ]
    }
   ],
   "source": [
    "# classify accuracy function runs the classifier on the test set and reports\n",
    "#   comparisons between predicted labels and actual/gold labels\n",
    "print(nltk.classify.accuracy(classifier, test_set))"
   ]
  },
  {
   "cell_type": "code",
   "execution_count": 12,
   "id": "c09f3718",
   "metadata": {},
   "outputs": [
    {
     "name": "stdout",
     "output_type": "stream",
     "text": [
      "Most Informative Features\n",
      "             last_letter = 'a'            female : male   =     34.4 : 1.0\n",
      "             last_letter = 'k'              male : female =     31.9 : 1.0\n",
      "             last_letter = 'f'              male : female =     16.7 : 1.0\n",
      "             last_letter = 'p'              male : female =     11.9 : 1.0\n",
      "             last_letter = 'v'              male : female =     11.2 : 1.0\n",
      "             last_letter = 'd'              male : female =      9.4 : 1.0\n",
      "             last_letter = 'o'              male : female =      9.0 : 1.0\n",
      "             last_letter = 'm'              male : female =      8.8 : 1.0\n",
      "             last_letter = 'r'              male : female =      7.0 : 1.0\n",
      "             last_letter = 'g'              male : female =      5.1 : 1.0\n",
      "             last_letter = 'w'              male : female =      5.1 : 1.0\n",
      "             last_letter = 'u'              male : female =      4.7 : 1.0\n",
      "             last_letter = 's'              male : female =      4.3 : 1.0\n",
      "             last_letter = 't'              male : female =      3.9 : 1.0\n",
      "             last_letter = 'i'            female : male   =      3.7 : 1.0\n",
      "             last_letter = 'z'              male : female =      3.6 : 1.0\n",
      "             last_letter = 'b'              male : female =      3.1 : 1.0\n",
      "             last_letter = 'j'              male : female =      2.8 : 1.0\n",
      "             last_letter = 'n'              male : female =      2.1 : 1.0\n",
      "             last_letter = 'x'              male : female =      1.9 : 1.0\n",
      "None\n"
     ]
    }
   ],
   "source": [
    "# this function available for naive bayes classifiers\n",
    "print(classifier.show_most_informative_features(20))"
   ]
  },
  {
   "cell_type": "code",
   "execution_count": 13,
   "id": "a56feaf3",
   "metadata": {},
   "outputs": [],
   "source": [
    "# define a function that will compare the classifier labels with the gold standard labels\n",
    "def geterrors(test):\n",
    "    errors = []\n",
    "    for (name, tag) in test:\n",
    "        guess = classifier.classify(gender_features(name))\n",
    "        if guess != tag:\n",
    "            errors.append( (tag, guess, name) )\n",
    "    return errors"
   ]
  },
  {
   "cell_type": "code",
   "execution_count": 14,
   "id": "dde4505e",
   "metadata": {},
   "outputs": [
    {
     "name": "stdout",
     "output_type": "stream",
     "text": [
      "134\n"
     ]
    }
   ],
   "source": [
    "errors = geterrors(test_names)\n",
    "print(len(errors))"
   ]
  },
  {
   "cell_type": "code",
   "execution_count": 15,
   "id": "303d1e0e",
   "metadata": {},
   "outputs": [],
   "source": [
    "# define a function to print the errors\n",
    "def printerrors(errors):\n",
    "    for (tag, guess, name) in sorted(errors):\n",
    "        print('correct={:<8s} guess={:<8s} name={:<30s}'.format(tag, guess, name))"
   ]
  },
  {
   "cell_type": "code",
   "execution_count": 16,
   "id": "e5a51c1c",
   "metadata": {},
   "outputs": [
    {
     "name": "stdout",
     "output_type": "stream",
     "text": [
      "correct=female   guess=male     name=Adel                          \n",
      "correct=female   guess=male     name=Alleen                        \n",
      "correct=female   guess=male     name=Alys                          \n",
      "correct=female   guess=male     name=Annabal                       \n",
      "correct=female   guess=male     name=Anne-Mar                      \n",
      "correct=female   guess=male     name=Ariel                         \n",
      "correct=female   guess=male     name=Aurel                         \n",
      "correct=female   guess=male     name=Beau                          \n",
      "correct=female   guess=male     name=Bess                          \n",
      "correct=female   guess=male     name=Brenn                         \n",
      "correct=female   guess=male     name=Bryn                          \n",
      "correct=female   guess=male     name=Brynn                         \n",
      "correct=female   guess=male     name=Cathleen                      \n",
      "correct=female   guess=male     name=Cathrin                       \n",
      "correct=female   guess=male     name=Christal                      \n",
      "correct=female   guess=male     name=Clovis                        \n",
      "correct=female   guess=male     name=Corliss                       \n",
      "correct=female   guess=male     name=Dionis                        \n",
      "correct=female   guess=male     name=Dix                           \n",
      "correct=female   guess=male     name=Dot                           \n",
      "correct=female   guess=male     name=Estel                         \n",
      "correct=female   guess=male     name=Evangelin                     \n",
      "correct=female   guess=male     name=Fran                          \n",
      "correct=female   guess=male     name=Gael                          \n",
      "correct=female   guess=male     name=Gennifer                      \n",
      "correct=female   guess=male     name=Germain                       \n",
      "correct=female   guess=male     name=Harriet                       \n",
      "correct=female   guess=male     name=Inger                         \n",
      "correct=female   guess=male     name=Ingrid                        \n",
      "correct=female   guess=male     name=Isabeau                       \n",
      "correct=female   guess=male     name=Joell                         \n",
      "correct=female   guess=male     name=Jordan                        \n",
      "correct=female   guess=male     name=Jourdan                       \n",
      "correct=female   guess=male     name=Karel                         \n",
      "correct=female   guess=male     name=Karen                         \n",
      "correct=female   guess=male     name=Karol                         \n",
      "correct=female   guess=male     name=Kat                           \n",
      "correct=female   guess=male     name=Katheleen                     \n",
      "correct=female   guess=male     name=Kellen                        \n",
      "correct=female   guess=male     name=Kellyann                      \n",
      "correct=female   guess=male     name=Kirsten                       \n",
      "correct=female   guess=male     name=Krystal                       \n",
      "correct=female   guess=male     name=Linnell                       \n",
      "correct=female   guess=male     name=Mariann                       \n",
      "correct=female   guess=male     name=Mehetabel                     \n",
      "correct=female   guess=male     name=Milicent                      \n",
      "correct=female   guess=male     name=Myriam                        \n",
      "correct=female   guess=male     name=Peg                           \n",
      "correct=female   guess=male     name=Phil                          \n",
      "correct=female   guess=male     name=Rakel                         \n",
      "correct=female   guess=male     name=Reiko                         \n",
      "correct=female   guess=male     name=Roseann                       \n",
      "correct=female   guess=male     name=Sal                           \n",
      "correct=female   guess=male     name=Sean                          \n",
      "correct=female   guess=male     name=Sharon                        \n",
      "correct=female   guess=male     name=Sileas                        \n",
      "correct=female   guess=male     name=Susan                         \n",
      "correct=female   guess=male     name=Susann                        \n",
      "correct=female   guess=male     name=Sybyl                         \n",
      "correct=female   guess=male     name=Tamiko                        \n",
      "correct=female   guess=male     name=Taryn                         \n",
      "correct=female   guess=male     name=Theo                          \n",
      "correct=female   guess=male     name=Van                           \n",
      "correct=male     guess=female   name=Alphonse                      \n",
      "correct=male     guess=female   name=Anatole                       \n",
      "correct=male     guess=female   name=Ari                           \n",
      "correct=male     guess=female   name=Arvie                         \n",
      "correct=male     guess=female   name=Ashish                        \n",
      "correct=male     guess=female   name=Aubrey                        \n",
      "correct=male     guess=female   name=Blayne                        \n",
      "correct=male     guess=female   name=Boniface                      \n",
      "correct=male     guess=female   name=Burke                         \n",
      "correct=male     guess=female   name=Carmine                       \n",
      "correct=male     guess=female   name=Claude                        \n",
      "correct=male     guess=female   name=Clay                          \n",
      "correct=male     guess=female   name=Claybourne                    \n",
      "correct=male     guess=female   name=Cy                            \n",
      "correct=male     guess=female   name=Dannie                        \n",
      "correct=male     guess=female   name=Davey                         \n",
      "correct=male     guess=female   name=Drake                         \n",
      "correct=male     guess=female   name=Emory                         \n",
      "correct=male     guess=female   name=Finley                        \n",
      "correct=male     guess=female   name=Garvy                         \n",
      "correct=male     guess=female   name=Gay                           \n",
      "correct=male     guess=female   name=Gere                          \n",
      "correct=male     guess=female   name=Goose                         \n",
      "correct=male     guess=female   name=Gordie                        \n",
      "correct=male     guess=female   name=Grady                         \n",
      "correct=male     guess=female   name=Hadleigh                      \n",
      "correct=male     guess=female   name=Herve                         \n",
      "correct=male     guess=female   name=Iggy                          \n",
      "correct=male     guess=female   name=Jae                           \n",
      "correct=male     guess=female   name=Jerrome                       \n",
      "correct=male     guess=female   name=Jimmie                        \n",
      "correct=male     guess=female   name=Lanny                         \n",
      "correct=male     guess=female   name=Lenny                         \n",
      "correct=male     guess=female   name=Lindsay                       \n",
      "correct=male     guess=female   name=Martie                        \n",
      "correct=male     guess=female   name=Marve                         \n",
      "correct=male     guess=female   name=Micah                         \n",
      "correct=male     guess=female   name=Michale                       \n",
      "correct=male     guess=female   name=Mickey                        \n",
      "correct=male     guess=female   name=Moishe                        \n",
      "correct=male     guess=female   name=Morrie                        \n",
      "correct=male     guess=female   name=Murphy                        \n",
      "correct=male     guess=female   name=Mustafa                       \n",
      "correct=male     guess=female   name=Ole                           \n",
      "correct=male     guess=female   name=Orbadiah                      \n",
      "correct=male     guess=female   name=Osborne                       \n",
      "correct=male     guess=female   name=Patsy                         \n",
      "correct=male     guess=female   name=Pete                          \n",
      "correct=male     guess=female   name=Rafe                          \n",
      "correct=male     guess=female   name=Ripley                        \n",
      "correct=male     guess=female   name=Roarke                        \n",
      "correct=male     guess=female   name=Rodge                         \n",
      "correct=male     guess=female   name=Roni                          \n",
      "correct=male     guess=female   name=Samuele                       \n",
      "correct=male     guess=female   name=Si                            \n",
      "correct=male     guess=female   name=Sly                           \n",
      "correct=male     guess=female   name=Sterne                        \n",
      "correct=male     guess=female   name=Sydney                        \n",
      "correct=male     guess=female   name=Terri                         \n",
      "correct=male     guess=female   name=Thatch                        \n",
      "correct=male     guess=female   name=Thorny                        \n",
      "correct=male     guess=female   name=Tobie                         \n",
      "correct=male     guess=female   name=Tremaine                      \n",
      "correct=male     guess=female   name=Vasily                        \n",
      "correct=male     guess=female   name=Vijay                         \n",
      "correct=male     guess=female   name=Waverly                       \n",
      "correct=male     guess=female   name=Welby                         \n",
      "correct=male     guess=female   name=Whitney                       \n",
      "correct=male     guess=female   name=Wiley                         \n",
      "correct=male     guess=female   name=Wittie                        \n",
      "correct=male     guess=female   name=Yule                          \n"
     ]
    }
   ],
   "source": [
    "printerrors(errors)"
   ]
  },
  {
   "cell_type": "code",
   "execution_count": 17,
   "id": "ea95e1f4",
   "metadata": {},
   "outputs": [],
   "source": [
    "## classify part of speech based on sentence context\n",
    "from nltk.corpus import brown"
   ]
  },
  {
   "cell_type": "code",
   "execution_count": 18,
   "id": "e7d1f410",
   "metadata": {},
   "outputs": [],
   "source": [
    "# define features for the \"i\"th word in the sentence, including three types of suffix \n",
    "#     and one pre-word\n",
    "# the pos features function takes the sentence of untagged words and the index of a word i\n",
    "#   it creates features for word i, including the previous word i-1\n",
    "def pos_features(sentence, i):    \n",
    "    features = {\"suffix(1)\": sentence[i][-1:],\n",
    "\t\t    \"suffix(2)\": sentence[i][-2:],\n",
    "\t\t    \"suffix(3)\": sentence[i][-3:]}\n",
    "    if i == 0:\n",
    "        features[\"prev-word\"] = \"<START>\"\n",
    "    else:\n",
    "        features[\"prev-word\"] = sentence[i-1]\n",
    "    return features "
   ]
  },
  {
   "cell_type": "code",
   "execution_count": 19,
   "id": "2a13e2ac",
   "metadata": {},
   "outputs": [
    {
     "name": "stdout",
     "output_type": "stream",
     "text": [
      "['The', 'Fulton', 'County', 'Grand', 'Jury', 'said', 'Friday', 'an', 'investigation', 'of', \"Atlanta's\", 'recent', 'primary', 'election', 'produced', '``', 'no', 'evidence', \"''\", 'that', 'any', 'irregularities', 'took', 'place', '.']\n",
      "investigation\n"
     ]
    }
   ],
   "source": [
    "# look at features of a specific word in a specific sentence\n",
    "# first sentence of brown corpus\n",
    "sentence0 = brown.sents()[0]\n",
    "print(sentence0)\n",
    "# word 8 of sentence 0\n",
    "print(sentence0[8])"
   ]
  },
  {
   "cell_type": "code",
   "execution_count": 20,
   "id": "096ae7e7",
   "metadata": {},
   "outputs": [
    {
     "name": "stdout",
     "output_type": "stream",
     "text": [
      "{'suffix(1)': 'n', 'suffix(2)': 'on', 'suffix(3)': 'ion', 'prev-word': 'an'}\n"
     ]
    }
   ],
   "source": [
    "# pos features of the word 8 \n",
    "print(pos_features(sentence0, 8))"
   ]
  },
  {
   "cell_type": "code",
   "execution_count": 21,
   "id": "6a96e7b2",
   "metadata": {},
   "outputs": [
    {
     "data": {
      "text/plain": [
       "[('The', 'AT'),\n",
       " ('Fulton', 'NP-TL'),\n",
       " ('County', 'NN-TL'),\n",
       " ('Grand', 'JJ-TL'),\n",
       " ('Jury', 'NN-TL'),\n",
       " ('said', 'VBD'),\n",
       " ('Friday', 'NR'),\n",
       " ('an', 'AT'),\n",
       " ('investigation', 'NN'),\n",
       " ('of', 'IN'),\n",
       " (\"Atlanta's\", 'NP$'),\n",
       " ('recent', 'JJ'),\n",
       " ('primary', 'NN'),\n",
       " ('election', 'NN'),\n",
       " ('produced', 'VBD'),\n",
       " ('``', '``'),\n",
       " ('no', 'AT'),\n",
       " ('evidence', 'NN'),\n",
       " (\"''\", \"''\"),\n",
       " ('that', 'CS'),\n",
       " ('any', 'DTI'),\n",
       " ('irregularities', 'NNS'),\n",
       " ('took', 'VBD'),\n",
       " ('place', 'NN'),\n",
       " ('.', '.')]"
      ]
     },
     "execution_count": 21,
     "metadata": {},
     "output_type": "execute_result"
    }
   ],
   "source": [
    "# get the POS tagged sentences with categories of news\n",
    "tagged_sents = brown.tagged_sents(categories='news')\n",
    "tag_sent0 = tagged_sents[0]\n",
    "tag_sent0"
   ]
  },
  {
   "cell_type": "code",
   "execution_count": 22,
   "id": "8a2a41d3",
   "metadata": {},
   "outputs": [
    {
     "data": {
      "text/plain": [
       "['The',\n",
       " 'Fulton',\n",
       " 'County',\n",
       " 'Grand',\n",
       " 'Jury',\n",
       " 'said',\n",
       " 'Friday',\n",
       " 'an',\n",
       " 'investigation',\n",
       " 'of',\n",
       " \"Atlanta's\",\n",
       " 'recent',\n",
       " 'primary',\n",
       " 'election',\n",
       " 'produced',\n",
       " '``',\n",
       " 'no',\n",
       " 'evidence',\n",
       " \"''\",\n",
       " 'that',\n",
       " 'any',\n",
       " 'irregularities',\n",
       " 'took',\n",
       " 'place',\n",
       " '.']"
      ]
     },
     "execution_count": 22,
     "metadata": {},
     "output_type": "execute_result"
    }
   ],
   "source": [
    "# the function nltk.tag.untag will take the tags off\n",
    "nltk.tag.untag(tag_sent0)"
   ]
  },
  {
   "cell_type": "code",
   "execution_count": 23,
   "id": "b589d858",
   "metadata": {},
   "outputs": [
    {
     "name": "stdout",
     "output_type": "stream",
     "text": [
      "0 The AT\n",
      "1 Fulton NP-TL\n",
      "2 County NN-TL\n",
      "3 Grand JJ-TL\n",
      "4 Jury NN-TL\n",
      "5 said VBD\n",
      "6 Friday NR\n",
      "7 an AT\n",
      "8 investigation NN\n",
      "9 of IN\n",
      "10 Atlanta's NP$\n",
      "11 recent JJ\n",
      "12 primary NN\n",
      "13 election NN\n",
      "14 produced VBD\n",
      "15 `` ``\n",
      "16 no AT\n",
      "17 evidence NN\n",
      "18 '' ''\n",
      "19 that CS\n",
      "20 any DTI\n",
      "21 irregularities NNS\n",
      "22 took VBD\n",
      "23 place NN\n",
      "24 . .\n"
     ]
    }
   ],
   "source": [
    "# the python enumerate function generates an index number for each item in a list\n",
    "for i,(word,tag) in enumerate(tag_sent0):\n",
    "    print (i, word, tag)"
   ]
  },
  {
   "cell_type": "code",
   "execution_count": 24,
   "id": "0d276197",
   "metadata": {},
   "outputs": [],
   "source": [
    "# get feature sets of words appearing in the corpus, from untagged sentences.\n",
    "# and then get their tags from corresponding tagged sentence\n",
    "# use the Python function enumerate to pair the index numbers with sentence words \n",
    "#   for the pos features function\n",
    "featuresets = []\n",
    "for tagged_sent in tagged_sents:\n",
    "\tuntagged_sent = nltk.tag.untag(tagged_sent)\n",
    "\tfor i, (word, tag) in enumerate(tagged_sent):\n",
    "\t\tfeaturesets.append( (pos_features(untagged_sent, i), tag) )"
   ]
  },
  {
   "cell_type": "code",
   "execution_count": 25,
   "id": "6552e79c",
   "metadata": {},
   "outputs": [
    {
     "name": "stdout",
     "output_type": "stream",
     "text": [
      "({'suffix(1)': 'e', 'suffix(2)': 'he', 'suffix(3)': 'The', 'prev-word': '<START>'}, 'AT')\n",
      "({'suffix(1)': 'n', 'suffix(2)': 'on', 'suffix(3)': 'ton', 'prev-word': 'The'}, 'NP-TL')\n",
      "({'suffix(1)': 'y', 'suffix(2)': 'ty', 'suffix(3)': 'nty', 'prev-word': 'Fulton'}, 'NN-TL')\n",
      "({'suffix(1)': 'd', 'suffix(2)': 'nd', 'suffix(3)': 'and', 'prev-word': 'County'}, 'JJ-TL')\n",
      "({'suffix(1)': 'y', 'suffix(2)': 'ry', 'suffix(3)': 'ury', 'prev-word': 'Grand'}, 'NN-TL')\n",
      "({'suffix(1)': 'd', 'suffix(2)': 'id', 'suffix(3)': 'aid', 'prev-word': 'Jury'}, 'VBD')\n",
      "({'suffix(1)': 'y', 'suffix(2)': 'ay', 'suffix(3)': 'day', 'prev-word': 'said'}, 'NR')\n",
      "({'suffix(1)': 'n', 'suffix(2)': 'an', 'suffix(3)': 'an', 'prev-word': 'Friday'}, 'AT')\n",
      "({'suffix(1)': 'n', 'suffix(2)': 'on', 'suffix(3)': 'ion', 'prev-word': 'an'}, 'NN')\n",
      "({'suffix(1)': 'f', 'suffix(2)': 'of', 'suffix(3)': 'of', 'prev-word': 'investigation'}, 'IN')\n"
     ]
    }
   ],
   "source": [
    "# look at the feature sets of the first 10 words\n",
    "for f in featuresets[:10]:\n",
    "\tprint (f)"
   ]
  },
  {
   "cell_type": "code",
   "execution_count": 26,
   "id": "8c522223",
   "metadata": {},
   "outputs": [
    {
     "name": "stdout",
     "output_type": "stream",
     "text": [
      "90499\n",
      "10055\n"
     ]
    }
   ],
   "source": [
    "\t\n",
    "# using naive Bayesian as classifier\n",
    "# split data into a training set and a test set, using a 90%/10% split\n",
    "size = int(len(featuresets) * 0.1)\n",
    "train_set, test_set = featuresets[size:], featuresets[:size]\n",
    "print(len(train_set))\n",
    "print(len(test_set))"
   ]
  },
  {
   "cell_type": "code",
   "execution_count": 27,
   "id": "cfa21a93",
   "metadata": {},
   "outputs": [],
   "source": [
    "# train classifier on the training set\n",
    "classifier = nltk.NaiveBayesClassifier.train(train_set)"
   ]
  },
  {
   "cell_type": "code",
   "execution_count": 28,
   "id": "2be5af52",
   "metadata": {},
   "outputs": [
    {
     "name": "stdout",
     "output_type": "stream",
     "text": [
      "0.7891596220785678\n"
     ]
    }
   ],
   "source": [
    "# evaluate the accuracy (this will take a little while)\n",
    "print(nltk.classify.accuracy(classifier, test_set))\n",
    "# the result is reasonable for features without the previous tag"
   ]
  },
  {
   "cell_type": "code",
   "execution_count": 29,
   "id": "202acf00",
   "metadata": {},
   "outputs": [],
   "source": [
    "### classify documents based on keywords\n",
    "from nltk.corpus import movie_reviews\n",
    "import random"
   ]
  },
  {
   "cell_type": "code",
   "execution_count": 30,
   "id": "abed3cc8",
   "metadata": {},
   "outputs": [
    {
     "name": "stdout",
     "output_type": "stream",
     "text": [
      "['neg', 'pos']\n"
     ]
    }
   ],
   "source": [
    "# movie reviews are labeled either positive or negative (by human annotators)\n",
    "print(movie_reviews.categories())"
   ]
  },
  {
   "cell_type": "code",
   "execution_count": 31,
   "id": "2a7f169f",
   "metadata": {},
   "outputs": [
    {
     "name": "stdout",
     "output_type": "stream",
     "text": [
      "2000\n"
     ]
    }
   ],
   "source": [
    "# for each document in movie_reviews, get its words and category (positive/negative)\n",
    "documents = [(list(movie_reviews.words(fileid)), category)\n",
    "              for category in movie_reviews.categories()\n",
    "              for fileid in movie_reviews.fileids(category)]\n",
    "print(len(documents))"
   ]
  },
  {
   "cell_type": "code",
   "execution_count": 32,
   "id": "e4771d13",
   "metadata": {},
   "outputs": [
    {
     "name": "stdout",
     "output_type": "stream",
     "text": [
      "(['as', 'you', 'should', 'know', ',', 'this', 'summer', 'has', 'been', 'less', 'than', 'memorable', '.', 'with', 'a', 'total', 'of', '4', 'decent', 'films', ',', 'it', \"'\", 's', 'not', 'a', 'surprise', 'that', 'these', 'big', 'budget', 'failures', 'keep', 'appearing', '.', 'with', 'that', 'said', ',', 'you', 'can', 'pretty', 'much', 'predict', 'what', 'my', 'opinion', 'on', '\"', 'the', '13th', 'warrior', '\"', 'will', 'be', '.', 'the', 'film', 'is', 'based', 'on', 'the', 'michael', 'crichton', '\"', 'eaters', 'of', 'the', 'dead', '\"', ',', 'in', 'which', 'ahmed', 'ibn', 'fahdlan', 'is', 'banished', 'from', 'his', 'country', 'for', 'looking', 'at', 'a', 'wife', 'of', 'a', 'king', '.', 'after', 'tarveling', 'for', 'many', 'months', ',', 'he', 'comes', 'across', 'a', 'gang', 'of', 'norsemen', ',', 'who', 'are', 'forced', 'to', 'pick', '13', 'men', 'to', 'protect', 'a', 'town', 'from', 'mythical', 'monsters', 'who', 'travel', 'in', 'the', 'fog', '.', 'so', ',', 'they', 'start', 'picking', 'men', ',', 'and', 'are', 'left', 'without', '1', ',', 'thus', 'ahmed', 'is', 'choosen', '.', 'so', 'far', 'it', 'sounds', 'interesting', 'right', '?', 'not', 'when', 'all', 'of', 'this', 'takes', 'place', 'in', '15', 'minutes', '.', 'after', 'that', ',', 'they', 'basically', 'run', 'around', 'killing', '.', 'that', 'alone', 'shows', 'how', 'much', 'a', 'script', 'is', 'needed', 'for', 'a', 'film', ',', 'because', 'once', 'your', 'story', 'is', 'introduced', ',', 'you', 'have', 'the', 'rest', 'of', 'the', 'film', 'to', 'start', 'developing', 'it', '.', 'obviously', 'that', \"'\", 's', 'not', 'the', 'case', 'here', '.', 'even', 'if', 'you', 'are', 'going', 'into', 'the', 'film', 'expecting', 'an', 'action', 'packed', 'adventure', ',', 'you', 'will', 'be', 'disappointed', '.', 'since', 'all', 'the', 'action', 'takes', 'place', 'in', 'fog', ',', 'it', 'is', 'constantly', 'hard', 'to', 'see', 'a', 'scene', 'clearly', 'due', 'to', 'those', 'circumstances', ',', 'and', 'to', 'poor', 'camera', 'work', '.', 'can', \"'\", 't', 'the', 'camera', 'men', 'sit', 'still', '?', 'i', \"'\", 'd', 'like', 'to', 'actually', 'watch', 'a', 'film', 'in', 'focus', ',', 'but', 'again', ',', 'they', 'failed', 'to', 'deliver', 'that', 'as', 'well', '.', 'the', 'film', 'moves', 'on', 'and', 'on', 'until', 'the', 'point', ',', 'where', 'you', 'can', 'care', 'less', 'about', 'anything', 'but', 'the', 'popcorn', 'you', \"'\", 're', 'eating', '.', 'with', 'corny', 'dialogue', ',', 'that', 'the', 'characters', 'laugh', 'at', 'for', 'some', 'odd', 'reason', ',', 'a', 'script', 'that', 'goes', 'nowhere', ',', 'dull', 'action', 'sequences', ',', 'a', 'predictable', 'ending', ',', 'and', 'worst', 'of', 'all', 'weak', 'characters', ',', 'there', \"'\", 's', 'basically', 'nothing', 'to', 'like', 'here', ',', 'except', 'for', 'maybe', 'the', 'set', 'designs', '.', 'that', \"'\", 's', 'the', 'only', 'thing', 'that', 'honestly', 'caught', 'my', 'interest', '.', 'when', 'i', 'heard', 'that', 'john', 'mctiernan', ',', 'the', 'director', ',', 'wanted', 'his', 'name', 'kept', 'out', 'of', 'the', 'project', ',', 'that', 'made', 'me', 'wonder', 'why', '?', 'well', 'now', 'i', 'know', '.', 'crichton', \"'\", 's', 'greed', 'forced', 'mctiernan', 'to', 'edit', 'his', 'finished', 'product', ',', 'which', 'led', 'to', 'a', 'big', 'arguement', '.', 'what', \"'\", 's', 'there', 'to', 'argue', 'about', 'anyway', '?', 'the', 'film', 'couldn', \"'\", 't', 'be', 'saved', ',', 'no', 'matter', 'how', 'much', 'they', 'spent', 'or', 'casted', '.', 'seeing', 'films', 'like', 'the', 'haunting', 'and', 'big', 'daddy', 'making', 'money', ',', 'i', 'wouldn', \"'\", 't', 'be', 'surprised', 'to', 'see', '\"', 'the', '13th', 'warrior', '\"', 'become', 'a', 'hit', '.', 'please', 'do', 'me', 'a', 'favor', 'and', 'save', 'your', 'money', 'at', 'all', 'costs', ',', 'or', 'else', 'you', 'will', 'be', 'lost', 'in', 'the', 'fog', ',', 'like', 'the', 'film', 'itself', '.'], 'neg')\n"
     ]
    }
   ],
   "source": [
    "random.shuffle(documents)\n",
    "# look at the first document - consists of a list of all the words in the review\n",
    "# followed by the category\n",
    "print(documents[0])"
   ]
  },
  {
   "cell_type": "code",
   "execution_count": 33,
   "id": "9312a58d",
   "metadata": {},
   "outputs": [
    {
     "name": "stdout",
     "output_type": "stream",
     "text": [
      "39768\n"
     ]
    }
   ],
   "source": [
    "## use words from all documents to define the word vector for features\n",
    "# get all words from all movie_reviews and put into a frequency distribution\n",
    "all_words = nltk.FreqDist(w.lower() for w in movie_reviews.words())\n",
    "print(len(all_words))"
   ]
  },
  {
   "cell_type": "code",
   "execution_count": 34,
   "id": "ff159cbe",
   "metadata": {},
   "outputs": [],
   "source": [
    "# get the 2000 most frequently appearing keywords in the corpus\n",
    "word_items = all_words.most_common(2000)\n",
    "word_features = [word for (word, freq) in word_items]   # just the words"
   ]
  },
  {
   "cell_type": "code",
   "execution_count": 35,
   "id": "e2ef0021",
   "metadata": {},
   "outputs": [
    {
     "name": "stdout",
     "output_type": "stream",
     "text": [
      "[',', 'the', '.', 'a', 'and', 'of', 'to', \"'\", 'is', 'in', 's', '\"', 'it', 'that', '-', ')', '(', 'as', 'with', 'for', 'his', 'this', 'film', 'i', 'he', 'but', 'on', 'are', 't', 'by', 'be', 'one', 'movie', 'an', 'who', 'not', 'you', 'from', 'at', 'was', 'have', 'they', 'has', 'her', 'all', '?', 'there', 'like', 'so', 'out', 'about', 'up', 'more', 'what', 'when', 'which', 'or', 'she', 'their', ':', 'some', 'just', 'can', 'if', 'we', 'him', 'into', 'even', 'only', 'than', 'no', 'good', 'time', 'most', 'its', 'will', 'story', 'would', 'been', 'much', 'character', 'also', 'get', 'other', 'do', 'two', 'well', 'them', 'very', 'characters', ';', 'first', '--', 'after', 'see', '!', 'way', 'because', 'make', 'life']\n"
     ]
    }
   ],
   "source": [
    "# look at the first 100 words\n",
    "print(word_features[:100])"
   ]
  },
  {
   "cell_type": "code",
   "execution_count": 36,
   "id": "bda025c8",
   "metadata": {},
   "outputs": [],
   "source": [
    "# define features (keywords) of a document\n",
    "# each feature is 'contains(keyword)' and is true or false depending\n",
    "# on whether that keyword is in the document\n",
    "def document_features(document, word_features):\n",
    "\tdocument_words = set(document)\n",
    "\tfeatures = {}\n",
    "\tfor word in word_features:\n",
    "\t\tfeatures['V_%s' % word] = (word in document_words)\n",
    "\treturn features"
   ]
  },
  {
   "cell_type": "code",
   "execution_count": 37,
   "id": "8ef5a95a",
   "metadata": {},
   "outputs": [],
   "source": [
    "# get features sets for a document, including keyword features and category feature\n",
    "featuresets = [(document_features(d, word_features), c) for (d,c) in documents]"
   ]
  },
  {
   "cell_type": "code",
   "execution_count": 38,
   "id": "4c274a36",
   "metadata": {},
   "outputs": [
    {
     "name": "stdout",
     "output_type": "stream",
     "text": [
      "({'V_,': True, 'V_the': True, 'V_.': True, 'V_a': True, 'V_and': True, 'V_of': True, 'V_to': True, \"V_'\": True, 'V_is': True, 'V_in': True, 'V_s': True, 'V_\"': True, 'V_it': True, 'V_that': True, 'V_-': False, 'V_)': False, 'V_(': False, 'V_as': True, 'V_with': True, 'V_for': True, 'V_his': True, 'V_this': True, 'V_film': True, 'V_i': True, 'V_he': True, 'V_but': True, 'V_on': True, 'V_are': True, 'V_t': True, 'V_by': False, 'V_be': True, 'V_one': False, 'V_movie': False, 'V_an': True, 'V_who': True, 'V_not': True, 'V_you': True, 'V_from': True, 'V_at': True, 'V_was': False, 'V_have': True, 'V_they': True, 'V_has': True, 'V_her': False, 'V_all': True, 'V_?': True, 'V_there': True, 'V_like': True, 'V_so': True, 'V_out': True, 'V_about': True, 'V_up': False, 'V_more': False, 'V_what': True, 'V_when': True, 'V_which': True, 'V_or': True, 'V_she': False, 'V_their': False, 'V_:': False, 'V_some': True, 'V_just': False, 'V_can': True, 'V_if': True, 'V_we': False, 'V_him': False, 'V_into': True, 'V_even': True, 'V_only': True, 'V_than': True, 'V_no': True, 'V_good': False, 'V_time': False, 'V_most': False, 'V_its': False, 'V_will': True, 'V_story': True, 'V_would': False, 'V_been': True, 'V_much': True, 'V_character': False, 'V_also': False, 'V_get': False, 'V_other': False, 'V_do': True, 'V_two': False, 'V_well': True, 'V_them': False, 'V_very': False, 'V_characters': True, 'V_;': False, 'V_first': False, 'V_--': False, 'V_after': True, 'V_see': True, 'V_!': False, 'V_way': False, 'V_because': True, 'V_make': False, 'V_life': False, 'V_off': False, 'V_too': False, 'V_any': False, 'V_does': False, 'V_really': False, 'V_had': False, 'V_while': False, 'V_films': True, 'V_how': True, 'V_plot': False, 'V_little': False, 'V_where': True, 'V_people': False, 'V_over': False, 'V_could': False, 'V_then': False, 'V_me': True, 'V_scene': True, 'V_man': False, 'V_bad': False, 'V_my': True, 'V_never': False, 'V_being': False, 'V_best': False, 'V_these': True, 'V_don': False, 'V_new': False, 'V_doesn': False, 'V_scenes': False, 'V_many': True, 'V_director': True, 'V_such': False, 'V_know': True, 'V_were': False, 'V_movies': False, 'V_through': False, 'V_here': True, 'V_action': True, 'V_great': False, 'V_re': True, 'V_another': False, 'V_love': False, 'V_go': False, 'V_made': True, 'V_us': False, 'V_big': True, 'V_end': False, 'V_something': False, 'V_back': False, 'V_*': False, 'V_still': True, 'V_world': False, 'V_seems': False, 'V_work': True, 'V_those': True, 'V_makes': False, 'V_now': True, 'V_before': False, 'V_however': False, 'V_between': False, 'V_few': False, 'V_/': False, 'V_down': False, 'V_every': False, 'V_though': False, 'V_better': False, 'V_real': False, 'V_audience': False, 'V_enough': False, 'V_seen': False, 'V_take': False, 'V_around': True, 'V_both': False, 'V_going': True, 'V_year': False, 'V_performance': False, 'V_why': True, 'V_should': True, 'V_role': False, 'V_isn': False, 'V_same': False, 'V_old': False, 'V_gets': False, 'V_your': True, 'V_may': False, 'V_things': False, 'V_think': False, 'V_years': False, 'V_last': False, 'V_comedy': False, 'V_funny': False, 'V_actually': True, 'V_ve': False, 'V_long': False, 'V_look': False, 'V_almost': False, 'V_own': False, 'V_thing': True, 'V_fact': False, 'V_nothing': True, 'V_say': False, 'V_right': True, 'V_john': True, 'V_although': False, 'V_played': False, 'V_find': False, 'V_script': True, 'V_come': False, 'V_ever': False, 'V_cast': False, 'V_since': True, 'V_did': False, 'V_star': False, 'V_plays': False, 'V_young': False, 'V_show': False, 'V_comes': True, 'V_m': False, 'V_part': False, 'V_original': False, 'V_actors': False, 'V_screen': False, 'V_without': True, 'V_again': True, 'V_acting': False, 'V_three': False, 'V_day': False, 'V_each': False, 'V_point': True, 'V_lot': False, 'V_least': False, 'V_takes': True, 'V_guy': False, 'V_quite': False, 'V_himself': False, 'V_away': False, 'V_during': False, 'V_family': False, 'V_effects': False, 'V_course': False, 'V_goes': True, 'V_minutes': True, 'V_interesting': True, 'V_might': False, 'V_far': True, 'V_high': False, 'V_rather': False, 'V_once': True, 'V_must': False, 'V_anything': True, 'V_place': True, 'V_set': True, 'V_yet': False, 'V_watch': True, 'V_d': True, 'V_making': True, 'V_our': False, 'V_wife': True, 'V_hard': True, 'V_always': False, 'V_fun': False, 'V_didn': False, 'V_ll': False, 'V_seem': False, 'V_special': False, 'V_bit': False, 'V_times': False, 'V_trying': False, 'V_hollywood': False, 'V_instead': False, 'V_give': False, 'V_want': False, 'V_picture': False, 'V_kind': False, 'V_american': False, 'V_job': False, 'V_sense': False, 'V_woman': False, 'V_home': False, 'V_having': False, 'V_series': False, 'V_actor': False, 'V_probably': False, 'V_help': False, 'V_half': False, 'V_along': False, 'V_men': True, 'V_everything': False, 'V_pretty': True, 'V_becomes': False, 'V_sure': False, 'V_black': False, 'V_together': False, 'V_dialogue': True, 'V_money': True, 'V_become': True, 'V_gives': False, 'V_given': False, 'V_looking': True, 'V_whole': False, 'V_watching': False, 'V_father': False, 'V_`': False, 'V_feel': False, 'V_everyone': False, 'V_music': False, 'V_wants': False, 'V_sex': False, 'V_less': True, 'V_done': False, 'V_horror': False, 'V_got': False, 'V_death': False, 'V_perhaps': False, 'V_city': False, 'V_next': False, 'V_especially': False, 'V_play': False, 'V_girl': False, 'V_mind': False, 'V_10': False, 'V_moments': False, 'V_looks': False, 'V_completely': False, 'V_2': False, 'V_reason': True, 'V_mother': False, 'V_whose': False, 'V_line': False, 'V_night': False, 'V_human': False, 'V_until': True, 'V_rest': True, 'V_performances': False, 'V_different': False, 'V_evil': False, 'V_small': False, 'V_james': False, 'V_simply': False, 'V_couple': False, 'V_put': False, 'V_let': False, 'V_anyone': False, 'V_ending': True, 'V_case': True, 'V_several': False, 'V_dead': True, 'V_michael': True, 'V_left': True, 'V_thought': False, 'V_school': False, 'V_shows': True, 'V_humor': False, 'V_true': False, 'V_lost': True, 'V_written': False, 'V_itself': True, 'V_friend': False, 'V_entire': False, 'V_getting': False, 'V_town': True, 'V_turns': False, 'V_soon': False, 'V_someone': False, 'V_second': False, 'V_main': False, 'V_stars': False, 'V_found': False, 'V_use': False, 'V_problem': False, 'V_friends': False, 'V_tv': False, 'V_top': False, 'V_name': True, 'V_begins': False, 'V_called': False, 'V_based': True, 'V_comic': False, 'V_david': False, 'V_head': False, 'V_else': True, 'V_idea': False, 'V_either': False, 'V_wrong': False, 'V_unfortunately': False, 'V_later': False, 'V_final': False, 'V_hand': False, 'V_alien': False, 'V_house': False, 'V_group': False, 'V_full': False, 'V_used': False, 'V_tries': False, 'V_often': False, 'V_against': False, 'V_war': False, 'V_sequence': False, 'V_keep': True, 'V_turn': False, 'V_playing': False, 'V_boy': False, 'V_behind': False, 'V_named': False, 'V_certainly': False, 'V_live': False, 'V_believe': False, 'V_under': False, 'V_works': False, 'V_relationship': False, 'V_face': False, 'V_hour': False, 'V_run': True, 'V_style': False, 'V_said': True, 'V_despite': False, 'V_person': False, 'V_finally': False, 'V_shot': False, 'V_book': False, 'V_doing': False, 'V_tell': False, 'V_maybe': True, 'V_nice': False, 'V_son': False, 'V_perfect': False, 'V_side': False, 'V_seeing': True, 'V_able': False, 'V_finds': False, 'V_children': False, 'V_days': False, 'V_past': False, 'V_summer': True, 'V_camera': True, 'V_won': False, 'V_including': False, 'V_mr': False, 'V_kids': False, 'V_lives': False, 'V_directed': False, 'V_moment': False, 'V_game': False, 'V_running': False, 'V_fight': False, 'V_supposed': False, 'V_video': False, 'V_car': False, 'V_matter': True, 'V_kevin': False, 'V_joe': False, 'V_lines': False, 'V_worth': False, 'V_=': False, 'V_daughter': False, 'V_earth': False, 'V_starts': False, 'V_need': False, 'V_entertaining': False, 'V_white': False, 'V_start': True, 'V_writer': False, 'V_dark': False, 'V_short': False, 'V_self': False, 'V_worst': True, 'V_nearly': False, 'V_opening': False, 'V_try': False, 'V_upon': False, 'V_care': True, 'V_early': False, 'V_violence': False, 'V_throughout': False, 'V_team': False, 'V_production': False, 'V_example': False, 'V_beautiful': False, 'V_title': False, 'V_exactly': False, 'V_jack': False, 'V_review': False, 'V_major': False, 'V_drama': False, 'V_&': False, 'V_problems': False, 'V_sequences': True, 'V_obvious': False, 'V_version': False, 'V_screenplay': False, 'V_known': False, 'V_killer': False, 'V_wasn': False, 'V_robert': False, 'V_disney': False, 'V_already': False, 'V_close': False, 'V_classic': False, 'V_others': False, 'V_hit': True, 'V_kill': False, 'V_deep': False, 'V_five': False, 'V_order': False, 'V_act': False, 'V_simple': False, 'V_fine': False, 'V_themselves': False, 'V_heart': False, 'V_roles': False, 'V_jackie': False, 'V_direction': False, 'V_eyes': False, 'V_four': False, 'V_question': False, 'V_sort': False, 'V_sometimes': False, 'V_knows': False, 'V_supporting': False, 'V_coming': False, 'V_voice': False, 'V_women': False, 'V_truly': False, 'V_save': True, 'V_jokes': False, 'V_computer': False, 'V_child': False, 'V_o': False, 'V_boring': False, 'V_tom': False, 'V_level': False, 'V_1': True, 'V_body': False, 'V_guys': False, 'V_genre': False, 'V_brother': False, 'V_strong': False, 'V_stop': False, 'V_room': False, 'V_space': False, 'V_lee': False, 'V_ends': False, 'V_beginning': False, 'V_ship': False, 'V_york': False, 'V_attempt': False, 'V_thriller': False, 'V_scream': False, 'V_peter': False, 'V_aren': False, 'V_husband': False, 'V_fiction': False, 'V_happens': False, 'V_hero': False, 'V_novel': False, 'V_note': False, 'V_hope': False, 'V_king': True, 'V_yes': False, 'V_says': False, 'V_tells': False, 'V_quickly': False, 'V_romantic': False, 'V_dog': False, 'V_oscar': False, 'V_stupid': False, 'V_possible': False, 'V_saw': False, 'V_lead': False, 'V_career': False, 'V_murder': False, 'V_extremely': False, 'V_manages': False, 'V_god': False, 'V_mostly': False, 'V_wonder': True, 'V_particularly': False, 'V_future': False, 'V_fans': False, 'V_sound': False, 'V_worse': False, 'V_piece': False, 'V_involving': False, 'V_de': False, 'V_appears': False, 'V_planet': False, 'V_paul': False, 'V_involved': False, 'V_mean': False, 'V_none': False, 'V_taking': False, 'V_hours': False, 'V_laugh': True, 'V_police': False, 'V_sets': False, 'V_attention': False, 'V_co': False, 'V_hell': False, 'V_eventually': False, 'V_single': False, 'V_fall': False, 'V_falls': False, 'V_material': False, 'V_emotional': False, 'V_power': False, 'V_late': False, 'V_lack': False, 'V_dr': False, 'V_van': False, 'V_result': False, 'V_elements': False, 'V_meet': False, 'V_smith': False, 'V_science': False, 'V_experience': False, 'V_bring': False, 'V_wild': False, 'V_living': False, 'V_theater': False, 'V_interest': True, 'V_leads': False, 'V_word': False, 'V_feature': False, 'V_battle': False, 'V_girls': False, 'V_alone': True, 'V_obviously': True, 'V_george': False, 'V_within': False, 'V_usually': False, 'V_enjoy': False, 'V_guess': False, 'V_among': False, 'V_taken': False, 'V_feeling': False, 'V_laughs': False, 'V_aliens': False, 'V_talk': False, 'V_chance': False, 'V_talent': False, 'V_3': False, 'V_middle': False, 'V_number': False, 'V_easy': False, 'V_across': True, 'V_needs': False, 'V_attempts': False, 'V_happen': False, 'V_television': False, 'V_chris': False, 'V_deal': False, 'V_poor': True, 'V_form': False, 'V_girlfriend': False, 'V_viewer': False, 'V_release': False, 'V_killed': False, 'V_forced': True, 'V_whether': False, 'V_wonderful': False, 'V_feels': False, 'V_oh': False, 'V_tale': False, 'V_serious': False, 'V_expect': False, 'V_except': True, 'V_light': False, 'V_success': False, 'V_features': False, 'V_premise': False, 'V_happy': False, 'V_words': False, 'V_leave': False, 'V_important': False, 'V_meets': False, 'V_history': False, 'V_giving': False, 'V_crew': False, 'V_type': False, 'V_call': False, 'V_turned': False, 'V_released': False, 'V_parents': False, 'V_art': False, 'V_impressive': False, 'V_mission': False, 'V_working': False, 'V_seemed': False, 'V_score': False, 'V_told': False, 'V_recent': False, 'V_robin': False, 'V_basically': True, 'V_entertainment': False, 'V_america': False, 'V_$': False, 'V_surprise': True, 'V_apparently': False, 'V_easily': False, 'V_ryan': False, 'V_cool': False, 'V_stuff': False, 'V_cop': False, 'V_change': False, 'V_williams': False, 'V_crime': False, 'V_office': False, 'V_parts': False, 'V_somehow': False, 'V_sequel': False, 'V_william': False, 'V_cut': False, 'V_die': False, 'V_jones': False, 'V_credits': False, 'V_batman': False, 'V_suspense': False, 'V_brings': False, 'V_events': False, 'V_reality': False, 'V_whom': False, 'V_local': False, 'V_talking': False, 'V_difficult': False, 'V_using': False, 'V_went': False, 'V_writing': False, 'V_remember': False, 'V_near': False, 'V_straight': False, 'V_hilarious': False, 'V_ago': False, 'V_certain': False, 'V_ben': False, 'V_kid': False, 'V_wouldn': True, 'V_slow': False, 'V_blood': False, 'V_mystery': False, 'V_complete': False, 'V_red': False, 'V_popular': False, 'V_effective': False, 'V_am': False, 'V_fast': False, 'V_flick': False, 'V_due': True, 'V_runs': False, 'V_gone': False, 'V_return': False, 'V_presence': False, 'V_quality': False, 'V_dramatic': False, 'V_filmmakers': False, 'V_age': False, 'V_brothers': False, 'V_business': False, 'V_general': False, 'V_rock': False, 'V_sexual': False, 'V_present': False, 'V_surprisingly': False, 'V_anyway': True, 'V_uses': False, 'V_4': True, 'V_personal': False, 'V_figure': False, 'V_smart': False, 'V_ways': False, 'V_decides': False, 'V_annoying': False, 'V_begin': False, 'V_couldn': True, 'V_somewhat': False, 'V_shots': False, 'V_rich': False, 'V_minute': False, 'V_law': False, 'V_previous': False, 'V_jim': False, 'V_successful': False, 'V_harry': False, 'V_water': False, 'V_similar': False, 'V_absolutely': False, 'V_motion': False, 'V_former': False, 'V_strange': False, 'V_came': False, 'V_follow': False, 'V_read': False, 'V_project': True, 'V_million': False, 'V_secret': False, 'V_starring': False, 'V_clear': False, 'V_familiar': False, 'V_romance': False, 'V_intelligent': False, 'V_third': False, 'V_excellent': False, 'V_amazing': False, 'V_party': False, 'V_budget': True, 'V_eye': False, 'V_actress': False, 'V_prison': False, 'V_latest': False, 'V_means': False, 'V_company': False, 'V_towards': False, 'V_predictable': True, 'V_powerful': False, 'V_nor': False, 'V_bob': False, 'V_beyond': False, 'V_visual': False, 'V_leaves': False, 'V_r': False, 'V_nature': False, 'V_following': False, 'V_villain': False, 'V_leaving': False, 'V_animated': False, 'V_low': False, 'V_myself': False, 'V_b': False, 'V_bill': False, 'V_sam': False, 'V_filled': False, 'V_wars': False, 'V_questions': False, 'V_cinema': False, 'V_message': False, 'V_box': False, 'V_moving': False, 'V_herself': False, 'V_country': True, 'V_usual': False, 'V_martin': False, 'V_definitely': False, 'V_add': False, 'V_large': False, 'V_clever': False, 'V_create': False, 'V_felt': False, 'V_stories': False, 'V_brilliant': False, 'V_ones': False, 'V_giant': False, 'V_situation': False, 'V_murphy': False, 'V_break': False, 'V_opens': False, 'V_scary': False, 'V_doubt': False, 'V_drug': False, 'V_bunch': False, 'V_thinking': False, 'V_solid': False, 'V_effect': False, 'V_learn': False, 'V_move': False, 'V_force': False, 'V_potential': False, 'V_seriously': False, 'V_follows': False, 'V_above': False, 'V_saying': False, 'V_huge': False, 'V_class': False, 'V_plan': False, 'V_agent': False, 'V_created': False, 'V_unlike': False, 'V_pay': False, 'V_non': False, 'V_married': False, 'V_mark': False, 'V_sweet': False, 'V_perfectly': False, 'V_ex': False, 'V_realize': False, 'V_audiences': False, 'V_took': False, 'V_decent': True, 'V_likely': False, 'V_dream': False, 'V_view': False, 'V_scott': False, 'V_subject': False, 'V_understand': False, 'V_happened': False, 'V_enjoyable': False, 'V_studio': False, 'V_immediately': False, 'V_open': False, 'V_e': False, 'V_points': False, 'V_heard': True, 'V_viewers': False, 'V_cameron': False, 'V_truman': False, 'V_bruce': False, 'V_frank': False, 'V_private': False, 'V_stay': False, 'V_fails': False, 'V_impossible': False, 'V_cold': False, 'V_richard': False, 'V_overall': False, 'V_merely': False, 'V_exciting': False, 'V_mess': False, 'V_chase': False, 'V_free': False, 'V_ten': False, 'V_neither': False, 'V_wanted': True, 'V_gun': False, 'V_appear': False, 'V_carter': False, 'V_escape': False, 'V_ultimately': False, 'V_+': False, 'V_fan': False, 'V_inside': False, 'V_favorite': False, 'V_haven': False, 'V_modern': False, 'V_l': False, 'V_wedding': False, 'V_stone': False, 'V_trek': False, 'V_brought': False, 'V_trouble': False, 'V_otherwise': False, 'V_tim': False, 'V_5': False, 'V_allen': False, 'V_bond': False, 'V_society': False, 'V_liked': False, 'V_dumb': False, 'V_musical': False, 'V_stand': False, 'V_political': False, 'V_various': False, 'V_talented': False, 'V_particular': False, 'V_west': False, 'V_state': False, 'V_keeps': False, 'V_english': False, 'V_silly': False, 'V_u': False, 'V_situations': False, 'V_park': False, 'V_teen': False, 'V_rating': False, 'V_slightly': False, 'V_steve': False, 'V_truth': False, 'V_air': False, 'V_element': False, 'V_joke': False, 'V_spend': False, 'V_key': False, 'V_biggest': False, 'V_members': False, 'V_effort': False, 'V_government': False, 'V_focus': True, 'V_eddie': False, 'V_soundtrack': False, 'V_hands': False, 'V_earlier': False, 'V_chan': False, 'V_purpose': False, 'V_today': False, 'V_showing': False, 'V_memorable': True, 'V_six': False, 'V_cannot': False, 'V_max': False, 'V_offers': False, 'V_rated': False, 'V_mars': False, 'V_heavy': False, 'V_totally': False, 'V_control': False, 'V_credit': False, 'V_fi': False, 'V_woody': False, 'V_ideas': False, 'V_sci': False, 'V_wait': False, 'V_sit': True, 'V_female': False, 'V_ask': False, 'V_waste': False, 'V_terrible': False, 'V_depth': False, 'V_simon': False, 'V_aspect': False, 'V_list': False, 'V_mary': False, 'V_sister': False, 'V_animation': False, 'V_entirely': False, 'V_fear': False, 'V_steven': False, 'V_moves': True, 'V_actual': False, 'V_army': False, 'V_british': False, 'V_constantly': True, 'V_fire': False, 'V_convincing': False, 'V_setting': False, 'V_gave': False, 'V_tension': False, 'V_street': False, 'V_8': False, 'V_brief': False, 'V_ridiculous': False, 'V_cinematography': False, 'V_typical': False, 'V_nick': False, 'V_screenwriter': False, 'V_ability': False, 'V_spent': True, 'V_quick': False, 'V_violent': False, 'V_atmosphere': False, 'V_subtle': False, 'V_expected': False, 'V_fairly': False, 'V_seven': False, 'V_killing': True, 'V_tone': False, 'V_master': False, 'V_disaster': False, 'V_lots': False, 'V_thinks': False, 'V_song': False, 'V_cheap': False, 'V_suddenly': False, 'V_background': False, 'V_club': False, 'V_willis': False, 'V_whatever': False, 'V_highly': False, 'V_sees': False, 'V_complex': False, 'V_greatest': False, 'V_impact': False, 'V_beauty': False, 'V_front': False, 'V_humans': False, 'V_indeed': False, 'V_flat': False, 'V_grace': False, 'V_wrote': False, 'V_amusing': False, 'V_ii': False, 'V_mike': False, 'V_further': False, 'V_cute': False, 'V_dull': True, 'V_minor': False, 'V_recently': False, 'V_hate': False, 'V_outside': False, 'V_plenty': False, 'V_wish': False, 'V_godzilla': False, 'V_college': False, 'V_titanic': False, 'V_sounds': True, 'V_telling': False, 'V_sight': False, 'V_double': False, 'V_cinematic': False, 'V_queen': False, 'V_hold': False, 'V_meanwhile': False, 'V_awful': False, 'V_clearly': True, 'V_theme': False, 'V_hear': False, 'V_x': False, 'V_amount': False, 'V_baby': False, 'V_approach': False, 'V_dreams': False, 'V_shown': False, 'V_island': False, 'V_reasons': False, 'V_charm': False, 'V_miss': False, 'V_longer': False, 'V_common': False, 'V_sean': False, 'V_carry': False, 'V_believable': False, 'V_realistic': False, 'V_chemistry': False, 'V_possibly': False, 'V_casting': False, 'V_carrey': False, 'V_french': False, 'V_trailer': False, 'V_tough': False, 'V_produced': False, 'V_imagine': False, 'V_choice': False, 'V_ride': False, 'V_somewhere': False, 'V_hot': False, 'V_race': False, 'V_road': False, 'V_leader': False, 'V_thin': False, 'V_jerry': False, 'V_slowly': False, 'V_delivers': False, 'V_detective': False, 'V_brown': False, 'V_jackson': False, 'V_member': False, 'V_provide': False, 'V_president': False, 'V_puts': False, 'V_asks': False, 'V_critics': False, 'V_appearance': False, 'V_famous': False, 'V_okay': False, 'V_intelligence': False, 'V_energy': False, 'V_sent': False, 'V_spielberg': False, 'V_development': False, 'V_etc': False, 'V_language': False, 'V_blue': False, 'V_proves': False, 'V_vampire': False, 'V_seemingly': False, 'V_basic': False, 'V_caught': True, 'V_decide': False, 'V_opportunity': False, 'V_incredibly': False, 'V_images': False, 'V_band': False, 'V_j': False, 'V_writers': False, 'V_knew': False, 'V_interested': False, 'V_considering': False, 'V_boys': False, 'V_thanks': False, 'V_remains': False, 'V_climax': False, 'V_event': False, 'V_directing': False, 'V_conclusion': False, 'V_leading': False, 'V_ground': False, 'V_lies': False, 'V_forget': False, 'V_alive': False, 'V_tarzan': False, 'V_century': False, 'V_provides': False, 'V_trip': False, 'V_partner': False, 'V_central': False, 'V_tarantino': False, 'V_period': False, 'V_pace': False, 'V_yourself': False, 'V_worked': False, 'V_ready': False, 'V_date': False, 'V_thus': True, 'V_1998': False, 'V_terrific': False, 'V_write': False, 'V_average': False, 'V_onto': False, 'V_songs': False, 'V_occasionally': False, 'V_doctor': False, 'V_stands': False, 'V_hardly': False, 'V_monster': False, 'V_led': True, 'V_mysterious': False, 'V_details': False, 'V_wasted': False, 'V_apart': False, 'V_aside': False, 'V_store': False, 'V_billy': False, 'V_boss': False, 'V_travolta': False, 'V_producer': False, 'V_pull': False, 'V_consider': False, 'V_pictures': False, 'V_becoming': False, 'V_cage': False, 'V_loud': False, 'V_looked': False, 'V_officer': False, 'V_twenty': False, 'V_system': False, 'V_contains': False, 'V_julia': False, 'V_subplot': False, 'V_missing': False, 'V_personality': False, 'V_building': False, 'V_learns': False, 'V_hong': False, 'V_la': False, 'V_apartment': False, 'V_7': False, 'V_bizarre': False, 'V_powers': False, 'V_flaws': False, 'V_catch': False, 'V_lawyer': False, 'V_shoot': False, 'V_student': False, 'V_unique': False, 'V_000': False, 'V_admit': False, 'V_concept': False, 'V_needed': True, 'V_thrown': False, 'V_christopher': False, 'V_laughing': False, 'V_green': False, 'V_twists': False, 'V_matthew': False, 'V_touch': False, 'V_waiting': False, 'V_victim': False, 'V_cover': False, 'V_machine': False, 'V_danny': False, 'V_mention': False, 'V_search': False, 'V_1997': False, 'V_win': False, 'V_door': False, 'V_manner': False, 'V_train': False, 'V_saving': False, 'V_share': False, 'V_image': False, 'V_discovers': False, 'V_normal': False, 'V_cross': False, 'V_fox': False, 'V_returns': False, 'V_adult': False, 'V_adds': False, 'V_answer': False, 'V_adventure': True, 'V_lame': False, 'V_male': False, 'V_odd': True, 'V_singer': False, 'V_deserves': False, 'V_gore': False, 'V_states': False, 'V_include': False, 'V_equally': False, 'V_months': True, 'V_barely': False, 'V_directors': False, 'V_introduced': True, 'V_fashion': False, 'V_social': False, 'V_1999': False, 'V_news': False, 'V_hair': False, 'V_dance': False, 'V_innocent': False, 'V_camp': False, 'V_teacher': False, 'V_became': False, 'V_sad': False, 'V_witch': False, 'V_includes': False, 'V_nights': False, 'V_jason': False, 'V_julie': False, 'V_latter': False, 'V_food': False, 'V_jennifer': False, 'V_land': False, 'V_menace': False, 'V_rate': False, 'V_storyline': False, 'V_contact': False, 'V_jean': False, 'V_elizabeth': False, 'V_fellow': False, 'V_changes': False, 'V_henry': False, 'V_hill': False, 'V_pulp': False, 'V_gay': False, 'V_tried': False, 'V_surprised': True, 'V_literally': False, 'V_walk': False, 'V_standard': False, 'V_90': False, 'V_forward': False, 'V_wise': False, 'V_enjoyed': False, 'V_discover': False, 'V_pop': False, 'V_anderson': False, 'V_offer': False, 'V_recommend': False, 'V_public': False, 'V_drive': False, 'V_c': False, 'V_toy': False, 'V_charming': False, 'V_fair': False, 'V_chinese': False, 'V_rescue': False, 'V_terms': False, 'V_mouth': False, 'V_lucas': False, 'V_accident': False, 'V_dies': False, 'V_decided': False, 'V_edge': False, 'V_footage': False, 'V_culture': False, 'V_weak': True, 'V_presented': False, 'V_blade': False, 'V_younger': False, 'V_douglas': False, 'V_natural': False, 'V_born': False, 'V_generally': False, 'V_teenage': False, 'V_older': False, 'V_horrible': False, 'V_addition': False, 'V_sadly': False, 'V_creates': False, 'V_disturbing': False, 'V_roger': False, 'V_detail': False, 'V_devil': False, 'V_debut': False, 'V_track': False, 'V_developed': False, 'V_week': False, 'V_russell': False, 'V_attack': False, 'V_explain': False, 'V_rarely': False, 'V_fully': False, 'V_prove': False, 'V_exception': False, 'V_jeff': False, 'V_twist': False, 'V_gang': True, 'V_winning': False, 'V_jr': False, 'V_species': False, 'V_issues': False, 'V_fresh': False, 'V_rules': False, 'V_meaning': False, 'V_inspired': False, 'V_heroes': False, 'V_desperate': False, 'V_fighting': False, 'V_filmed': False, 'V_faces': False, 'V_alan': False, 'V_bright': False, 'V_ass': False, 'V_flying': False, 'V_kong': False, 'V_rush': False, 'V_forces': False, 'V_charles': False, 'V_numerous': False, 'V_emotions': False, 'V_involves': False, 'V_patrick': False, 'V_weird': False, 'V_apparent': False, 'V_information': False, 'V_revenge': False, 'V_jay': False, 'V_toward': False, 'V_surprising': False, 'V_twice': False, 'V_editing': False, 'V_calls': False, 'V_lose': False, 'V_vegas': False, 'V_stage': False, 'V_intended': False, 'V_gags': False, 'V_opinion': True, 'V_likes': False, 'V_crazy': False, 'V_owner': False, 'V_places': False, 'V_pair': False, 'V_genuine': False, 'V_epic': False, 'V_speak': False, 'V_throw': False, 'V_appeal': False, 'V_gibson': False, 'V_captain': False, 'V_military': False, 'V_20': False, 'V_blair': False, 'V_nowhere': True, 'V_length': False, 'V_nicely': False, 'V_cause': False, 'V_pass': False, 'V_episode': False, 'V_kiss': False, 'V_arnold': False, 'V_please': True, 'V_hasn': False, 'V_phone': False, 'V_filmmaking': False, 'V_formula': False, 'V_boyfriend': False, 'V_talents': False, 'V_creating': False, 'V_kelly': False, 'V_buy': False, 'V_wide': False, 'V_fantasy': False, 'V_mood': False, 'V_heads': False, 'V_pathetic': False, 'V_lacks': False, 'V_loved': False, 'V_asked': False, 'V_mrs': False, 'V_witty': False, 'V_shakespeare': False, 'V_mulan': False, 'V_generation': False, 'V_affair': False, 'V_pieces': False, 'V_task': False, 'V_rare': False, 'V_kept': True, 'V_cameo': False, 'V_fascinating': False, 'V_ed': False, 'V_fbi': False, 'V_burton': False, 'V_incredible': False, 'V_accent': False, 'V_artist': False, 'V_superior': False, 'V_academy': False, 'V_thomas': False, 'V_spirit': False, 'V_technical': False, 'V_confusing': False, 'V_poorly': False, 'V_target': False, 'V_lover': False, 'V_woo': False, 'V_mentioned': False, 'V_theaters': False, 'V_plane': False, 'V_confused': False, 'V_dennis': False, 'V_rob': False, 'V_appropriate': False, 'V_christmas': False, 'V_considered': False, 'V_legend': False, 'V_shame': False, 'V_soul': False, 'V_matt': False, 'V_campbell': False, 'V_process': False, 'V_bottom': False, 'V_sitting': False, 'V_brain': False, 'V_creepy': False, 'V_13': True, 'V_forever': False, 'V_dude': False, 'V_crap': False, 'V_superb': False, 'V_speech': False, 'V_ice': False, 'V_journey': False, 'V_masterpiece': False, 'V_intriguing': False, 'V_names': False, 'V_pick': True, 'V_speaking': False, 'V_virtually': False, 'V_award': False, 'V_worthy': False, 'V_marriage': False, 'V_deliver': True, 'V_cash': False, 'V_magic': False, 'V_respect': False, 'V_product': True, 'V_necessary': False, 'V_suppose': False, 'V_silent': False, 'V_pointless': False, 'V_station': False, 'V_affleck': False, 'V_dimensional': False, 'V_charlie': False, 'V_allows': False, 'V_avoid': False, 'V_meant': False, 'V_cops': False, 'V_attitude': False, 'V_relationships': False, 'V_hits': False, 'V_stephen': False, 'V_spends': False, 'V_relief': False, 'V_physical': False, 'V_count': False, 'V_reviews': False, 'V_appreciate': False, 'V_cliches': False, 'V_holds': False, 'V_pure': False, 'V_plans': False, 'V_limited': False, 'V_failed': True, 'V_pain': False, 'V_impression': False, 'V_unless': False, 'V_sub': False, 'V_[': False, 'V_total': True, 'V_creature': False, 'V_viewing': False, 'V_loves': False, 'V_princess': False, 'V_kate': False, 'V_rising': False, 'V_woods': False, 'V_baldwin': False, 'V_angry': False, 'V_drawn': False, 'V_step': False, 'V_matrix': False, 'V_themes': False, 'V_satire': False, 'V_arts': False, 'V_]': False, 'V_remake': False, 'V_wall': False, 'V_moral': False, 'V_color': False, 'V_ray': False, 'V_stuck': False, 'V_touching': False, 'V_wit': False, 'V_tony': False, 'V_hanks': False, 'V_continues': False, 'V_damn': False, 'V_nobody': False, 'V_cartoon': False, 'V_keeping': False, 'V_realized': False, 'V_criminal': False, 'V_unfunny': False, 'V_comedic': False, 'V_martial': False, 'V_disappointing': False, 'V_anti': False, 'V_graphic': False, 'V_stunning': False, 'V_actions': False, 'V_floor': False, 'V_emotion': False, 'V_soldiers': False, 'V_edward': False, 'V_comedies': False, 'V_driver': False, 'V_expectations': False, 'V_added': False, 'V_mad': False, 'V_angels': False, 'V_shallow': False, 'V_suspect': False, 'V_humorous': False, 'V_phantom': False, 'V_appealing': False, 'V_device': False, 'V_design': False, 'V_industry': False, 'V_reach': False, 'V_fat': False, 'V_blame': False, 'V_united': False, 'V_sign': False, 'V_portrayal': False, 'V_rocky': False, 'V_finale': False, 'V_grand': False, 'V_opposite': False, 'V_hotel': False, 'V_match': False, 'V_damme': False, 'V_speed': False, 'V_ok': False, 'V_loving': False, 'V_field': False, 'V_larry': False, 'V_urban': False, 'V_troopers': False, 'V_compared': False, 'V_apes': False, 'V_rose': False, 'V_falling': False, 'V_era': False, 'V_loses': False, 'V_adults': False, 'V_managed': False, 'V_dad': False, 'V_therefore': False, 'V_pg': False, 'V_results': False, 'V_guns': False, 'V_radio': False, 'V_lady': False, 'V_manage': False, 'V_spice': False, 'V_naked': False, 'V_started': False, 'V_intense': False, 'V_humanity': False, 'V_wonderfully': False, 'V_slasher': False, 'V_bland': False, 'V_imagination': False, 'V_walking': False, 'V_willing': False, 'V_horse': False, 'V_rent': False, 'V_mix': False, 'V_generated': False, 'V_g': False, 'V_utterly': False, 'V_scientist': False, 'V_washington': False, 'V_notice': False, 'V_players': False, 'V_teenagers': False, 'V_moore': False, 'V_board': False, 'V_price': False, 'V_frightening': False, 'V_tommy': False, 'V_spectacular': False, 'V_bored': False, 'V_jane': False, 'V_join': False, 'V_producers': False, 'V_johnny': False, 'V_zero': False, 'V_vampires': False, 'V_adaptation': False, 'V_dollars': False, 'V_parody': False, 'V_documentary': False, 'V_dvd': False, 'V_wayne': False, 'V_post': False, 'V_exist': False, 'V_matters': False, 'V_chosen': False, 'V_mel': False, 'V_attractive': False, 'V_plain': False, 'V_trust': False, 'V_safe': False, 'V_reading': False, 'V_hoping': False, 'V_protagonist': False, 'V_feelings': False, 'V_fate': False, 'V_finding': False, 'V_feet': False, 'V_visuals': False, 'V_spawn': False, 'V_compelling': False, 'V_hall': False, 'V_sympathetic': False, 'V_featuring': False, 'V_difference': False, 'V_professional': False, 'V_drugs': False, 'V_ford': False, 'V_shooting': False, 'V_gold': False, 'V_patch': False, 'V_build': False, 'V_boat': False, 'V_cruise': False, 'V_honest': False, 'V_media': False, 'V_flicks': False, 'V_bug': False, 'V_bringing': False, 'V_dangerous': False, 'V_watched': False, 'V_grant': False, 'V_smile': False, 'V_plus': False, 'V_shouldn': False, 'V_decision': False, 'V_visually': False, 'V_allow': False, 'V_starship': False, 'V_roberts': False, 'V_dying': False, 'V_portrayed': False, 'V_turning': False, 'V_believes': False, 'V_changed': False, 'V_shock': False, 'V_destroy': False, 'V_30': False, 'V_crowd': False, 'V_broken': False, 'V_tired': False, 'V_fail': False, 'V_south': False, 'V_died': False, 'V_cult': False, 'V_fake': False, 'V_vincent': False, 'V_identity': False, 'V_sexy': False, 'V_hunt': False, 'V_jedi': False, 'V_flynt': False, 'V_alex': False, 'V_engaging': False, 'V_serve': False, 'V_snake': False, 'V_yeah': False, 'V_expecting': True, 'V_100': False, 'V_decade': False, 'V_ups': False, 'V_constant': False, 'V_current': False, 'V_survive': False, 'V_jimmy': False, 'V_buddy': False, 'V_send': False, 'V_brooks': False, 'V_goofy': False, 'V_likable': False, 'V_humour': False, 'V_technology': False, 'V_files': False, 'V_babe': False, 'V_aspects': False, 'V_presents': False, 'V_kills': False, 'V_supposedly': False, 'V_eight': False, 'V_sandler': False, 'V_hospital': False, 'V_test': False, 'V_hidden': False, 'V_brian': False, 'V_books': False, 'V_promise': False, 'V_determined': False, 'V_professor': False, 'V_welcome': False, 'V_pleasure': False, 'V_succeeds': False, 'V_individual': False, 'V_annie': False, 'V_mob': False, 'V_ted': False, 'V_virus': False, 'V_content': False, 'V_gary': False, 'V_direct': False, 'V_contrived': False, 'V_carpenter': False, 'V_scale': False, 'V_sick': False, 'V_nasty': False, 'V_conflict': False, 'V_haunting': True, 'V_ghost': False, 'V_filmmaker': False, 'V_japanese': False, 'V_helps': False, 'V_fare': False, 'V_lucky': False, 'V_ultimate': False, 'V_window': False, 'V_support': False, 'V_goal': False, 'V_provided': False, 'V_genius': False, 'V_winner': False, 'V_taylor': False, 'V_fantastic': False, 'V_faith': False, 'V_lynch': False, 'V_fit': False, 'V_catherine': False, 'V_ms': False, 'V_paced': False, 'V_breaks': False, 'V_al': False, 'V_frame': False, 'V_travel': True, 'V_badly': False, 'V_available': False, 'V_cares': False, 'V_reeves': False, 'V_crash': False, 'V_driving': False, 'V_press': False, 'V_seagal': False, 'V_amy': False, 'V_9': False, 'V_headed': False, 'V_instance': False, 'V_excuse': False, 'V_offensive': False, 'V_narrative': False, 'V_fault': False, 'V_bus': False, 'V_f': False, 'V_extreme': False, 'V_miller': False, 'V_guilty': False, 'V_grows': False, 'V_overly': False, 'V_liners': False, 'V_forgotten': False, 'V_ahead': False, 'V_accept': False, 'V_porn': False, 'V_directly': False, 'V_helen': False, 'V_began': False, 'V_lord': False, 'V_folks': False, 'V_mediocre': False, 'V_bar': False, 'V_surface': False, 'V_super': False, 'V_failure': False, 'V_6': False, 'V_acted': False, 'V_quiet': False, 'V_laughable': False, 'V_sheer': False, 'V_security': False, 'V_emotionally': False, 'V_season': False, 'V_stuart': False, 'V_jail': False, 'V_deals': False, 'V_cheesy': False, 'V_court': False, 'V_beach': False, 'V_austin': False, 'V_model': False, 'V_outstanding': False, 'V_substance': False, 'V_nudity': False, 'V_slapstick': False, 'V_joan': False, 'V_reveal': False, 'V_placed': False, 'V_check': False, 'V_beast': False, 'V_hurt': False, 'V_bloody': False, 'V_acts': False, 'V_fame': False, 'V_meeting': False, 'V_nuclear': False, 'V_1996': False, 'V_strength': False, 'V_center': False, 'V_funniest': False, 'V_standing': False, 'V_damon': False, 'V_clich': False, 'V_position': False, 'V_desire': False, 'V_driven': False, 'V_seat': False, 'V_stock': False, 'V_wondering': False, 'V_realizes': False, 'V_dealing': False, 'V_taste': False, 'V_routine': False, 'V_comparison': False, 'V_cinematographer': False, 'V_seconds': False, 'V_singing': False, 'V_gangster': False, 'V_responsible': False, 'V_football': False, 'V_remarkable': False, 'V_hunting': False, 'V_adams': False, 'V_fly': False, 'V_suspects': False, 'V_treat': False, 'V_hopes': False, 'V_heaven': False, 'V_myers': False, 'V_struggle': False, 'V_costumes': False, 'V_beat': False, 'V_happening': False, 'V_skills': False, 'V_ugly': False, 'V_figures': False, 'V_thoroughly': False, 'V_ill': False, 'V_surprises': False, 'V_player': False, 'V_rival': False, 'V_guard': False, 'V_anthony': False, 'V_strike': False, 'V_community': False, 'V_streets': False, 'V_hopkins': False, 'V_ended': False, 'V_originally': False, 'V_sarah': False, 'V_creative': False, 'V_characterization': False, 'V_thankfully': False, 'V_growing': False, 'V_sharp': False, 'V_williamson': False, 'V_eccentric': False, 'V_explained': False, 'V_hey': False, 'V_claire': False, 'V_steal': False, 'V_inevitable': False, 'V_joel': False, 'V_core': False, 'V_weren': False, 'V_sorry': False, 'V_built': False, 'V_anne': False, 'V_breaking': False, 'V_villains': False, 'V_critic': False, 'V_lets': False, 'V_visit': False, 'V_followed': False}, 'neg')\n"
     ]
    }
   ],
   "source": [
    "# the feature sets are 2000 words long - so this is optional\n",
    "print(featuresets[0])"
   ]
  },
  {
   "cell_type": "code",
   "execution_count": 39,
   "id": "07d8a709",
   "metadata": {},
   "outputs": [],
   "source": [
    "# training using naive Baysian classifier with a 95/5 split\n",
    "train_set, test_set = featuresets[100:], featuresets[:100]\n",
    "classifier = nltk.NaiveBayesClassifier.train(train_set)"
   ]
  },
  {
   "cell_type": "code",
   "execution_count": 40,
   "id": "1386a0b0",
   "metadata": {},
   "outputs": [
    {
     "name": "stdout",
     "output_type": "stream",
     "text": [
      "0.84\n"
     ]
    }
   ],
   "source": [
    "# evaluate the accuracy of the classifier\n",
    "print (nltk.classify.accuracy(classifier, test_set))\n",
    "# the accuracy result may vary since we randomized the documents"
   ]
  },
  {
   "cell_type": "code",
   "execution_count": 41,
   "id": "db290b94",
   "metadata": {},
   "outputs": [
    {
     "name": "stdout",
     "output_type": "stream",
     "text": [
      "Most Informative Features\n",
      "                V_seagal = True              neg : pos    =     13.9 : 1.0\n",
      "           V_outstanding = True              pos : neg    =     11.2 : 1.0\n",
      "           V_wonderfully = True              pos : neg    =      8.6 : 1.0\n",
      "                 V_awful = True              neg : pos    =      5.8 : 1.0\n",
      "                 V_damon = True              pos : neg    =      5.8 : 1.0\n",
      "                  V_lame = True              neg : pos    =      5.7 : 1.0\n",
      "                V_wasted = True              neg : pos    =      5.6 : 1.0\n",
      "                 V_flynt = True              pos : neg    =      5.6 : 1.0\n",
      "            V_ridiculous = True              neg : pos    =      5.4 : 1.0\n",
      "                 V_waste = True              neg : pos    =      5.2 : 1.0\n",
      "                  V_jedi = True              pos : neg    =      5.2 : 1.0\n",
      "                V_poorly = True              neg : pos    =      5.0 : 1.0\n",
      "                V_superb = True              pos : neg    =      4.6 : 1.0\n",
      "                 V_worst = True              neg : pos    =      4.4 : 1.0\n",
      "                   V_era = True              pos : neg    =      4.4 : 1.0\n",
      "             V_memorable = True              pos : neg    =      4.3 : 1.0\n",
      "                 V_bland = True              neg : pos    =      4.1 : 1.0\n",
      "               V_unfunny = True              neg : pos    =      4.0 : 1.0\n",
      "             V_pointless = True              neg : pos    =      4.0 : 1.0\n",
      "             V_laughable = True              neg : pos    =      4.0 : 1.0\n",
      "             V_portrayal = True              pos : neg    =      4.0 : 1.0\n",
      "                V_stupid = True              neg : pos    =      4.0 : 1.0\n",
      "                  V_dull = True              neg : pos    =      3.9 : 1.0\n",
      "                  V_mess = True              neg : pos    =      3.8 : 1.0\n",
      "                V_allows = True              pos : neg    =      3.7 : 1.0\n",
      "              V_terrific = True              pos : neg    =      3.7 : 1.0\n",
      "             V_fantastic = True              pos : neg    =      3.7 : 1.0\n",
      "                V_boring = True              neg : pos    =      3.5 : 1.0\n",
      "                 V_badly = True              neg : pos    =      3.5 : 1.0\n",
      "                V_subtle = True              pos : neg    =      3.4 : 1.0\n",
      "None\n"
     ]
    }
   ],
   "source": [
    "# show which features of classifier are most informative\n",
    "print(classifier.show_most_informative_features(30))\n"
   ]
  },
  {
   "cell_type": "markdown",
   "id": "2695ffb6",
   "metadata": {},
   "source": [
    "# HW7 From here #"
   ]
  },
  {
   "cell_type": "markdown",
   "id": "f9295fc2",
   "metadata": {},
   "source": [
    "## 1) Gender ## "
   ]
  },
  {
   "cell_type": "markdown",
   "id": "a632e91d",
   "metadata": {},
   "source": [
    "### a) 2 features for gender"
   ]
  },
  {
   "cell_type": "code",
   "execution_count": 42,
   "id": "37909aaa",
   "metadata": {},
   "outputs": [],
   "source": [
    "def gender_features2(word):\n",
    "    return{'last_letter': word[-1],'secondlast_letter':word[-2]}\n"
   ]
  },
  {
   "cell_type": "code",
   "execution_count": 43,
   "id": "dd3a03e5",
   "metadata": {},
   "outputs": [
    {
     "name": "stdout",
     "output_type": "stream",
     "text": [
      "{'last_letter': 'k', 'secondlast_letter': 'e'}\n"
     ]
    }
   ],
   "source": [
    "print(gender_features2('Shrek'))"
   ]
  },
  {
   "cell_type": "code",
   "execution_count": 44,
   "id": "9124e381",
   "metadata": {},
   "outputs": [],
   "source": [
    "from nltk.corpus import names\n",
    "namesgender = ([(name, 'male') for name in names.words('male.txt')] +\n",
    "          [(name, 'female') for name in names.words('female.txt')])\n",
    "# put the list into random order\n",
    "import random\n",
    "random.shuffle(namesgender)"
   ]
  },
  {
   "cell_type": "code",
   "execution_count": 45,
   "id": "8426ea86",
   "metadata": {},
   "outputs": [],
   "source": [
    "# separate the names into training and test\n",
    "train_names = namesgender[500:]\n",
    "test_names = namesgender[:500]"
   ]
  },
  {
   "cell_type": "code",
   "execution_count": 46,
   "id": "98452fff",
   "metadata": {},
   "outputs": [],
   "source": [
    "# use 2 features to train a classify and test on the development test set\n",
    "train_set2 = [(gender_features2(n), g) for (n, g) in train_names]\n",
    "test_set2 = [(gender_features2(n), g) for (n, g) in test_names]"
   ]
  },
  {
   "cell_type": "code",
   "execution_count": 47,
   "id": "a9df9338",
   "metadata": {},
   "outputs": [],
   "source": [
    "classifier2 = nltk.NaiveBayesClassifier.train(train_set2)"
   ]
  },
  {
   "cell_type": "code",
   "execution_count": 48,
   "id": "8a59239e",
   "metadata": {},
   "outputs": [
    {
     "name": "stdout",
     "output_type": "stream",
     "text": [
      "male\n",
      "female\n"
     ]
    }
   ],
   "source": [
    "# classify new instances\n",
    "print(classifier2.classify(gender_features('Neo')))\n",
    "print(classifier2.classify(gender_features('Trinity')))"
   ]
  },
  {
   "cell_type": "code",
   "execution_count": 49,
   "id": "127e261b",
   "metadata": {},
   "outputs": [
    {
     "name": "stdout",
     "output_type": "stream",
     "text": [
      "Accuracy for 2 features classifier =  0.802\n"
     ]
    }
   ],
   "source": [
    "# classify accuracy function runs the classifier on the test set and reports\n",
    "#   comparisons between predicted labels and actual/gold labels\n",
    "print(\"Accuracy for 2 features classifier = \", nltk.classify.accuracy(classifier2, test_set2))"
   ]
  },
  {
   "cell_type": "markdown",
   "id": "d2cad47c",
   "metadata": {},
   "source": [
    "### b) 3 Features for gender\n"
   ]
  },
  {
   "cell_type": "code",
   "execution_count": 50,
   "id": "7ed658e4",
   "metadata": {},
   "outputs": [],
   "source": [
    "#for 3 features\n",
    "#The following 2 lines gives an error as there are values with length =2 so we cajnt get 3 features out of them.\n",
    "\n",
    "#train_set3 = [(gender_features3(n), g) for (n, g) in train_names]\n",
    "#test_set3 = [(gender_features3(n), g) for (n, g) in test_names]"
   ]
  },
  {
   "cell_type": "code",
   "execution_count": 51,
   "id": "0454097b",
   "metadata": {},
   "outputs": [
    {
     "name": "stdout",
     "output_type": "stream",
     "text": [
      "{'last_letter': 'k', 'secondlast_letter': 'e', 'thirdlast_letter': 'r'}\n"
     ]
    }
   ],
   "source": [
    "def gender_features3(word):\n",
    "    return{'last_letter': word[-1],'secondlast_letter':word[-2],'thirdlast_letter':word[-3]}\n",
    "\n",
    "print(gender_features3('Shrek'))"
   ]
  },
  {
   "cell_type": "code",
   "execution_count": 52,
   "id": "23e023fa",
   "metadata": {},
   "outputs": [
    {
     "name": "stdout",
     "output_type": "stream",
     "text": [
      "{2: 19, 3: 272, 4: 926, 5: 1878, 6: 2049, 7: 1447, 8: 846, 9: 351, 10: 116, 11: 24, 12: 10, 13: 3, 14: 1, 15: 2}\n"
     ]
    }
   ],
   "source": [
    "lengths =[len(x[0])for x in namesgender] #getting length of each name\n",
    "lengths.sort() # sorting the lengths\n",
    "\n",
    "#Getting frequency of each name length\n",
    "f = {}\n",
    "for i in lengths:\n",
    "    if i in f:\n",
    "        f[i] += 1\n",
    "    else:\n",
    "        f[i] = 1\n",
    "\n",
    "print(f)"
   ]
  },
  {
   "cell_type": "code",
   "execution_count": 53,
   "id": "c4d6be6e",
   "metadata": {},
   "outputs": [
    {
     "data": {
      "text/plain": [
       "[('Hy', 'male'),\n",
       " ('Jo', 'female'),\n",
       " ('Jo', 'male'),\n",
       " ('Em', 'female'),\n",
       " ('Bo', 'male'),\n",
       " ('Di', 'female'),\n",
       " ('Cy', 'male'),\n",
       " ('Er', 'male'),\n",
       " ('Ev', 'male'),\n",
       " ('Ez', 'male'),\n",
       " ('Si', 'male'),\n",
       " ('Bo', 'female'),\n",
       " ('La', 'female'),\n",
       " ('Ki', 'female'),\n",
       " ('Ag', 'female'),\n",
       " ('Ed', 'male'),\n",
       " ('Al', 'male'),\n",
       " ('Vi', 'female'),\n",
       " ('Ty', 'male')]"
      ]
     },
     "execution_count": 53,
     "metadata": {},
     "output_type": "execute_result"
    }
   ],
   "source": [
    "#List of names with length 2\n",
    "names_len2 = [a for a in namesgender if len(a[0])==2]\n",
    "names_len2"
   ]
  },
  {
   "cell_type": "code",
   "execution_count": 54,
   "id": "f5823f10",
   "metadata": {},
   "outputs": [
    {
     "name": "stdout",
     "output_type": "stream",
     "text": [
      "{3: 272, 4: 926, 5: 1878, 6: 2049, 7: 1447, 8: 846, 9: 351, 10: 116, 11: 24, 12: 10, 13: 3, 14: 1, 15: 2}\n"
     ]
    }
   ],
   "source": [
    "# If we get rid of these names, our feature engineering for last 3 letters will work\n",
    "\n",
    "#removing len 2 names\n",
    "namesgender3 = [x for x in namesgender if len(x[0])>2]\n",
    "lengths3 =[len(x[0])for x in namesgender3] #getting length of each name\n",
    "lengths3.sort() # sorting the lengths\n",
    "\n",
    "#Getting frequency of each name length\n",
    "f3 = {}\n",
    "for i3 in lengths3:\n",
    "    if i3 in f3:\n",
    "        f3[i3] += 1\n",
    "    else:\n",
    "        f3[i3] = 1\n",
    "\n",
    "print(f3)\n",
    "\n",
    "# We now build the training and testing set using gender features on the new names set\n",
    "# separate the names into training and test\n",
    "train_names3 = namesgender3[500:]\n",
    "test_names3 = namesgender3[:500]\n",
    "train_set3 = [(gender_features3(n), g) for (n, g) in train_names3]\n",
    "test_set3 = [(gender_features3(n), g) for (n, g) in test_names3]\n"
   ]
  },
  {
   "cell_type": "code",
   "execution_count": 55,
   "id": "eb8abb6e",
   "metadata": {},
   "outputs": [],
   "source": [
    "#Atleast 3 letter names\n",
    "classifier3 = nltk.NaiveBayesClassifier.train(train_set3)"
   ]
  },
  {
   "cell_type": "code",
   "execution_count": 56,
   "id": "1260a4b1",
   "metadata": {},
   "outputs": [
    {
     "name": "stdout",
     "output_type": "stream",
     "text": [
      "male\n",
      "female\n"
     ]
    }
   ],
   "source": [
    "# classify new instances with 3 feature classifier\n",
    "print(classifier3.classify(gender_features('Neo')))\n",
    "print(classifier3.classify(gender_features('Trinity')))"
   ]
  },
  {
   "cell_type": "code",
   "execution_count": 57,
   "id": "52217dea",
   "metadata": {},
   "outputs": [
    {
     "name": "stdout",
     "output_type": "stream",
     "text": [
      "Accuracy for 3 features classifier =  0.78\n"
     ]
    }
   ],
   "source": [
    "print(\"Accuracy for 3 features classifier = \", nltk.classify.accuracy(classifier3, test_set3))"
   ]
  },
  {
   "cell_type": "markdown",
   "id": "e976d261",
   "metadata": {},
   "source": [
    "## 2) Movies ## "
   ]
  },
  {
   "cell_type": "code",
   "execution_count": 77,
   "id": "44312feb",
   "metadata": {},
   "outputs": [],
   "source": [
    "### classify documents based on keywords\n",
    "from nltk.corpus import movie_reviews\n",
    "import random"
   ]
  },
  {
   "cell_type": "code",
   "execution_count": 78,
   "id": "8a4185a3",
   "metadata": {},
   "outputs": [
    {
     "name": "stdout",
     "output_type": "stream",
     "text": [
      "['neg', 'pos']\n"
     ]
    }
   ],
   "source": [
    "# movie reviews are labeled either positive or negative (by human annotators)\n",
    "print(movie_reviews.categories())"
   ]
  },
  {
   "cell_type": "code",
   "execution_count": 79,
   "id": "5b376abb",
   "metadata": {},
   "outputs": [
    {
     "name": "stdout",
     "output_type": "stream",
     "text": [
      "2000\n"
     ]
    }
   ],
   "source": [
    "# for each document in movie_reviews, get its words and category (positive/negative)\n",
    "documents = [(list(movie_reviews.words(fileid)), category)\n",
    "              for category in movie_reviews.categories()\n",
    "              for fileid in movie_reviews.fileids(category)]\n",
    "print(len(documents))"
   ]
  },
  {
   "cell_type": "code",
   "execution_count": 80,
   "id": "70255aa9",
   "metadata": {},
   "outputs": [],
   "source": [
    "random.shuffle(documents)\n"
   ]
  },
  {
   "cell_type": "code",
   "execution_count": 81,
   "id": "fb6bbd48",
   "metadata": {},
   "outputs": [
    {
     "name": "stdout",
     "output_type": "stream",
     "text": [
      "39768\n"
     ]
    }
   ],
   "source": [
    "## use words from all documents to define the word vector for features\n",
    "# get all words from all movie_reviews and put into a frequency distribution\n",
    "all_words = nltk.FreqDist(w.lower() for w in movie_reviews.words())\n",
    "print(len(all_words))"
   ]
  },
  {
   "cell_type": "code",
   "execution_count": 82,
   "id": "359bb41f",
   "metadata": {},
   "outputs": [],
   "source": [
    "# get the 2000 most frequently appearing keywords in the corpus\n",
    "word_items_less2k = all_words.most_common(1350)\n",
    "word_features_less2k = [word for (word, freq) in word_items_less2k]   # just the words\n",
    "\n",
    "word_items_more2k = all_words.most_common(5050)\n",
    "word_features_more2k = [word for (word, freq) in word_items_more2k]"
   ]
  },
  {
   "cell_type": "code",
   "execution_count": 83,
   "id": "faea667f",
   "metadata": {},
   "outputs": [
    {
     "name": "stdout",
     "output_type": "stream",
     "text": [
      "less than 2K :  [',', 'the', '.', 'a', 'and', 'of', 'to', \"'\", 'is', 'in', 's', '\"', 'it', 'that', '-', ')', '(', 'as', 'with', 'for', 'his', 'this', 'film', 'i', 'he', 'but', 'on', 'are', 't', 'by', 'be', 'one', 'movie', 'an', 'who', 'not', 'you', 'from', 'at', 'was', 'have', 'they', 'has', 'her', 'all', '?', 'there', 'like', 'so', 'out', 'about', 'up', 'more', 'what', 'when', 'which', 'or', 'she', 'their', ':', 'some', 'just', 'can', 'if', 'we', 'him', 'into', 'even', 'only', 'than', 'no', 'good', 'time', 'most', 'its', 'will', 'story', 'would', 'been', 'much', 'character', 'also', 'get', 'other', 'do', 'two', 'well', 'them', 'very', 'characters', ';', 'first', '--', 'after', 'see', '!', 'way', 'because', 'make', 'life'] \n",
      "\n",
      "More than 2K :  [',', 'the', '.', 'a', 'and', 'of', 'to', \"'\", 'is', 'in', 's', '\"', 'it', 'that', '-', ')', '(', 'as', 'with', 'for', 'his', 'this', 'film', 'i', 'he', 'but', 'on', 'are', 't', 'by', 'be', 'one', 'movie', 'an', 'who', 'not', 'you', 'from', 'at', 'was', 'have', 'they', 'has', 'her', 'all', '?', 'there', 'like', 'so', 'out', 'about', 'up', 'more', 'what', 'when', 'which', 'or', 'she', 'their', ':', 'some', 'just', 'can', 'if', 'we', 'him', 'into', 'even', 'only', 'than', 'no', 'good', 'time', 'most', 'its', 'will', 'story', 'would', 'been', 'much', 'character', 'also', 'get', 'other', 'do', 'two', 'well', 'them', 'very', 'characters', ';', 'first', '--', 'after', 'see', '!', 'way', 'because', 'make', 'life']\n"
     ]
    }
   ],
   "source": [
    "# look at the first 100 words\n",
    "print(\"less than 2K : \",word_features_less2k[:100],\"\\n\")\n",
    "print(\"More than 2K : \",word_features_more2k[:100])"
   ]
  },
  {
   "cell_type": "code",
   "execution_count": 84,
   "id": "47bb5f66",
   "metadata": {},
   "outputs": [],
   "source": [
    "# define features (keywords) of a document\n",
    "# each feature is 'contains(keyword)' and is true or false depending\n",
    "# on whether that keyword is in the document\n",
    "def document_features(document, word_features):\n",
    "\tdocument_words = set(document)\n",
    "\tfeatures = {}\n",
    "\tfor word in word_features:\n",
    "\t\tfeatures['V_%s' % word] = (word in document_words)\n",
    "\treturn features"
   ]
  },
  {
   "cell_type": "code",
   "execution_count": 85,
   "id": "8e3363e4",
   "metadata": {},
   "outputs": [],
   "source": [
    "# get features sets for a document, including keyword features and category feature\n",
    "featuresets_less2k = [(document_features(d, word_features_less2k), c) for (d,c) in documents]\n"
   ]
  },
  {
   "cell_type": "code",
   "execution_count": 89,
   "id": "9dab3105",
   "metadata": {},
   "outputs": [
    {
     "name": "stdout",
     "output_type": "stream",
     "text": [
      "0.73\n"
     ]
    }
   ],
   "source": [
    "# training using naive Baysian classifier with a 95/5 split\n",
    "train_set_less2k, test_set_less2k = featuresets_less2k[100:], featuresets_less2k[:100]\n",
    "classifier_less2k = nltk.NaiveBayesClassifier.train(train_set_less2k)\n",
    "\n",
    "# evaluate the accuracy of the classifier\n",
    "print (nltk.classify.accuracy(classifier_less2k, test_set_less2k))\n",
    "# the accuracy result may vary since we randomized the documents"
   ]
  },
  {
   "cell_type": "code",
   "execution_count": 87,
   "id": "9d5943af",
   "metadata": {},
   "outputs": [],
   "source": [
    "# get features sets for a document, including keyword features and category feature\n",
    "featuresets_more2k = [(document_features(d,word_features_more2k), c) for (d,c) in documents]\n"
   ]
  },
  {
   "cell_type": "code",
   "execution_count": 90,
   "id": "4e0d403e",
   "metadata": {},
   "outputs": [
    {
     "name": "stdout",
     "output_type": "stream",
     "text": [
      "0.79\n"
     ]
    }
   ],
   "source": [
    "# training using naive Baysian classifier with a 95/5 split\n",
    "train_set_more2k, test_set_more2k = featuresets_more2k[100:], featuresets_more2k[:100]\n",
    "classifier_more2k = nltk.NaiveBayesClassifier.train(train_set_more2k)\n",
    "\n",
    "# evaluate the accuracy of the classifier\n",
    "print (nltk.classify.accuracy(classifier_more2k, test_set_more2k))\n",
    "# the accuracy result may vary since we randomized the documents"
   ]
  },
  {
   "cell_type": "code",
   "execution_count": null,
   "id": "3c3bdefb",
   "metadata": {},
   "outputs": [],
   "source": []
  }
 ],
 "metadata": {
  "kernelspec": {
   "display_name": "Python 3",
   "language": "python",
   "name": "python3"
  },
  "language_info": {
   "codemirror_mode": {
    "name": "ipython",
    "version": 3
   },
   "file_extension": ".py",
   "mimetype": "text/x-python",
   "name": "python",
   "nbconvert_exporter": "python",
   "pygments_lexer": "ipython3",
   "version": "3.8.8"
  }
 },
 "nbformat": 4,
 "nbformat_minor": 5
}
