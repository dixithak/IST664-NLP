{
 "cells": [
  {
   "cell_type": "code",
   "execution_count": 1,
   "id": "e94f88a3",
   "metadata": {},
   "outputs": [
    {
     "name": "stdout",
     "output_type": "stream",
     "text": [
      "{'last_letter': 'k'}\n"
     ]
    }
   ],
   "source": [
    "# Lab Week 7 - Classification tasks with different types of features\n",
    "# This file has small examples that are meant to be run individually\n",
    "#   in the Python shell\n",
    "\n",
    "import nltk\n",
    "\n",
    "# define a feature extraction function for each name\n",
    "def gender_features(word):\n",
    "    return{'last_letter': word[-1]}\n",
    "print(gender_features('Shrek'))\n",
    "\n",
    "\n"
   ]
  },
  {
   "cell_type": "code",
   "execution_count": 2,
   "id": "fbe1e283",
   "metadata": {},
   "outputs": [
    {
     "name": "stdout",
     "output_type": "stream",
     "text": [
      "['Aamir', 'Aaron', 'Abbey', 'Abbie', 'Abbot', 'Abbott', 'Abby', 'Abdel', 'Abdul', 'Abdulkarim', 'Abdullah', 'Abe', 'Abel', 'Abelard', 'Abner', 'Abraham', 'Abram', 'Ace', 'Adair', 'Adam']\n",
      "['Abagael', 'Abagail', 'Abbe', 'Abbey', 'Abbi', 'Abbie', 'Abby', 'Abigael', 'Abigail', 'Abigale', 'Abra', 'Acacia', 'Ada', 'Adah', 'Adaline', 'Adara', 'Addie', 'Addis', 'Adel', 'Adela']\n"
     ]
    }
   ],
   "source": [
    "# resource for male and female first names\n",
    "from nltk.corpus import names\n",
    "print(names.words('male.txt')[:20])\n",
    "print(names.words('female.txt')[:20])"
   ]
  },
  {
   "cell_type": "code",
   "execution_count": 3,
   "id": "310aa28c",
   "metadata": {},
   "outputs": [
    {
     "name": "stdout",
     "output_type": "stream",
     "text": [
      "7944\n",
      "[('Aamir', 'male'), ('Aaron', 'male'), ('Abbey', 'male'), ('Abbie', 'male'), ('Abbot', 'male'), ('Abbott', 'male'), ('Abby', 'male'), ('Abdel', 'male'), ('Abdul', 'male'), ('Abdulkarim', 'male'), ('Abdullah', 'male'), ('Abe', 'male'), ('Abel', 'male'), ('Abelard', 'male'), ('Abner', 'male'), ('Abraham', 'male'), ('Abram', 'male'), ('Ace', 'male'), ('Adair', 'male'), ('Adam', 'male')]\n",
      "[('Zena', 'female'), ('Zenia', 'female'), ('Zia', 'female'), ('Zilvia', 'female'), ('Zita', 'female'), ('Zitella', 'female'), ('Zoe', 'female'), ('Zola', 'female'), ('Zonda', 'female'), ('Zondra', 'female'), ('Zonnya', 'female'), ('Zora', 'female'), ('Zorah', 'female'), ('Zorana', 'female'), ('Zorina', 'female'), ('Zorine', 'female'), ('Zsa Zsa', 'female'), ('Zsazsa', 'female'), ('Zulema', 'female'), ('Zuzana', 'female')]\n"
     ]
    }
   ],
   "source": [
    "# make list of male and female names paired with gender\n",
    "namesgender = ([(name, 'male') for name in names.words('male.txt')] +\n",
    "          [(name, 'female') for name in names.words('female.txt')])\n",
    "print(len(namesgender))\n",
    "print(namesgender[:20])\n",
    "print(namesgender[7924:])"
   ]
  },
  {
   "cell_type": "code",
   "execution_count": 4,
   "id": "25543851",
   "metadata": {},
   "outputs": [
    {
     "name": "stdout",
     "output_type": "stream",
     "text": [
      "[('Carlita', 'female'), ('Rhodia', 'female'), ('Sigmund', 'male'), ('Elbertina', 'female'), ('Joellen', 'female'), ('Nevile', 'male'), ('Hedwig', 'female'), ('Veronica', 'female'), ('Cain', 'male'), ('Jonah', 'male'), ('Sissy', 'female'), ('Flipper', 'male'), ('Marius', 'male'), ('Haven', 'male'), ('Jada', 'female'), ('Cara', 'female'), ('Glori', 'female'), ('Gabriel', 'male'), ('Dotty', 'female'), ('Barny', 'male')]\n"
     ]
    }
   ],
   "source": [
    "# put the list into random order\n",
    "import random\n",
    "random.shuffle(namesgender)\n",
    "print(namesgender[:20])"
   ]
  },
  {
   "cell_type": "code",
   "execution_count": 5,
   "id": "647f29b0",
   "metadata": {},
   "outputs": [],
   "source": [
    "# separate the names into training and test\n",
    "train_names = namesgender[500:]\n",
    "test_names = namesgender[:500]\n"
   ]
  },
  {
   "cell_type": "code",
   "execution_count": 6,
   "id": "17a3ae8b",
   "metadata": {},
   "outputs": [
    {
     "name": "stdout",
     "output_type": "stream",
     "text": [
      "[({'last_letter': 's'}, 'male'), ({'last_letter': 'o'}, 'male'), ({'last_letter': 'i'}, 'female'), ({'last_letter': 'a'}, 'female'), ({'last_letter': 'n'}, 'male'), ({'last_letter': 'y'}, 'female'), ({'last_letter': 'a'}, 'female'), ({'last_letter': 'n'}, 'male'), ({'last_letter': 'n'}, 'female'), ({'last_letter': 't'}, 'male'), ({'last_letter': 'n'}, 'male'), ({'last_letter': 'f'}, 'male'), ({'last_letter': 'e'}, 'female'), ({'last_letter': 'l'}, 'male'), ({'last_letter': 'e'}, 'female'), ({'last_letter': 'n'}, 'male'), ({'last_letter': 'e'}, 'female'), ({'last_letter': 'y'}, 'female'), ({'last_letter': 'l'}, 'male'), ({'last_letter': 'e'}, 'female')]\n"
     ]
    }
   ],
   "source": [
    "# use our features to train a classify and test on the development test set\n",
    "train_set = [(gender_features(n), g) for (n, g) in train_names]\n",
    "test_set = [(gender_features(n), g) for (n, g) in test_names]\n",
    "print(train_set[:20])\n"
   ]
  },
  {
   "cell_type": "code",
   "execution_count": 7,
   "id": "e51d4752",
   "metadata": {},
   "outputs": [
    {
     "name": "stdout",
     "output_type": "stream",
     "text": [
      "male\n",
      "female\n"
     ]
    }
   ],
   "source": [
    "classifier = nltk.NaiveBayesClassifier.train(train_set)\n",
    "\n",
    "# classify new instances\n",
    "print(classifier.classify(gender_features('Neo')))\n",
    "print(classifier.classify(gender_features('Trinity')))"
   ]
  },
  {
   "cell_type": "code",
   "execution_count": 8,
   "id": "c4547279",
   "metadata": {},
   "outputs": [
    {
     "name": "stdout",
     "output_type": "stream",
     "text": [
      "0.762\n"
     ]
    }
   ],
   "source": [
    "# classify accuracy function runs the classifier on the test set and reports\n",
    "#   comparisons between predicted labels and actual/gold labels\n",
    "print(nltk.classify.accuracy(classifier, test_set))"
   ]
  },
  {
   "cell_type": "code",
   "execution_count": 9,
   "id": "afa11a21",
   "metadata": {},
   "outputs": [
    {
     "name": "stdout",
     "output_type": "stream",
     "text": [
      "Most Informative Features\n",
      "             last_letter = 'a'            female : male   =     37.4 : 1.0\n",
      "             last_letter = 'k'              male : female =     31.9 : 1.0\n",
      "             last_letter = 'f'              male : female =     16.4 : 1.0\n",
      "             last_letter = 'p'              male : female =     12.4 : 1.0\n",
      "             last_letter = 'v'              male : female =     10.4 : 1.0\n",
      "             last_letter = 'd'              male : female =      9.4 : 1.0\n",
      "             last_letter = 'm'              male : female =      9.3 : 1.0\n",
      "             last_letter = 'o'              male : female =      8.8 : 1.0\n",
      "             last_letter = 'r'              male : female =      6.7 : 1.0\n",
      "             last_letter = 'w'              male : female =      6.1 : 1.0\n",
      "             last_letter = 'g'              male : female =      5.2 : 1.0\n",
      "             last_letter = 'u'              male : female =      4.3 : 1.0\n",
      "             last_letter = 't'              male : female =      4.1 : 1.0\n",
      "             last_letter = 's'              male : female =      4.1 : 1.0\n",
      "             last_letter = 'i'            female : male   =      3.6 : 1.0\n",
      "             last_letter = 'b'              male : female =      3.4 : 1.0\n",
      "             last_letter = 'z'              male : female =      3.2 : 1.0\n",
      "             last_letter = 'j'              male : female =      2.8 : 1.0\n",
      "             last_letter = 'n'              male : female =      2.1 : 1.0\n",
      "             last_letter = 'x'              male : female =      1.9 : 1.0\n",
      "None\n"
     ]
    }
   ],
   "source": [
    "# this function available for naive bayes classifiers\n",
    "print(classifier.show_most_informative_features(20))\n"
   ]
  },
  {
   "cell_type": "code",
   "execution_count": 10,
   "id": "747fbace",
   "metadata": {},
   "outputs": [
    {
     "name": "stdout",
     "output_type": "stream",
     "text": [
      "119\n"
     ]
    }
   ],
   "source": [
    "# define a function that will compare the classifier labels with the gold standard labels\n",
    "def geterrors(test):\n",
    "    errors = []\n",
    "    for (name, tag) in test:\n",
    "        guess = classifier.classify(gender_features(name))\n",
    "        if guess != tag:\n",
    "            errors.append( (tag, guess, name) )\n",
    "    return errors\n",
    "\n",
    "errors = geterrors(test_names)\n",
    "print(len(errors))"
   ]
  },
  {
   "cell_type": "code",
   "execution_count": 11,
   "id": "827734dc",
   "metadata": {},
   "outputs": [
    {
     "name": "stdout",
     "output_type": "stream",
     "text": [
      "correct=female   guess=male     name=Angel                         \n",
      "correct=female   guess=male     name=Beau                          \n",
      "correct=female   guess=male     name=Bette-Ann                     \n",
      "correct=female   guess=male     name=Britt                         \n",
      "correct=female   guess=male     name=Calypso                       \n",
      "correct=female   guess=male     name=Cameo                         \n",
      "correct=female   guess=male     name=Cathryn                       \n",
      "correct=female   guess=male     name=Charin                        \n",
      "correct=female   guess=male     name=Cherilynn                     \n",
      "correct=female   guess=male     name=Cherin                        \n",
      "correct=female   guess=male     name=Cris                          \n",
      "correct=female   guess=male     name=Deeann                        \n",
      "correct=female   guess=male     name=Diamond                       \n",
      "correct=female   guess=male     name=Dido                          \n",
      "correct=female   guess=male     name=Doralyn                       \n",
      "correct=female   guess=male     name=Ellynn                        \n",
      "correct=female   guess=male     name=Emlyn                         \n",
      "correct=female   guess=male     name=Erinn                         \n",
      "correct=female   guess=male     name=Ethelin                       \n",
      "correct=female   guess=male     name=Fiann                         \n",
      "correct=female   guess=male     name=Flor                          \n",
      "correct=female   guess=male     name=Francis                       \n",
      "correct=female   guess=male     name=Gladis                        \n",
      "correct=female   guess=male     name=Glynnis                       \n",
      "correct=female   guess=male     name=Gunvor                        \n",
      "correct=female   guess=male     name=Hedwig                        \n",
      "correct=female   guess=male     name=Imogen                        \n",
      "correct=female   guess=male     name=Janis                         \n",
      "correct=female   guess=male     name=Jaquelyn                      \n",
      "correct=female   guess=male     name=Jaynell                       \n",
      "correct=female   guess=male     name=Jazmin                        \n",
      "correct=female   guess=male     name=Jilleen                       \n",
      "correct=female   guess=male     name=Jo Ann                        \n",
      "correct=female   guess=male     name=Joellen                       \n",
      "correct=female   guess=male     name=Kirstin                       \n",
      "correct=female   guess=male     name=Kristel                       \n",
      "correct=female   guess=male     name=Kristin                       \n",
      "correct=female   guess=male     name=Lou                           \n",
      "correct=female   guess=male     name=Margeaux                      \n",
      "correct=female   guess=male     name=Maribel                       \n",
      "correct=female   guess=male     name=Marieann                      \n",
      "correct=female   guess=male     name=Marion                        \n",
      "correct=female   guess=male     name=Melisent                      \n",
      "correct=female   guess=male     name=Merl                          \n",
      "correct=female   guess=male     name=Michel                        \n",
      "correct=female   guess=male     name=Miran                         \n",
      "correct=female   guess=male     name=Miriam                        \n",
      "correct=female   guess=male     name=Morgen                        \n",
      "correct=female   guess=male     name=Rahel                         \n",
      "correct=female   guess=male     name=Robinett                      \n",
      "correct=female   guess=male     name=Shamit                        \n",
      "correct=female   guess=male     name=Shawn                         \n",
      "correct=female   guess=male     name=Suzan                         \n",
      "correct=female   guess=male     name=Velvet                        \n",
      "correct=female   guess=male     name=Violet                        \n",
      "correct=female   guess=male     name=Wilow                         \n",
      "correct=male     guess=female   name=Aditya                        \n",
      "correct=male     guess=female   name=Barny                         \n",
      "correct=male     guess=female   name=Bartolomei                    \n",
      "correct=male     guess=female   name=Bay                           \n",
      "correct=male     guess=female   name=Beale                         \n",
      "correct=male     guess=female   name=Bentley                       \n",
      "correct=male     guess=female   name=Binky                         \n",
      "correct=male     guess=female   name=Brice                         \n",
      "correct=male     guess=female   name=Carlyle                       \n",
      "correct=male     guess=female   name=Charlie                       \n",
      "correct=male     guess=female   name=Chauncey                      \n",
      "correct=male     guess=female   name=Christophe                    \n",
      "correct=male     guess=female   name=Clay                          \n",
      "correct=male     guess=female   name=Clemmie                       \n",
      "correct=male     guess=female   name=Corey                         \n",
      "correct=male     guess=female   name=Cortese                       \n",
      "correct=male     guess=female   name=Davie                         \n",
      "correct=male     guess=female   name=Drake                         \n",
      "correct=male     guess=female   name=Eustace                       \n",
      "correct=male     guess=female   name=Freddie                       \n",
      "correct=male     guess=female   name=Hadley                        \n",
      "correct=male     guess=female   name=Hasty                         \n",
      "correct=male     guess=female   name=Hillary                       \n",
      "correct=male     guess=female   name=Howie                         \n",
      "correct=male     guess=female   name=Huey                          \n",
      "correct=male     guess=female   name=Iggy                          \n",
      "correct=male     guess=female   name=Ikey                          \n",
      "correct=male     guess=female   name=Jimmie                        \n",
      "correct=male     guess=female   name=Jonah                         \n",
      "correct=male     guess=female   name=Jorge                         \n",
      "correct=male     guess=female   name=Joshua                        \n",
      "correct=male     guess=female   name=Julie                         \n",
      "correct=male     guess=female   name=Kenny                         \n",
      "correct=male     guess=female   name=Lane                          \n",
      "correct=male     guess=female   name=Lawrence                      \n",
      "correct=male     guess=female   name=Mahesh                        \n",
      "correct=male     guess=female   name=Meredith                      \n",
      "correct=male     guess=female   name=Mugsy                         \n",
      "correct=male     guess=female   name=Nevile                        \n",
      "correct=male     guess=female   name=Nikki                         \n",
      "correct=male     guess=female   name=Obie                          \n",
      "correct=male     guess=female   name=Ole                           \n",
      "correct=male     guess=female   name=Paige                         \n",
      "correct=male     guess=female   name=Patrice                       \n",
      "correct=male     guess=female   name=Rodolphe                      \n",
      "correct=male     guess=female   name=Roscoe                        \n",
      "correct=male     guess=female   name=Rourke                        \n",
      "correct=male     guess=female   name=Roy                           \n",
      "correct=male     guess=female   name=Sarge                         \n",
      "correct=male     guess=female   name=Sasha                         \n",
      "correct=male     guess=female   name=Serge                         \n",
      "correct=male     guess=female   name=Siffre                        \n",
      "correct=male     guess=female   name=Simone                        \n",
      "correct=male     guess=female   name=Smitty                        \n",
      "correct=male     guess=female   name=Spike                         \n",
      "correct=male     guess=female   name=Stanley                       \n",
      "correct=male     guess=female   name=Sunny                         \n",
      "correct=male     guess=female   name=Thane                         \n",
      "correct=male     guess=female   name=Tre                           \n",
      "correct=male     guess=female   name=Vasili                        \n",
      "correct=male     guess=female   name=Wash                          \n",
      "correct=male     guess=female   name=Yule                          \n",
      "correct=male     guess=female   name=Zolly                         \n"
     ]
    }
   ],
   "source": [
    "# define a function to print the errors\n",
    "def printerrors(errors):\n",
    "    for (tag, guess, name) in sorted(errors):\n",
    "        print('correct={:<8s} guess={:<8s} name={:<30s}'.format(tag, guess, name))\n",
    "\n",
    "printerrors(errors)\n"
   ]
  },
  {
   "cell_type": "code",
   "execution_count": 12,
   "id": "0584fbde",
   "metadata": {},
   "outputs": [],
   "source": [
    "## classify part of speech based on sentence context\n",
    "from nltk.corpus import brown\n",
    "\n",
    "# define features for the \"i\"th word in the sentence, including three types of suffix \n",
    "#     and one pre-word\n",
    "# the pos features function takes the sentence of untagged words and the index of a word i\n",
    "#   it creates features for word i, including the previous word i-1\n",
    "def pos_features(sentence, i):    \n",
    "    features = {\"suffix(1)\": sentence[i][-1:],\n",
    "\t\t    \"suffix(2)\": sentence[i][-2:],\n",
    "\t\t    \"suffix(3)\": sentence[i][-3:]}\n",
    "    if i == 0:\n",
    "        features[\"prev-word\"] = \"<START>\"\n",
    "    else:\n",
    "        features[\"prev-word\"] = sentence[i-1]\n",
    "    return features \n",
    "\n"
   ]
  },
  {
   "cell_type": "code",
   "execution_count": 13,
   "id": "73bcd2c9",
   "metadata": {},
   "outputs": [
    {
     "name": "stdout",
     "output_type": "stream",
     "text": [
      "['The', 'Fulton', 'County', 'Grand', 'Jury', 'said', 'Friday', 'an', 'investigation', 'of', \"Atlanta's\", 'recent', 'primary', 'election', 'produced', '``', 'no', 'evidence', \"''\", 'that', 'any', 'irregularities', 'took', 'place', '.']\n",
      "investigation\n"
     ]
    }
   ],
   "source": [
    "# look at features of a specific word in a specific sentence\n",
    "# first sentence of brown corpus\n",
    "sentence0 = brown.sents()[0]\n",
    "print(sentence0)\n",
    "# word 8 of sentence 0\n",
    "print(sentence0[8])"
   ]
  },
  {
   "cell_type": "code",
   "execution_count": 14,
   "id": "e514a5c5",
   "metadata": {},
   "outputs": [
    {
     "name": "stdout",
     "output_type": "stream",
     "text": [
      "{'suffix(1)': 'n', 'suffix(2)': 'on', 'suffix(3)': 'ion', 'prev-word': 'an'}\n"
     ]
    }
   ],
   "source": [
    "# pos features of the word 8 \n",
    "print(pos_features(sentence0, 8))"
   ]
  },
  {
   "cell_type": "code",
   "execution_count": 15,
   "id": "9a92c511",
   "metadata": {},
   "outputs": [
    {
     "data": {
      "text/plain": [
       "[('The', 'AT'),\n",
       " ('Fulton', 'NP-TL'),\n",
       " ('County', 'NN-TL'),\n",
       " ('Grand', 'JJ-TL'),\n",
       " ('Jury', 'NN-TL'),\n",
       " ('said', 'VBD'),\n",
       " ('Friday', 'NR'),\n",
       " ('an', 'AT'),\n",
       " ('investigation', 'NN'),\n",
       " ('of', 'IN'),\n",
       " (\"Atlanta's\", 'NP$'),\n",
       " ('recent', 'JJ'),\n",
       " ('primary', 'NN'),\n",
       " ('election', 'NN'),\n",
       " ('produced', 'VBD'),\n",
       " ('``', '``'),\n",
       " ('no', 'AT'),\n",
       " ('evidence', 'NN'),\n",
       " (\"''\", \"''\"),\n",
       " ('that', 'CS'),\n",
       " ('any', 'DTI'),\n",
       " ('irregularities', 'NNS'),\n",
       " ('took', 'VBD'),\n",
       " ('place', 'NN'),\n",
       " ('.', '.')]"
      ]
     },
     "execution_count": 15,
     "metadata": {},
     "output_type": "execute_result"
    }
   ],
   "source": [
    "# get the POS tagged sentences with categories of news\n",
    "tagged_sents = brown.tagged_sents(categories='news')\n",
    "tag_sent0 = tagged_sents[0]\n",
    "tag_sent0"
   ]
  },
  {
   "cell_type": "code",
   "execution_count": 16,
   "id": "b6ab8066",
   "metadata": {},
   "outputs": [
    {
     "name": "stdout",
     "output_type": "stream",
     "text": [
      "0 The AT\n",
      "1 Fulton NP-TL\n",
      "2 County NN-TL\n",
      "3 Grand JJ-TL\n",
      "4 Jury NN-TL\n",
      "5 said VBD\n",
      "6 Friday NR\n",
      "7 an AT\n",
      "8 investigation NN\n",
      "9 of IN\n",
      "10 Atlanta's NP$\n",
      "11 recent JJ\n",
      "12 primary NN\n",
      "13 election NN\n",
      "14 produced VBD\n",
      "15 `` ``\n",
      "16 no AT\n",
      "17 evidence NN\n",
      "18 '' ''\n",
      "19 that CS\n",
      "20 any DTI\n",
      "21 irregularities NNS\n",
      "22 took VBD\n",
      "23 place NN\n",
      "24 . .\n"
     ]
    }
   ],
   "source": [
    "# the function nltk.tag.untag will take the tags off\n",
    "nltk.tag.untag(tag_sent0)\n",
    "\n",
    "# the python enumerate function generates an index number for each item in a list\n",
    "for i,(word,tag) in enumerate(tag_sent0):\n",
    "    print (i, word, tag)\n",
    "\n"
   ]
  },
  {
   "cell_type": "code",
   "execution_count": 17,
   "id": "8046ad0e",
   "metadata": {},
   "outputs": [],
   "source": [
    "# get feature sets of words appearing in the corpus, from untagged sentences.\n",
    "# and then get their tags from corresponding tagged sentence\n",
    "# use the Python function enumerate to pair the index numbers with sentence words \n",
    "#   for the pos features function\n",
    "featuresets = []\n",
    "for tagged_sent in tagged_sents:\n",
    "\tuntagged_sent = nltk.tag.untag(tagged_sent)\n",
    "\tfor i, (word, tag) in enumerate(tagged_sent):\n",
    "\t\tfeaturesets.append( (pos_features(untagged_sent, i), tag) )\n",
    "\n"
   ]
  },
  {
   "cell_type": "code",
   "execution_count": 18,
   "id": "0f0900c2",
   "metadata": {},
   "outputs": [
    {
     "name": "stdout",
     "output_type": "stream",
     "text": [
      "({'suffix(1)': 'e', 'suffix(2)': 'he', 'suffix(3)': 'The', 'prev-word': '<START>'}, 'AT')\n",
      "({'suffix(1)': 'n', 'suffix(2)': 'on', 'suffix(3)': 'ton', 'prev-word': 'The'}, 'NP-TL')\n",
      "({'suffix(1)': 'y', 'suffix(2)': 'ty', 'suffix(3)': 'nty', 'prev-word': 'Fulton'}, 'NN-TL')\n",
      "({'suffix(1)': 'd', 'suffix(2)': 'nd', 'suffix(3)': 'and', 'prev-word': 'County'}, 'JJ-TL')\n",
      "({'suffix(1)': 'y', 'suffix(2)': 'ry', 'suffix(3)': 'ury', 'prev-word': 'Grand'}, 'NN-TL')\n",
      "({'suffix(1)': 'd', 'suffix(2)': 'id', 'suffix(3)': 'aid', 'prev-word': 'Jury'}, 'VBD')\n",
      "({'suffix(1)': 'y', 'suffix(2)': 'ay', 'suffix(3)': 'day', 'prev-word': 'said'}, 'NR')\n",
      "({'suffix(1)': 'n', 'suffix(2)': 'an', 'suffix(3)': 'an', 'prev-word': 'Friday'}, 'AT')\n",
      "({'suffix(1)': 'n', 'suffix(2)': 'on', 'suffix(3)': 'ion', 'prev-word': 'an'}, 'NN')\n",
      "({'suffix(1)': 'f', 'suffix(2)': 'of', 'suffix(3)': 'of', 'prev-word': 'investigation'}, 'IN')\n"
     ]
    }
   ],
   "source": [
    "# look at the feature sets of the first 10 words\n",
    "for f in featuresets[:10]:\n",
    "\tprint (f)\n",
    "\t"
   ]
  },
  {
   "cell_type": "code",
   "execution_count": 19,
   "id": "cdd2ead0",
   "metadata": {},
   "outputs": [
    {
     "name": "stdout",
     "output_type": "stream",
     "text": [
      "90499\n",
      "10055\n"
     ]
    }
   ],
   "source": [
    "# using naive Bayesian as classifier\n",
    "# split data into a training set and a test set, using a 90%/10% split\n",
    "size = int(len(featuresets) * 0.1)\n",
    "train_set, test_set = featuresets[size:], featuresets[:size]\n",
    "print(len(train_set))\n",
    "print(len(test_set))\n",
    "\n"
   ]
  },
  {
   "cell_type": "code",
   "execution_count": 20,
   "id": "b5e14fc3",
   "metadata": {},
   "outputs": [
    {
     "name": "stdout",
     "output_type": "stream",
     "text": [
      "0.7891596220785678\n"
     ]
    }
   ],
   "source": [
    "# train classifier on the training set\n",
    "classifier = nltk.NaiveBayesClassifier.train(train_set)\n",
    "\n",
    "# evaluate the accuracy (this will take a little while)\n",
    "print(nltk.classify.accuracy(classifier, test_set))\n",
    "# the result is reasonable for features without the previous tag\n",
    "\n"
   ]
  },
  {
   "cell_type": "code",
   "execution_count": 21,
   "id": "1db1e6c3",
   "metadata": {},
   "outputs": [
    {
     "name": "stdout",
     "output_type": "stream",
     "text": [
      "['neg', 'pos']\n",
      "2000\n"
     ]
    }
   ],
   "source": [
    "\n",
    "### classify documents based on keywords\n",
    "from nltk.corpus import movie_reviews\n",
    "import random\n",
    "\n",
    "# movie reviews are labeled either positive or negative (by human annotators)\n",
    "print(movie_reviews.categories())\n",
    "\n",
    "# for each document in movie_reviews, get its words and category (positive/negative)\n",
    "documents = [(list(movie_reviews.words(fileid)), category)\n",
    "              for category in movie_reviews.categories()\n",
    "              for fileid in movie_reviews.fileids(category)]\n",
    "print(len(documents))"
   ]
  },
  {
   "cell_type": "code",
   "execution_count": 22,
   "id": "7821b0e7",
   "metadata": {},
   "outputs": [
    {
     "name": "stdout",
     "output_type": "stream",
     "text": [
      "(['in', ',', '\"', 'the', 'muse', '\"', 'albert', 'brooks', 'plays', 'steven', 'phillips', ',', 'a', 'hollywood', 'screenwriter', 'who', 'after', 'winning', 'a', 'humanitarian', 'award', 'for', 'his', 'work', 'is', 'dumped', 'by', 'his', 'studio', '.', 'they', 'claim', 'that', 'he', \"'\", 's', 'lost', 'his', 'edge', 'and', 'his', 'agent', 'is', 'quick', 'to', 'agree', 'with', 'them', '.', 'he', 'knows', 'that', 'he', 'needs', 'to', 'write', 'something', 'fresh', 'and', 'original', 'and', 'quick', 'or', 'else', 'his', 'career', 'will', 'be', 'over', '.', 'so', 'he', 'turns', 'to', 'his', '\"', 'best', '\"', 'friend', ',', 'jack', '(', 'jeff', 'bridges', ')', 'another', 'screenwriter', 'who', \"'\", 's', 'enjoyed', 'success', 'after', 'success', '.', 'on', 'the', 'way', 'over', 'to', 'jack', \"'\", 's', 'house', 'steven', 'sees', 'jack', 'helping', 'an', 'attractive', 'woman', '(', 'sharon', 'stone', ')', 'into', 'a', 'cab', 'and', 'begins', 'to', 'think', ':', 'is', 'he', 'having', 'an', 'affair', '?', 'when', 'confronted', ',', 'jack', 'relunctently', 'tells', 'him', 'that', 'this', 'mystery', 'woman', 'is', ',', 'in', 'fact', ',', 'a', 'muse', ',', 'a', 'mythological', 'figure', 'who', 'is', 'believed', 'to', 'have', 'inspired', 'all', 'creativity', ',', 'and', 'has', 'helped', 'him', 'garner', 'his', 'success', '.', '\"', 'she', 'doesn', \"'\", 't', 'do', 'any', 'actual', 'writing', ',', '\"', 'he', 'is', 'told', ',', '\"', 'but', 'inspires', 'you', '.', '\"', 'steven', 'is', 'excited', 'by', 'what', 'he', \"'\", 's', 'hearing', 'and', 'asks', 'jack', 'to', 'call', 'her', 'up', 'to', 'see', 'if', 'she', \"'\", 'll', 'take', 'steven', 'on', 'as', 'a', 'new', 'client', '.', 'jack', 'arranges', 'a', 'meeting', 'between', 'the', 'two', 'and', 'suggests', 'that', 'steven', 'bring', 'her', 'a', 'present', ',', 'preferably', 'something', 'from', 'tiffany', \"'\", 's', '.', 'after', 'the', 'meeting', 'the', 'muse', ',', 'sarah', 'decides', 'to', 'take', 'on', 'steven', ',', 'but', 'at', 'a', 'price', ':', 'she', 'wants', 'a', 'suite', 'at', 'the', 'four', 'seasons', 'and', 'wants', 'steven', 'to', 'perform', 'odd', 'tasks', 'for', 'her', '(', 'like', 'bringing', 'her', 'salads', 'in', 'the', 'middle', 'of', 'the', 'night', '.', ')', 'steven', \"'\", 's', 'wife', '(', 'andy', 'macdowell', ')', 'sees', 'him', 'at', 'a', 'food', 'store', 'and', 'questions', 'him', 'about', 'why', 'he', 'has', 'tampons', 'in', 'his', 'wagon', '.', 'steven', 'confesses', 'everything', 'and', ',', 'although', 'at', 'first', 'suspicious', ',', 'she', 'later', 'allows', 'sarah', 'to', 'move', 'into', 'their', 'guest', 'room', 'and', 'eventually', 'into', 'their', 'life', '.', 'the', 'only', 'question', 'for', 'steven', 'is', 'if', 'the', 'muse', 'is', 'worth', 'all', 'the', 'trouble', 'he', \"'\", 's', 'going', 'through', 'for', 'her', '.', 'and', 'that', \"'\", 's', 'a', 'question', 'only', 'time', 'will', 'tell', '.', '\"', 'the', 'muse', '\"', 'is', 'albert', 'brooks', \"'\", 'sixth', 'film', 'as', 'writer', '/', 'director', '/', 'actor', '(', 'he', 'co', '-', 'wrote', 'with', 'monica', 'johnson', ')', 'and', 'although', 'it', \"'\", 's', 'a', 'good', 'movie', 'it', \"'\", 's', 'not', 'up', 'to', 'the', 'level', 'of', 'his', 'best', 'works', '(', '\"', 'defending', 'your', 'life', '\"', 'and', '\"', 'mother', '\"', ')', '.', 'the', 'problem', 'lies', 'in', 'the', 'script', ',', 'and', 'for', 'a', 'movie', 'that', 'relies', 'on', 'its', 'dialogue', 'for', 'its', 'humor', ',', 'there', 'aren', \"'\", 't', 'nearly', 'as', 'many', 'laughs', 'as', 'they', 'are', 'chuckles', 'despite', 'a', 'few', 'good', 'one', '-', 'liners', '.', 'it', 'has', 'a', 'great', 'premise', 'but', 'doesn', \"'\", 't', 'deliver', 'up', 'to', 'it', \"'\", 's', 'full', 'potential', '.', 'but', ',', 'i', 'like', 'albert', 'brooks', 'in', 'this', 'film', 'and', 'i', 'think', 'that', 'we', 'can', 'all', 'identify', 'with', 'steven', 'phillips', 'a', 'little', 'bit', '.', 'he', 'may', 'whine', 'and', 'complain', ',', 'but', 'he', 'just', 'wants', 'to', 'support', 'his', 'family', 'and', 'be', 'happy', '.', 'and', 'i', 'like', 'sharon', 'stone', 'in', 'this', 'movie', 'too', ';', 'it', \"'\", 's', 'a', 'nice', 'change', 'of', 'pace', 'for', 'her', '.', 'and', 'i', 'also', 'enjoyed', 'the', 'cameos', 'featuring', 'the', 'likes', 'of', 'rob', 'reiner', ',', 'james', 'cameron', 'and', 'martin', 'scorsese', '.', 'and', 'although', '\"', 'the', 'muse', '\"', 'doesn', \"'\", 't', 'have', 'as', 'much', 'to', 'say', 'about', 'hollywood', 'as', 'robert', 'altman', \"'\", 's', '\"', 'the', 'player', '\"', 'i', 'still', 'left', 'the', 'theater', 'feeling', 'good', '.', 'and', 'that', \"'\", 's', 'something', 'i', 'wish', 'i', 'got', 'out', 'of', 'more', 'movies', '.'], 'pos')\n"
     ]
    }
   ],
   "source": [
    "random.shuffle(documents)\n",
    "# look at the first document - consists of a list of all the words in the review\n",
    "# followed by the category\n",
    "print(documents[0])"
   ]
  },
  {
   "cell_type": "code",
   "execution_count": 23,
   "id": "078ee72a",
   "metadata": {},
   "outputs": [
    {
     "name": "stdout",
     "output_type": "stream",
     "text": [
      "39768\n"
     ]
    }
   ],
   "source": [
    "\n",
    "## use words from all documents to define the word vector for features\n",
    "# get all words from all movie_reviews and put into a frequency distribution\n",
    "all_words = nltk.FreqDist(w.lower() for w in movie_reviews.words())\n",
    "print(len(all_words))\n",
    "\n"
   ]
  },
  {
   "cell_type": "code",
   "execution_count": 24,
   "id": "6d21881c",
   "metadata": {},
   "outputs": [
    {
     "name": "stdout",
     "output_type": "stream",
     "text": [
      "[',', 'the', '.', 'a', 'and', 'of', 'to', \"'\", 'is', 'in', 's', '\"', 'it', 'that', '-', ')', '(', 'as', 'with', 'for', 'his', 'this', 'film', 'i', 'he', 'but', 'on', 'are', 't', 'by', 'be', 'one', 'movie', 'an', 'who', 'not', 'you', 'from', 'at', 'was', 'have', 'they', 'has', 'her', 'all', '?', 'there', 'like', 'so', 'out', 'about', 'up', 'more', 'what', 'when', 'which', 'or', 'she', 'their', ':', 'some', 'just', 'can', 'if', 'we', 'him', 'into', 'even', 'only', 'than', 'no', 'good', 'time', 'most', 'its', 'will', 'story', 'would', 'been', 'much', 'character', 'also', 'get', 'other', 'do', 'two', 'well', 'them', 'very', 'characters', ';', 'first', '--', 'after', 'see', '!', 'way', 'because', 'make', 'life']\n"
     ]
    }
   ],
   "source": [
    "# get the 2000 most frequently appearing keywords in the corpus\n",
    "word_items = all_words.most_common(2000)\n",
    "word_features = [word for (word, freq) in word_items]   # just the words\n",
    "\n",
    "# look at the first 100 words\n",
    "print(word_features[:100])"
   ]
  },
  {
   "cell_type": "code",
   "execution_count": 25,
   "id": "cd6533c7",
   "metadata": {},
   "outputs": [],
   "source": [
    "# define features (keywords) of a document\n",
    "# each feature is 'contains(keyword)' and is true or false depending\n",
    "# on whether that keyword is in the document\n",
    "def document_features(document, word_features):\n",
    "\tdocument_words = set(document)\n",
    "\tfeatures = {}\n",
    "\tfor word in word_features:\n",
    "\t\tfeatures['V_%s' % word] = (word in document_words)\n",
    "\treturn features"
   ]
  },
  {
   "cell_type": "code",
   "execution_count": 26,
   "id": "14ccc42e",
   "metadata": {},
   "outputs": [
    {
     "name": "stdout",
     "output_type": "stream",
     "text": [
      "({'V_,': True, 'V_the': True, 'V_.': True, 'V_a': True, 'V_and': True, 'V_of': True, 'V_to': True, \"V_'\": True, 'V_is': True, 'V_in': True, 'V_s': True, 'V_\"': True, 'V_it': True, 'V_that': True, 'V_-': True, 'V_)': True, 'V_(': True, 'V_as': True, 'V_with': True, 'V_for': True, 'V_his': True, 'V_this': True, 'V_film': True, 'V_i': True, 'V_he': True, 'V_but': True, 'V_on': True, 'V_are': True, 'V_t': True, 'V_by': True, 'V_be': True, 'V_one': True, 'V_movie': True, 'V_an': True, 'V_who': True, 'V_not': True, 'V_you': True, 'V_from': True, 'V_at': True, 'V_was': False, 'V_have': True, 'V_they': True, 'V_has': True, 'V_her': True, 'V_all': True, 'V_?': True, 'V_there': True, 'V_like': True, 'V_so': True, 'V_out': True, 'V_about': True, 'V_up': True, 'V_more': True, 'V_what': True, 'V_when': True, 'V_which': False, 'V_or': True, 'V_she': True, 'V_their': True, 'V_:': True, 'V_some': False, 'V_just': True, 'V_can': True, 'V_if': True, 'V_we': True, 'V_him': True, 'V_into': True, 'V_even': False, 'V_only': True, 'V_than': False, 'V_no': False, 'V_good': True, 'V_time': True, 'V_most': False, 'V_its': True, 'V_will': True, 'V_story': False, 'V_would': False, 'V_been': False, 'V_much': True, 'V_character': False, 'V_also': True, 'V_get': False, 'V_other': False, 'V_do': True, 'V_two': True, 'V_well': False, 'V_them': True, 'V_very': False, 'V_characters': False, 'V_;': True, 'V_first': True, 'V_--': False, 'V_after': True, 'V_see': True, 'V_!': False, 'V_way': True, 'V_because': False, 'V_make': False, 'V_life': True, 'V_off': False, 'V_too': True, 'V_any': True, 'V_does': False, 'V_really': False, 'V_had': False, 'V_while': False, 'V_films': False, 'V_how': False, 'V_plot': False, 'V_little': True, 'V_where': False, 'V_people': False, 'V_over': True, 'V_could': False, 'V_then': False, 'V_me': False, 'V_scene': False, 'V_man': False, 'V_bad': False, 'V_my': False, 'V_never': False, 'V_being': False, 'V_best': True, 'V_these': False, 'V_don': False, 'V_new': True, 'V_doesn': True, 'V_scenes': False, 'V_many': True, 'V_director': True, 'V_such': False, 'V_know': False, 'V_were': False, 'V_movies': True, 'V_through': True, 'V_here': False, 'V_action': False, 'V_great': True, 'V_re': False, 'V_another': True, 'V_love': False, 'V_go': False, 'V_made': False, 'V_us': False, 'V_big': False, 'V_end': False, 'V_something': True, 'V_back': False, 'V_*': False, 'V_still': True, 'V_world': False, 'V_seems': False, 'V_work': True, 'V_those': False, 'V_makes': False, 'V_now': False, 'V_before': False, 'V_however': False, 'V_between': True, 'V_few': True, 'V_/': True, 'V_down': False, 'V_every': False, 'V_though': False, 'V_better': False, 'V_real': False, 'V_audience': False, 'V_enough': False, 'V_seen': False, 'V_take': True, 'V_around': False, 'V_both': False, 'V_going': True, 'V_year': False, 'V_performance': False, 'V_why': True, 'V_should': False, 'V_role': False, 'V_isn': False, 'V_same': False, 'V_old': False, 'V_gets': False, 'V_your': True, 'V_may': True, 'V_things': False, 'V_think': True, 'V_years': False, 'V_last': False, 'V_comedy': False, 'V_funny': False, 'V_actually': False, 'V_ve': False, 'V_long': False, 'V_look': False, 'V_almost': False, 'V_own': False, 'V_thing': False, 'V_fact': True, 'V_nothing': False, 'V_say': True, 'V_right': False, 'V_john': False, 'V_although': True, 'V_played': False, 'V_find': False, 'V_script': True, 'V_come': False, 'V_ever': False, 'V_cast': False, 'V_since': False, 'V_did': False, 'V_star': False, 'V_plays': True, 'V_young': False, 'V_show': False, 'V_comes': False, 'V_m': False, 'V_part': False, 'V_original': True, 'V_actors': False, 'V_screen': False, 'V_without': False, 'V_again': False, 'V_acting': False, 'V_three': False, 'V_day': False, 'V_each': False, 'V_point': False, 'V_lot': False, 'V_least': False, 'V_takes': False, 'V_guy': False, 'V_quite': False, 'V_himself': False, 'V_away': False, 'V_during': False, 'V_family': True, 'V_effects': False, 'V_course': False, 'V_goes': False, 'V_minutes': False, 'V_interesting': False, 'V_might': False, 'V_far': False, 'V_high': False, 'V_rather': False, 'V_once': False, 'V_must': False, 'V_anything': False, 'V_place': False, 'V_set': False, 'V_yet': False, 'V_watch': False, 'V_d': False, 'V_making': False, 'V_our': False, 'V_wife': True, 'V_hard': False, 'V_always': False, 'V_fun': False, 'V_didn': False, 'V_ll': True, 'V_seem': False, 'V_special': False, 'V_bit': True, 'V_times': False, 'V_trying': False, 'V_hollywood': True, 'V_instead': False, 'V_give': False, 'V_want': False, 'V_picture': False, 'V_kind': False, 'V_american': False, 'V_job': False, 'V_sense': False, 'V_woman': True, 'V_home': False, 'V_having': True, 'V_series': False, 'V_actor': True, 'V_probably': False, 'V_help': False, 'V_half': False, 'V_along': False, 'V_men': False, 'V_everything': True, 'V_pretty': False, 'V_becomes': False, 'V_sure': False, 'V_black': False, 'V_together': False, 'V_dialogue': True, 'V_money': False, 'V_become': False, 'V_gives': False, 'V_given': False, 'V_looking': False, 'V_whole': False, 'V_watching': False, 'V_father': False, 'V_`': False, 'V_feel': False, 'V_everyone': False, 'V_music': False, 'V_wants': True, 'V_sex': False, 'V_less': False, 'V_done': False, 'V_horror': False, 'V_got': True, 'V_death': False, 'V_perhaps': False, 'V_city': False, 'V_next': False, 'V_especially': False, 'V_play': False, 'V_girl': False, 'V_mind': False, 'V_10': False, 'V_moments': False, 'V_looks': False, 'V_completely': False, 'V_2': False, 'V_reason': False, 'V_mother': True, 'V_whose': False, 'V_line': False, 'V_night': True, 'V_human': False, 'V_until': False, 'V_rest': False, 'V_performances': False, 'V_different': False, 'V_evil': False, 'V_small': False, 'V_james': True, 'V_simply': False, 'V_couple': False, 'V_put': False, 'V_let': False, 'V_anyone': False, 'V_ending': False, 'V_case': False, 'V_several': False, 'V_dead': False, 'V_michael': False, 'V_left': True, 'V_thought': False, 'V_school': False, 'V_shows': False, 'V_humor': True, 'V_true': False, 'V_lost': True, 'V_written': False, 'V_itself': False, 'V_friend': True, 'V_entire': False, 'V_getting': False, 'V_town': False, 'V_turns': True, 'V_soon': False, 'V_someone': False, 'V_second': False, 'V_main': False, 'V_stars': False, 'V_found': False, 'V_use': False, 'V_problem': True, 'V_friends': False, 'V_tv': False, 'V_top': False, 'V_name': False, 'V_begins': True, 'V_called': False, 'V_based': False, 'V_comic': False, 'V_david': False, 'V_head': False, 'V_else': True, 'V_idea': False, 'V_either': False, 'V_wrong': False, 'V_unfortunately': False, 'V_later': True, 'V_final': False, 'V_hand': False, 'V_alien': False, 'V_house': True, 'V_group': False, 'V_full': True, 'V_used': False, 'V_tries': False, 'V_often': False, 'V_against': False, 'V_war': False, 'V_sequence': False, 'V_keep': False, 'V_turn': False, 'V_playing': False, 'V_boy': False, 'V_behind': False, 'V_named': False, 'V_certainly': False, 'V_live': False, 'V_believe': False, 'V_under': False, 'V_works': True, 'V_relationship': False, 'V_face': False, 'V_hour': False, 'V_run': False, 'V_style': False, 'V_said': False, 'V_despite': True, 'V_person': False, 'V_finally': False, 'V_shot': False, 'V_book': False, 'V_doing': False, 'V_tell': True, 'V_maybe': False, 'V_nice': True, 'V_son': False, 'V_perfect': False, 'V_side': False, 'V_seeing': False, 'V_able': False, 'V_finds': False, 'V_children': False, 'V_days': False, 'V_past': False, 'V_summer': False, 'V_camera': False, 'V_won': False, 'V_including': False, 'V_mr': False, 'V_kids': False, 'V_lives': False, 'V_directed': False, 'V_moment': False, 'V_game': False, 'V_running': False, 'V_fight': False, 'V_supposed': False, 'V_video': False, 'V_car': False, 'V_matter': False, 'V_kevin': False, 'V_joe': False, 'V_lines': False, 'V_worth': True, 'V_=': False, 'V_daughter': False, 'V_earth': False, 'V_starts': False, 'V_need': False, 'V_entertaining': False, 'V_white': False, 'V_start': False, 'V_writer': True, 'V_dark': False, 'V_short': False, 'V_self': False, 'V_worst': False, 'V_nearly': True, 'V_opening': False, 'V_try': False, 'V_upon': False, 'V_care': False, 'V_early': False, 'V_violence': False, 'V_throughout': False, 'V_team': False, 'V_production': False, 'V_example': False, 'V_beautiful': False, 'V_title': False, 'V_exactly': False, 'V_jack': True, 'V_review': False, 'V_major': False, 'V_drama': False, 'V_&': False, 'V_problems': False, 'V_sequences': False, 'V_obvious': False, 'V_version': False, 'V_screenplay': False, 'V_known': False, 'V_killer': False, 'V_wasn': False, 'V_robert': True, 'V_disney': False, 'V_already': False, 'V_close': False, 'V_classic': False, 'V_others': False, 'V_hit': False, 'V_kill': False, 'V_deep': False, 'V_five': False, 'V_order': False, 'V_act': False, 'V_simple': False, 'V_fine': False, 'V_themselves': False, 'V_heart': False, 'V_roles': False, 'V_jackie': False, 'V_direction': False, 'V_eyes': False, 'V_four': True, 'V_question': True, 'V_sort': False, 'V_sometimes': False, 'V_knows': True, 'V_supporting': False, 'V_coming': False, 'V_voice': False, 'V_women': False, 'V_truly': False, 'V_save': False, 'V_jokes': False, 'V_computer': False, 'V_child': False, 'V_o': False, 'V_boring': False, 'V_tom': False, 'V_level': True, 'V_1': False, 'V_body': False, 'V_guys': False, 'V_genre': False, 'V_brother': False, 'V_strong': False, 'V_stop': False, 'V_room': True, 'V_space': False, 'V_lee': False, 'V_ends': False, 'V_beginning': False, 'V_ship': False, 'V_york': False, 'V_attempt': False, 'V_thriller': False, 'V_scream': False, 'V_peter': False, 'V_aren': True, 'V_husband': False, 'V_fiction': False, 'V_happens': False, 'V_hero': False, 'V_novel': False, 'V_note': False, 'V_hope': False, 'V_king': False, 'V_yes': False, 'V_says': False, 'V_tells': True, 'V_quickly': False, 'V_romantic': False, 'V_dog': False, 'V_oscar': False, 'V_stupid': False, 'V_possible': False, 'V_saw': False, 'V_lead': False, 'V_career': True, 'V_murder': False, 'V_extremely': False, 'V_manages': False, 'V_god': False, 'V_mostly': False, 'V_wonder': False, 'V_particularly': False, 'V_future': False, 'V_fans': False, 'V_sound': False, 'V_worse': False, 'V_piece': False, 'V_involving': False, 'V_de': False, 'V_appears': False, 'V_planet': False, 'V_paul': False, 'V_involved': False, 'V_mean': False, 'V_none': False, 'V_taking': False, 'V_hours': False, 'V_laugh': False, 'V_police': False, 'V_sets': False, 'V_attention': False, 'V_co': True, 'V_hell': False, 'V_eventually': True, 'V_single': False, 'V_fall': False, 'V_falls': False, 'V_material': False, 'V_emotional': False, 'V_power': False, 'V_late': False, 'V_lack': False, 'V_dr': False, 'V_van': False, 'V_result': False, 'V_elements': False, 'V_meet': False, 'V_smith': False, 'V_science': False, 'V_experience': False, 'V_bring': True, 'V_wild': False, 'V_living': False, 'V_theater': True, 'V_interest': False, 'V_leads': False, 'V_word': False, 'V_feature': False, 'V_battle': False, 'V_girls': False, 'V_alone': False, 'V_obviously': False, 'V_george': False, 'V_within': False, 'V_usually': False, 'V_enjoy': False, 'V_guess': False, 'V_among': False, 'V_taken': False, 'V_feeling': True, 'V_laughs': True, 'V_aliens': False, 'V_talk': False, 'V_chance': False, 'V_talent': False, 'V_3': False, 'V_middle': True, 'V_number': False, 'V_easy': False, 'V_across': False, 'V_needs': True, 'V_attempts': False, 'V_happen': False, 'V_television': False, 'V_chris': False, 'V_deal': False, 'V_poor': False, 'V_form': False, 'V_girlfriend': False, 'V_viewer': False, 'V_release': False, 'V_killed': False, 'V_forced': False, 'V_whether': False, 'V_wonderful': False, 'V_feels': False, 'V_oh': False, 'V_tale': False, 'V_serious': False, 'V_expect': False, 'V_except': False, 'V_light': False, 'V_success': True, 'V_features': False, 'V_premise': True, 'V_happy': True, 'V_words': False, 'V_leave': False, 'V_important': False, 'V_meets': False, 'V_history': False, 'V_giving': False, 'V_crew': False, 'V_type': False, 'V_call': True, 'V_turned': False, 'V_released': False, 'V_parents': False, 'V_art': False, 'V_impressive': False, 'V_mission': False, 'V_working': False, 'V_seemed': False, 'V_score': False, 'V_told': True, 'V_recent': False, 'V_robin': False, 'V_basically': False, 'V_entertainment': False, 'V_america': False, 'V_$': False, 'V_surprise': False, 'V_apparently': False, 'V_easily': False, 'V_ryan': False, 'V_cool': False, 'V_stuff': False, 'V_cop': False, 'V_change': True, 'V_williams': False, 'V_crime': False, 'V_office': False, 'V_parts': False, 'V_somehow': False, 'V_sequel': False, 'V_william': False, 'V_cut': False, 'V_die': False, 'V_jones': False, 'V_credits': False, 'V_batman': False, 'V_suspense': False, 'V_brings': False, 'V_events': False, 'V_reality': False, 'V_whom': False, 'V_local': False, 'V_talking': False, 'V_difficult': False, 'V_using': False, 'V_went': False, 'V_writing': True, 'V_remember': False, 'V_near': False, 'V_straight': False, 'V_hilarious': False, 'V_ago': False, 'V_certain': False, 'V_ben': False, 'V_kid': False, 'V_wouldn': False, 'V_slow': False, 'V_blood': False, 'V_mystery': True, 'V_complete': False, 'V_red': False, 'V_popular': False, 'V_effective': False, 'V_am': False, 'V_fast': False, 'V_flick': False, 'V_due': False, 'V_runs': False, 'V_gone': False, 'V_return': False, 'V_presence': False, 'V_quality': False, 'V_dramatic': False, 'V_filmmakers': False, 'V_age': False, 'V_brothers': False, 'V_business': False, 'V_general': False, 'V_rock': False, 'V_sexual': False, 'V_present': True, 'V_surprisingly': False, 'V_anyway': False, 'V_uses': False, 'V_4': False, 'V_personal': False, 'V_figure': True, 'V_smart': False, 'V_ways': False, 'V_decides': True, 'V_annoying': False, 'V_begin': False, 'V_couldn': False, 'V_somewhat': False, 'V_shots': False, 'V_rich': False, 'V_minute': False, 'V_law': False, 'V_previous': False, 'V_jim': False, 'V_successful': False, 'V_harry': False, 'V_water': False, 'V_similar': False, 'V_absolutely': False, 'V_motion': False, 'V_former': False, 'V_strange': False, 'V_came': False, 'V_follow': False, 'V_read': False, 'V_project': False, 'V_million': False, 'V_secret': False, 'V_starring': False, 'V_clear': False, 'V_familiar': False, 'V_romance': False, 'V_intelligent': False, 'V_third': False, 'V_excellent': False, 'V_amazing': False, 'V_party': False, 'V_budget': False, 'V_eye': False, 'V_actress': False, 'V_prison': False, 'V_latest': False, 'V_means': False, 'V_company': False, 'V_towards': False, 'V_predictable': False, 'V_powerful': False, 'V_nor': False, 'V_bob': False, 'V_beyond': False, 'V_visual': False, 'V_leaves': False, 'V_r': False, 'V_nature': False, 'V_following': False, 'V_villain': False, 'V_leaving': False, 'V_animated': False, 'V_low': False, 'V_myself': False, 'V_b': False, 'V_bill': False, 'V_sam': False, 'V_filled': False, 'V_wars': False, 'V_questions': True, 'V_cinema': False, 'V_message': False, 'V_box': False, 'V_moving': False, 'V_herself': False, 'V_country': False, 'V_usual': False, 'V_martin': True, 'V_definitely': False, 'V_add': False, 'V_large': False, 'V_clever': False, 'V_create': False, 'V_felt': False, 'V_stories': False, 'V_brilliant': False, 'V_ones': False, 'V_giant': False, 'V_situation': False, 'V_murphy': False, 'V_break': False, 'V_opens': False, 'V_scary': False, 'V_doubt': False, 'V_drug': False, 'V_bunch': False, 'V_thinking': False, 'V_solid': False, 'V_effect': False, 'V_learn': False, 'V_move': True, 'V_force': False, 'V_potential': True, 'V_seriously': False, 'V_follows': False, 'V_above': False, 'V_saying': False, 'V_huge': False, 'V_class': False, 'V_plan': False, 'V_agent': True, 'V_created': False, 'V_unlike': False, 'V_pay': False, 'V_non': False, 'V_married': False, 'V_mark': False, 'V_sweet': False, 'V_perfectly': False, 'V_ex': False, 'V_realize': False, 'V_audiences': False, 'V_took': False, 'V_decent': False, 'V_likely': False, 'V_dream': False, 'V_view': False, 'V_scott': False, 'V_subject': False, 'V_understand': False, 'V_happened': False, 'V_enjoyable': False, 'V_studio': True, 'V_immediately': False, 'V_open': False, 'V_e': False, 'V_points': False, 'V_heard': False, 'V_viewers': False, 'V_cameron': True, 'V_truman': False, 'V_bruce': False, 'V_frank': False, 'V_private': False, 'V_stay': False, 'V_fails': False, 'V_impossible': False, 'V_cold': False, 'V_richard': False, 'V_overall': False, 'V_merely': False, 'V_exciting': False, 'V_mess': False, 'V_chase': False, 'V_free': False, 'V_ten': False, 'V_neither': False, 'V_wanted': False, 'V_gun': False, 'V_appear': False, 'V_carter': False, 'V_escape': False, 'V_ultimately': False, 'V_+': False, 'V_fan': False, 'V_inside': False, 'V_favorite': False, 'V_haven': False, 'V_modern': False, 'V_l': False, 'V_wedding': False, 'V_stone': True, 'V_trek': False, 'V_brought': False, 'V_trouble': True, 'V_otherwise': False, 'V_tim': False, 'V_5': False, 'V_allen': False, 'V_bond': False, 'V_society': False, 'V_liked': False, 'V_dumb': False, 'V_musical': False, 'V_stand': False, 'V_political': False, 'V_various': False, 'V_talented': False, 'V_particular': False, 'V_west': False, 'V_state': False, 'V_keeps': False, 'V_english': False, 'V_silly': False, 'V_u': False, 'V_situations': False, 'V_park': False, 'V_teen': False, 'V_rating': False, 'V_slightly': False, 'V_steve': False, 'V_truth': False, 'V_air': False, 'V_element': False, 'V_joke': False, 'V_spend': False, 'V_key': False, 'V_biggest': False, 'V_members': False, 'V_effort': False, 'V_government': False, 'V_focus': False, 'V_eddie': False, 'V_soundtrack': False, 'V_hands': False, 'V_earlier': False, 'V_chan': False, 'V_purpose': False, 'V_today': False, 'V_showing': False, 'V_memorable': False, 'V_six': False, 'V_cannot': False, 'V_max': False, 'V_offers': False, 'V_rated': False, 'V_mars': False, 'V_heavy': False, 'V_totally': False, 'V_control': False, 'V_credit': False, 'V_fi': False, 'V_woody': False, 'V_ideas': False, 'V_sci': False, 'V_wait': False, 'V_sit': False, 'V_female': False, 'V_ask': False, 'V_waste': False, 'V_terrible': False, 'V_depth': False, 'V_simon': False, 'V_aspect': False, 'V_list': False, 'V_mary': False, 'V_sister': False, 'V_animation': False, 'V_entirely': False, 'V_fear': False, 'V_steven': True, 'V_moves': False, 'V_actual': True, 'V_army': False, 'V_british': False, 'V_constantly': False, 'V_fire': False, 'V_convincing': False, 'V_setting': False, 'V_gave': False, 'V_tension': False, 'V_street': False, 'V_8': False, 'V_brief': False, 'V_ridiculous': False, 'V_cinematography': False, 'V_typical': False, 'V_nick': False, 'V_screenwriter': True, 'V_ability': False, 'V_spent': False, 'V_quick': True, 'V_violent': False, 'V_atmosphere': False, 'V_subtle': False, 'V_expected': False, 'V_fairly': False, 'V_seven': False, 'V_killing': False, 'V_tone': False, 'V_master': False, 'V_disaster': False, 'V_lots': False, 'V_thinks': False, 'V_song': False, 'V_cheap': False, 'V_suddenly': False, 'V_background': False, 'V_club': False, 'V_willis': False, 'V_whatever': False, 'V_highly': False, 'V_sees': True, 'V_complex': False, 'V_greatest': False, 'V_impact': False, 'V_beauty': False, 'V_front': False, 'V_humans': False, 'V_indeed': False, 'V_flat': False, 'V_grace': False, 'V_wrote': True, 'V_amusing': False, 'V_ii': False, 'V_mike': False, 'V_further': False, 'V_cute': False, 'V_dull': False, 'V_minor': False, 'V_recently': False, 'V_hate': False, 'V_outside': False, 'V_plenty': False, 'V_wish': True, 'V_godzilla': False, 'V_college': False, 'V_titanic': False, 'V_sounds': False, 'V_telling': False, 'V_sight': False, 'V_double': False, 'V_cinematic': False, 'V_queen': False, 'V_hold': False, 'V_meanwhile': False, 'V_awful': False, 'V_clearly': False, 'V_theme': False, 'V_hear': False, 'V_x': False, 'V_amount': False, 'V_baby': False, 'V_approach': False, 'V_dreams': False, 'V_shown': False, 'V_island': False, 'V_reasons': False, 'V_charm': False, 'V_miss': False, 'V_longer': False, 'V_common': False, 'V_sean': False, 'V_carry': False, 'V_believable': False, 'V_realistic': False, 'V_chemistry': False, 'V_possibly': False, 'V_casting': False, 'V_carrey': False, 'V_french': False, 'V_trailer': False, 'V_tough': False, 'V_produced': False, 'V_imagine': False, 'V_choice': False, 'V_ride': False, 'V_somewhere': False, 'V_hot': False, 'V_race': False, 'V_road': False, 'V_leader': False, 'V_thin': False, 'V_jerry': False, 'V_slowly': False, 'V_delivers': False, 'V_detective': False, 'V_brown': False, 'V_jackson': False, 'V_member': False, 'V_provide': False, 'V_president': False, 'V_puts': False, 'V_asks': True, 'V_critics': False, 'V_appearance': False, 'V_famous': False, 'V_okay': False, 'V_intelligence': False, 'V_energy': False, 'V_sent': False, 'V_spielberg': False, 'V_development': False, 'V_etc': False, 'V_language': False, 'V_blue': False, 'V_proves': False, 'V_vampire': False, 'V_seemingly': False, 'V_basic': False, 'V_caught': False, 'V_decide': False, 'V_opportunity': False, 'V_incredibly': False, 'V_images': False, 'V_band': False, 'V_j': False, 'V_writers': False, 'V_knew': False, 'V_interested': False, 'V_considering': False, 'V_boys': False, 'V_thanks': False, 'V_remains': False, 'V_climax': False, 'V_event': False, 'V_directing': False, 'V_conclusion': False, 'V_leading': False, 'V_ground': False, 'V_lies': True, 'V_forget': False, 'V_alive': False, 'V_tarzan': False, 'V_century': False, 'V_provides': False, 'V_trip': False, 'V_partner': False, 'V_central': False, 'V_tarantino': False, 'V_period': False, 'V_pace': True, 'V_yourself': False, 'V_worked': False, 'V_ready': False, 'V_date': False, 'V_thus': False, 'V_1998': False, 'V_terrific': False, 'V_write': True, 'V_average': False, 'V_onto': False, 'V_songs': False, 'V_occasionally': False, 'V_doctor': False, 'V_stands': False, 'V_hardly': False, 'V_monster': False, 'V_led': False, 'V_mysterious': False, 'V_details': False, 'V_wasted': False, 'V_apart': False, 'V_aside': False, 'V_store': True, 'V_billy': False, 'V_boss': False, 'V_travolta': False, 'V_producer': False, 'V_pull': False, 'V_consider': False, 'V_pictures': False, 'V_becoming': False, 'V_cage': False, 'V_loud': False, 'V_looked': False, 'V_officer': False, 'V_twenty': False, 'V_system': False, 'V_contains': False, 'V_julia': False, 'V_subplot': False, 'V_missing': False, 'V_personality': False, 'V_building': False, 'V_learns': False, 'V_hong': False, 'V_la': False, 'V_apartment': False, 'V_7': False, 'V_bizarre': False, 'V_powers': False, 'V_flaws': False, 'V_catch': False, 'V_lawyer': False, 'V_shoot': False, 'V_student': False, 'V_unique': False, 'V_000': False, 'V_admit': False, 'V_concept': False, 'V_needed': False, 'V_thrown': False, 'V_christopher': False, 'V_laughing': False, 'V_green': False, 'V_twists': False, 'V_matthew': False, 'V_touch': False, 'V_waiting': False, 'V_victim': False, 'V_cover': False, 'V_machine': False, 'V_danny': False, 'V_mention': False, 'V_search': False, 'V_1997': False, 'V_win': False, 'V_door': False, 'V_manner': False, 'V_train': False, 'V_saving': False, 'V_share': False, 'V_image': False, 'V_discovers': False, 'V_normal': False, 'V_cross': False, 'V_fox': False, 'V_returns': False, 'V_adult': False, 'V_adds': False, 'V_answer': False, 'V_adventure': False, 'V_lame': False, 'V_male': False, 'V_odd': True, 'V_singer': False, 'V_deserves': False, 'V_gore': False, 'V_states': False, 'V_include': False, 'V_equally': False, 'V_months': False, 'V_barely': False, 'V_directors': False, 'V_introduced': False, 'V_fashion': False, 'V_social': False, 'V_1999': False, 'V_news': False, 'V_hair': False, 'V_dance': False, 'V_innocent': False, 'V_camp': False, 'V_teacher': False, 'V_became': False, 'V_sad': False, 'V_witch': False, 'V_includes': False, 'V_nights': False, 'V_jason': False, 'V_julie': False, 'V_latter': False, 'V_food': True, 'V_jennifer': False, 'V_land': False, 'V_menace': False, 'V_rate': False, 'V_storyline': False, 'V_contact': False, 'V_jean': False, 'V_elizabeth': False, 'V_fellow': False, 'V_changes': False, 'V_henry': False, 'V_hill': False, 'V_pulp': False, 'V_gay': False, 'V_tried': False, 'V_surprised': False, 'V_literally': False, 'V_walk': False, 'V_standard': False, 'V_90': False, 'V_forward': False, 'V_wise': False, 'V_enjoyed': True, 'V_discover': False, 'V_pop': False, 'V_anderson': False, 'V_offer': False, 'V_recommend': False, 'V_public': False, 'V_drive': False, 'V_c': False, 'V_toy': False, 'V_charming': False, 'V_fair': False, 'V_chinese': False, 'V_rescue': False, 'V_terms': False, 'V_mouth': False, 'V_lucas': False, 'V_accident': False, 'V_dies': False, 'V_decided': False, 'V_edge': True, 'V_footage': False, 'V_culture': False, 'V_weak': False, 'V_presented': False, 'V_blade': False, 'V_younger': False, 'V_douglas': False, 'V_natural': False, 'V_born': False, 'V_generally': False, 'V_teenage': False, 'V_older': False, 'V_horrible': False, 'V_addition': False, 'V_sadly': False, 'V_creates': False, 'V_disturbing': False, 'V_roger': False, 'V_detail': False, 'V_devil': False, 'V_debut': False, 'V_track': False, 'V_developed': False, 'V_week': False, 'V_russell': False, 'V_attack': False, 'V_explain': False, 'V_rarely': False, 'V_fully': False, 'V_prove': False, 'V_exception': False, 'V_jeff': True, 'V_twist': False, 'V_gang': False, 'V_winning': True, 'V_jr': False, 'V_species': False, 'V_issues': False, 'V_fresh': True, 'V_rules': False, 'V_meaning': False, 'V_inspired': True, 'V_heroes': False, 'V_desperate': False, 'V_fighting': False, 'V_filmed': False, 'V_faces': False, 'V_alan': False, 'V_bright': False, 'V_ass': False, 'V_flying': False, 'V_kong': False, 'V_rush': False, 'V_forces': False, 'V_charles': False, 'V_numerous': False, 'V_emotions': False, 'V_involves': False, 'V_patrick': False, 'V_weird': False, 'V_apparent': False, 'V_information': False, 'V_revenge': False, 'V_jay': False, 'V_toward': False, 'V_surprising': False, 'V_twice': False, 'V_editing': False, 'V_calls': False, 'V_lose': False, 'V_vegas': False, 'V_stage': False, 'V_intended': False, 'V_gags': False, 'V_opinion': False, 'V_likes': True, 'V_crazy': False, 'V_owner': False, 'V_places': False, 'V_pair': False, 'V_genuine': False, 'V_epic': False, 'V_speak': False, 'V_throw': False, 'V_appeal': False, 'V_gibson': False, 'V_captain': False, 'V_military': False, 'V_20': False, 'V_blair': False, 'V_nowhere': False, 'V_length': False, 'V_nicely': False, 'V_cause': False, 'V_pass': False, 'V_episode': False, 'V_kiss': False, 'V_arnold': False, 'V_please': False, 'V_hasn': False, 'V_phone': False, 'V_filmmaking': False, 'V_formula': False, 'V_boyfriend': False, 'V_talents': False, 'V_creating': False, 'V_kelly': False, 'V_buy': False, 'V_wide': False, 'V_fantasy': False, 'V_mood': False, 'V_heads': False, 'V_pathetic': False, 'V_lacks': False, 'V_loved': False, 'V_asked': False, 'V_mrs': False, 'V_witty': False, 'V_shakespeare': False, 'V_mulan': False, 'V_generation': False, 'V_affair': True, 'V_pieces': False, 'V_task': False, 'V_rare': False, 'V_kept': False, 'V_cameo': False, 'V_fascinating': False, 'V_ed': False, 'V_fbi': False, 'V_burton': False, 'V_incredible': False, 'V_accent': False, 'V_artist': False, 'V_superior': False, 'V_academy': False, 'V_thomas': False, 'V_spirit': False, 'V_technical': False, 'V_confusing': False, 'V_poorly': False, 'V_target': False, 'V_lover': False, 'V_woo': False, 'V_mentioned': False, 'V_theaters': False, 'V_plane': False, 'V_confused': False, 'V_dennis': False, 'V_rob': True, 'V_appropriate': False, 'V_christmas': False, 'V_considered': False, 'V_legend': False, 'V_shame': False, 'V_soul': False, 'V_matt': False, 'V_campbell': False, 'V_process': False, 'V_bottom': False, 'V_sitting': False, 'V_brain': False, 'V_creepy': False, 'V_13': False, 'V_forever': False, 'V_dude': False, 'V_crap': False, 'V_superb': False, 'V_speech': False, 'V_ice': False, 'V_journey': False, 'V_masterpiece': False, 'V_intriguing': False, 'V_names': False, 'V_pick': False, 'V_speaking': False, 'V_virtually': False, 'V_award': True, 'V_worthy': False, 'V_marriage': False, 'V_deliver': True, 'V_cash': False, 'V_magic': False, 'V_respect': False, 'V_product': False, 'V_necessary': False, 'V_suppose': False, 'V_silent': False, 'V_pointless': False, 'V_station': False, 'V_affleck': False, 'V_dimensional': False, 'V_charlie': False, 'V_allows': True, 'V_avoid': False, 'V_meant': False, 'V_cops': False, 'V_attitude': False, 'V_relationships': False, 'V_hits': False, 'V_stephen': False, 'V_spends': False, 'V_relief': False, 'V_physical': False, 'V_count': False, 'V_reviews': False, 'V_appreciate': False, 'V_cliches': False, 'V_holds': False, 'V_pure': False, 'V_plans': False, 'V_limited': False, 'V_failed': False, 'V_pain': False, 'V_impression': False, 'V_unless': False, 'V_sub': False, 'V_[': False, 'V_total': False, 'V_creature': False, 'V_viewing': False, 'V_loves': False, 'V_princess': False, 'V_kate': False, 'V_rising': False, 'V_woods': False, 'V_baldwin': False, 'V_angry': False, 'V_drawn': False, 'V_step': False, 'V_matrix': False, 'V_themes': False, 'V_satire': False, 'V_arts': False, 'V_]': False, 'V_remake': False, 'V_wall': False, 'V_moral': False, 'V_color': False, 'V_ray': False, 'V_stuck': False, 'V_touching': False, 'V_wit': False, 'V_tony': False, 'V_hanks': False, 'V_continues': False, 'V_damn': False, 'V_nobody': False, 'V_cartoon': False, 'V_keeping': False, 'V_realized': False, 'V_criminal': False, 'V_unfunny': False, 'V_comedic': False, 'V_martial': False, 'V_disappointing': False, 'V_anti': False, 'V_graphic': False, 'V_stunning': False, 'V_actions': False, 'V_floor': False, 'V_emotion': False, 'V_soldiers': False, 'V_edward': False, 'V_comedies': False, 'V_driver': False, 'V_expectations': False, 'V_added': False, 'V_mad': False, 'V_angels': False, 'V_shallow': False, 'V_suspect': False, 'V_humorous': False, 'V_phantom': False, 'V_appealing': False, 'V_device': False, 'V_design': False, 'V_industry': False, 'V_reach': False, 'V_fat': False, 'V_blame': False, 'V_united': False, 'V_sign': False, 'V_portrayal': False, 'V_rocky': False, 'V_finale': False, 'V_grand': False, 'V_opposite': False, 'V_hotel': False, 'V_match': False, 'V_damme': False, 'V_speed': False, 'V_ok': False, 'V_loving': False, 'V_field': False, 'V_larry': False, 'V_urban': False, 'V_troopers': False, 'V_compared': False, 'V_apes': False, 'V_rose': False, 'V_falling': False, 'V_era': False, 'V_loses': False, 'V_adults': False, 'V_managed': False, 'V_dad': False, 'V_therefore': False, 'V_pg': False, 'V_results': False, 'V_guns': False, 'V_radio': False, 'V_lady': False, 'V_manage': False, 'V_spice': False, 'V_naked': False, 'V_started': False, 'V_intense': False, 'V_humanity': False, 'V_wonderfully': False, 'V_slasher': False, 'V_bland': False, 'V_imagination': False, 'V_walking': False, 'V_willing': False, 'V_horse': False, 'V_rent': False, 'V_mix': False, 'V_generated': False, 'V_g': False, 'V_utterly': False, 'V_scientist': False, 'V_washington': False, 'V_notice': False, 'V_players': False, 'V_teenagers': False, 'V_moore': False, 'V_board': False, 'V_price': True, 'V_frightening': False, 'V_tommy': False, 'V_spectacular': False, 'V_bored': False, 'V_jane': False, 'V_join': False, 'V_producers': False, 'V_johnny': False, 'V_zero': False, 'V_vampires': False, 'V_adaptation': False, 'V_dollars': False, 'V_parody': False, 'V_documentary': False, 'V_dvd': False, 'V_wayne': False, 'V_post': False, 'V_exist': False, 'V_matters': False, 'V_chosen': False, 'V_mel': False, 'V_attractive': True, 'V_plain': False, 'V_trust': False, 'V_safe': False, 'V_reading': False, 'V_hoping': False, 'V_protagonist': False, 'V_feelings': False, 'V_fate': False, 'V_finding': False, 'V_feet': False, 'V_visuals': False, 'V_spawn': False, 'V_compelling': False, 'V_hall': False, 'V_sympathetic': False, 'V_featuring': True, 'V_difference': False, 'V_professional': False, 'V_drugs': False, 'V_ford': False, 'V_shooting': False, 'V_gold': False, 'V_patch': False, 'V_build': False, 'V_boat': False, 'V_cruise': False, 'V_honest': False, 'V_media': False, 'V_flicks': False, 'V_bug': False, 'V_bringing': True, 'V_dangerous': False, 'V_watched': False, 'V_grant': False, 'V_smile': False, 'V_plus': False, 'V_shouldn': False, 'V_decision': False, 'V_visually': False, 'V_allow': False, 'V_starship': False, 'V_roberts': False, 'V_dying': False, 'V_portrayed': False, 'V_turning': False, 'V_believes': False, 'V_changed': False, 'V_shock': False, 'V_destroy': False, 'V_30': False, 'V_crowd': False, 'V_broken': False, 'V_tired': False, 'V_fail': False, 'V_south': False, 'V_died': False, 'V_cult': False, 'V_fake': False, 'V_vincent': False, 'V_identity': False, 'V_sexy': False, 'V_hunt': False, 'V_jedi': False, 'V_flynt': False, 'V_alex': False, 'V_engaging': False, 'V_serve': False, 'V_snake': False, 'V_yeah': False, 'V_expecting': False, 'V_100': False, 'V_decade': False, 'V_ups': False, 'V_constant': False, 'V_current': False, 'V_survive': False, 'V_jimmy': False, 'V_buddy': False, 'V_send': False, 'V_brooks': True, 'V_goofy': False, 'V_likable': False, 'V_humour': False, 'V_technology': False, 'V_files': False, 'V_babe': False, 'V_aspects': False, 'V_presents': False, 'V_kills': False, 'V_supposedly': False, 'V_eight': False, 'V_sandler': False, 'V_hospital': False, 'V_test': False, 'V_hidden': False, 'V_brian': False, 'V_books': False, 'V_promise': False, 'V_determined': False, 'V_professor': False, 'V_welcome': False, 'V_pleasure': False, 'V_succeeds': False, 'V_individual': False, 'V_annie': False, 'V_mob': False, 'V_ted': False, 'V_virus': False, 'V_content': False, 'V_gary': False, 'V_direct': False, 'V_contrived': False, 'V_carpenter': False, 'V_scale': False, 'V_sick': False, 'V_nasty': False, 'V_conflict': False, 'V_haunting': False, 'V_ghost': False, 'V_filmmaker': False, 'V_japanese': False, 'V_helps': False, 'V_fare': False, 'V_lucky': False, 'V_ultimate': False, 'V_window': False, 'V_support': True, 'V_goal': False, 'V_provided': False, 'V_genius': False, 'V_winner': False, 'V_taylor': False, 'V_fantastic': False, 'V_faith': False, 'V_lynch': False, 'V_fit': False, 'V_catherine': False, 'V_ms': False, 'V_paced': False, 'V_breaks': False, 'V_al': False, 'V_frame': False, 'V_travel': False, 'V_badly': False, 'V_available': False, 'V_cares': False, 'V_reeves': False, 'V_crash': False, 'V_driving': False, 'V_press': False, 'V_seagal': False, 'V_amy': False, 'V_9': False, 'V_headed': False, 'V_instance': False, 'V_excuse': False, 'V_offensive': False, 'V_narrative': False, 'V_fault': False, 'V_bus': False, 'V_f': False, 'V_extreme': False, 'V_miller': False, 'V_guilty': False, 'V_grows': False, 'V_overly': False, 'V_liners': True, 'V_forgotten': False, 'V_ahead': False, 'V_accept': False, 'V_porn': False, 'V_directly': False, 'V_helen': False, 'V_began': False, 'V_lord': False, 'V_folks': False, 'V_mediocre': False, 'V_bar': False, 'V_surface': False, 'V_super': False, 'V_failure': False, 'V_6': False, 'V_acted': False, 'V_quiet': False, 'V_laughable': False, 'V_sheer': False, 'V_security': False, 'V_emotionally': False, 'V_season': False, 'V_stuart': False, 'V_jail': False, 'V_deals': False, 'V_cheesy': False, 'V_court': False, 'V_beach': False, 'V_austin': False, 'V_model': False, 'V_outstanding': False, 'V_substance': False, 'V_nudity': False, 'V_slapstick': False, 'V_joan': False, 'V_reveal': False, 'V_placed': False, 'V_check': False, 'V_beast': False, 'V_hurt': False, 'V_bloody': False, 'V_acts': False, 'V_fame': False, 'V_meeting': True, 'V_nuclear': False, 'V_1996': False, 'V_strength': False, 'V_center': False, 'V_funniest': False, 'V_standing': False, 'V_damon': False, 'V_clich': False, 'V_position': False, 'V_desire': False, 'V_driven': False, 'V_seat': False, 'V_stock': False, 'V_wondering': False, 'V_realizes': False, 'V_dealing': False, 'V_taste': False, 'V_routine': False, 'V_comparison': False, 'V_cinematographer': False, 'V_seconds': False, 'V_singing': False, 'V_gangster': False, 'V_responsible': False, 'V_football': False, 'V_remarkable': False, 'V_hunting': False, 'V_adams': False, 'V_fly': False, 'V_suspects': False, 'V_treat': False, 'V_hopes': False, 'V_heaven': False, 'V_myers': False, 'V_struggle': False, 'V_costumes': False, 'V_beat': False, 'V_happening': False, 'V_skills': False, 'V_ugly': False, 'V_figures': False, 'V_thoroughly': False, 'V_ill': False, 'V_surprises': False, 'V_player': True, 'V_rival': False, 'V_guard': False, 'V_anthony': False, 'V_strike': False, 'V_community': False, 'V_streets': False, 'V_hopkins': False, 'V_ended': False, 'V_originally': False, 'V_sarah': True, 'V_creative': False, 'V_characterization': False, 'V_thankfully': False, 'V_growing': False, 'V_sharp': False, 'V_williamson': False, 'V_eccentric': False, 'V_explained': False, 'V_hey': False, 'V_claire': False, 'V_steal': False, 'V_inevitable': False, 'V_joel': False, 'V_core': False, 'V_weren': False, 'V_sorry': False, 'V_built': False, 'V_anne': False, 'V_breaking': False, 'V_villains': False, 'V_critic': False, 'V_lets': False, 'V_visit': False, 'V_followed': False}, 'pos')\n"
     ]
    }
   ],
   "source": [
    "\n",
    "# get features sets for a document, including keyword features and category feature\n",
    "featuresets = [(document_features(d, word_features), c) for (d,c) in documents]\n",
    "\n",
    "# the feature sets are 2000 words long - so this is optional\n",
    "print(featuresets[0])"
   ]
  },
  {
   "cell_type": "code",
   "execution_count": 27,
   "id": "59fa23eb",
   "metadata": {},
   "outputs": [
    {
     "name": "stdout",
     "output_type": "stream",
     "text": [
      "0.84\n"
     ]
    }
   ],
   "source": [
    "# training using naive Baysian classifier with a 95/5 split\n",
    "train_set, test_set = featuresets[100:], featuresets[:100]\n",
    "classifier = nltk.NaiveBayesClassifier.train(train_set)\n",
    "\n",
    "# evaluate the accuracy of the classifier\n",
    "print (nltk.classify.accuracy(classifier, test_set))\n",
    "# the accuracy result may vary since we randomized the documents"
   ]
  },
  {
   "cell_type": "code",
   "execution_count": 28,
   "id": "b782eb9b",
   "metadata": {},
   "outputs": [
    {
     "name": "stdout",
     "output_type": "stream",
     "text": [
      "Most Informative Features\n",
      "           V_outstanding = True              pos : neg    =     10.9 : 1.0\n",
      "                 V_mulan = True              pos : neg    =      8.9 : 1.0\n",
      "                V_seagal = True              neg : pos    =      8.3 : 1.0\n",
      "                 V_damon = True              pos : neg    =      7.8 : 1.0\n",
      "           V_wonderfully = True              pos : neg    =      6.7 : 1.0\n",
      "                V_wasted = True              neg : pos    =      6.0 : 1.0\n",
      "                 V_flynt = True              pos : neg    =      5.6 : 1.0\n",
      "                 V_awful = True              neg : pos    =      5.4 : 1.0\n",
      "            V_ridiculous = True              neg : pos    =      5.4 : 1.0\n",
      "                 V_waste = True              neg : pos    =      5.4 : 1.0\n",
      "                  V_lame = True              neg : pos    =      5.2 : 1.0\n",
      "                   V_era = True              pos : neg    =      5.1 : 1.0\n",
      "                V_poorly = True              neg : pos    =      4.8 : 1.0\n",
      "                 V_worst = True              neg : pos    =      4.5 : 1.0\n",
      "                  V_jedi = True              pos : neg    =      4.4 : 1.0\n",
      "                V_allows = True              pos : neg    =      4.3 : 1.0\n",
      "             V_laughable = True              neg : pos    =      4.1 : 1.0\n",
      "               V_unfunny = True              neg : pos    =      4.1 : 1.0\n",
      "                  V_dull = True              neg : pos    =      4.0 : 1.0\n",
      "                 V_bland = True              neg : pos    =      4.0 : 1.0\n",
      "             V_fantastic = True              pos : neg    =      3.9 : 1.0\n",
      "                V_stupid = True              neg : pos    =      3.8 : 1.0\n",
      "                  V_mess = True              neg : pos    =      3.8 : 1.0\n",
      "             V_pointless = True              neg : pos    =      3.8 : 1.0\n",
      "             V_memorable = True              pos : neg    =      3.8 : 1.0\n",
      "             V_portrayed = True              pos : neg    =      3.7 : 1.0\n",
      "                 V_hanks = True              pos : neg    =      3.6 : 1.0\n",
      "             V_portrayal = True              pos : neg    =      3.6 : 1.0\n",
      "              V_terrific = True              pos : neg    =      3.5 : 1.0\n",
      "                V_superb = True              pos : neg    =      3.5 : 1.0\n",
      "None\n"
     ]
    }
   ],
   "source": [
    "# show which features of classifier are most informative\n",
    "print(classifier.show_most_informative_features(30))\n",
    "\n"
   ]
  },
  {
   "cell_type": "code",
   "execution_count": 29,
   "id": "d3c6874a",
   "metadata": {},
   "outputs": [
    {
     "name": "stdout",
     "output_type": "stream",
     "text": [
      "{'last_letter': 'k', 'last_but_one_letter': 'h'}\n"
     ]
    }
   ],
   "source": [
    "def gender_features(word):\n",
    "    return{'last_letter': word[-1] , 'last_but_one_letter':word[-2]}\n",
    "print(gender_features(\"kanishk\"))"
   ]
  },
  {
   "cell_type": "code",
   "execution_count": 30,
   "id": "016bc090",
   "metadata": {},
   "outputs": [],
   "source": [
    "namesgender = ([(name, 'male') for name in names.words('male.txt')] +\n",
    "          [(name, 'female') for name in names.words('female.txt')])"
   ]
  },
  {
   "cell_type": "code",
   "execution_count": 31,
   "id": "7409dd04",
   "metadata": {},
   "outputs": [
    {
     "data": {
      "text/plain": [
       "[('Ronalda', 'female'),\n",
       " ('Juana', 'female'),\n",
       " ('Noam', 'male'),\n",
       " ('Moselle', 'female'),\n",
       " ('Tobias', 'male'),\n",
       " ('Flossy', 'female'),\n",
       " ('Arvy', 'male'),\n",
       " ('Hanny', 'female'),\n",
       " ('Anson', 'male'),\n",
       " ('Ulrick', 'male'),\n",
       " ('Gerta', 'female'),\n",
       " ('Bethany', 'female'),\n",
       " ('Rosabelle', 'female'),\n",
       " ('Kenny', 'male'),\n",
       " ('Birgitta', 'female'),\n",
       " ('Martguerita', 'female'),\n",
       " ('Kimberli', 'female'),\n",
       " ('Susann', 'female'),\n",
       " ('Candra', 'female'),\n",
       " ('Brynna', 'female')]"
      ]
     },
     "execution_count": 31,
     "metadata": {},
     "output_type": "execute_result"
    }
   ],
   "source": [
    "random.shuffle(namesgender)\n",
    "namesgender[:20]"
   ]
  },
  {
   "cell_type": "code",
   "execution_count": 32,
   "id": "c891b1ac",
   "metadata": {},
   "outputs": [
    {
     "name": "stdout",
     "output_type": "stream",
     "text": [
      "[({'last_letter': 'a', 'last_but_one_letter': 'n'}, 'female'), ({'last_letter': 't', 'last_but_one_letter': 'r'}, 'male'), ({'last_letter': 'n', 'last_but_one_letter': 'u'}, 'female'), ({'last_letter': 'l', 'last_but_one_letter': 'i'}, 'female'), ({'last_letter': 'e', 'last_but_one_letter': 'i'}, 'female'), ({'last_letter': 'i', 'last_but_one_letter': 'm'}, 'female'), ({'last_letter': 'y', 'last_but_one_letter': 'l'}, 'male'), ({'last_letter': 'e', 'last_but_one_letter': 'a'}, 'female'), ({'last_letter': 'a', 'last_but_one_letter': 't'}, 'female'), ({'last_letter': 'r', 'last_but_one_letter': 'r'}, 'female'), ({'last_letter': 'a', 'last_but_one_letter': 'l'}, 'female'), ({'last_letter': 'a', 'last_but_one_letter': 't'}, 'female'), ({'last_letter': 'i', 'last_but_one_letter': 'u'}, 'female'), ({'last_letter': 'f', 'last_but_one_letter': 'f'}, 'male'), ({'last_letter': 'a', 'last_but_one_letter': 'p'}, 'female'), ({'last_letter': 's', 'last_but_one_letter': 's'}, 'female'), ({'last_letter': 'b', 'last_but_one_letter': 'o'}, 'male'), ({'last_letter': 't', 'last_but_one_letter': 'l'}, 'male'), ({'last_letter': 'l', 'last_but_one_letter': 'i'}, 'male'), ({'last_letter': 'l', 'last_but_one_letter': 'u'}, 'male')]\n"
     ]
    }
   ],
   "source": [
    "train_names_new = namesgender[500:]\n",
    "test_names_new = namesgender[:500]\n",
    "train_set_new = [(gender_features(n), g) for (n,g) in train_names_new]\n",
    "test_set_new = [(gender_features(n), g) for (n,g) in test_names_new]\n",
    "print(train_set_new[:20])"
   ]
  },
  {
   "cell_type": "code",
   "execution_count": 33,
   "id": "683d9c28",
   "metadata": {},
   "outputs": [
    {
     "data": {
      "text/plain": [
       "'female'"
      ]
     },
     "execution_count": 33,
     "metadata": {},
     "output_type": "execute_result"
    }
   ],
   "source": [
    "classifier = nltk.NaiveBayesClassifier.train(train_set_new)\n",
    "classifier.classify(gender_features('Christina'))\n"
   ]
  },
  {
   "cell_type": "code",
   "execution_count": 34,
   "id": "3662d9e9",
   "metadata": {},
   "outputs": [
    {
     "name": "stdout",
     "output_type": "stream",
     "text": [
      "0.792\n"
     ]
    }
   ],
   "source": [
    "\n",
    "print(nltk.classify.accuracy(classifier, test_set_new))"
   ]
  },
  {
   "cell_type": "code",
   "execution_count": 35,
   "id": "067660d3",
   "metadata": {},
   "outputs": [
    {
     "name": "stdout",
     "output_type": "stream",
     "text": [
      "2000\n"
     ]
    }
   ],
   "source": [
    "documents = [(list(movie_reviews.words(fileid)), category)\n",
    "              for category in movie_reviews.categories()\n",
    "              for fileid in movie_reviews.fileids(category)]\n",
    "print(len(documents))"
   ]
  },
  {
   "cell_type": "code",
   "execution_count": 36,
   "id": "a3de1197",
   "metadata": {},
   "outputs": [],
   "source": [
    "random.shuffle(documents)"
   ]
  },
  {
   "cell_type": "code",
   "execution_count": 37,
   "id": "62dec191",
   "metadata": {},
   "outputs": [],
   "source": [
    "all_words = nltk.FreqDist(w.lower() for w in movie_reviews.words())\n",
    "word_items = all_words.most_common(2500)\n",
    "word_features = [word for (word, freq) in word_items]\n",
    "def document_features(document):\n",
    "    document_words = set(document)\n",
    "    features = {}\n",
    "    for word in word_features:\n",
    "        features['V_{}'.format( word)] = (word in document_words)\n",
    "    return features"
   ]
  },
  {
   "cell_type": "code",
   "execution_count": 38,
   "id": "96044cd5",
   "metadata": {},
   "outputs": [
    {
     "name": "stdout",
     "output_type": "stream",
     "text": [
      "0.88\n"
     ]
    }
   ],
   "source": [
    "featuresets = [(document_features(d), c) for (d,c) in documents]\n",
    "train_set=featuresets[100:]\n",
    "test_set=featuresets[:100]\n",
    "classifier = nltk.NaiveBayesClassifier.train(train_set)\n",
    "print (nltk.classify.accuracy(classifier, test_set))"
   ]
  },
  {
   "cell_type": "code",
   "execution_count": 39,
   "id": "686796fe",
   "metadata": {},
   "outputs": [],
   "source": [
    "word_items = all_words.most_common(3200)\n",
    "word_features = [word for (word, freq) in word_items]"
   ]
  },
  {
   "cell_type": "code",
   "execution_count": 40,
   "id": "3b120a5c",
   "metadata": {},
   "outputs": [],
   "source": [
    "featuresets = [(document_features(d), c) for (d,c) in documents]\n",
    "train_set=featuresets[100:]\n",
    "test_set=featuresets[:100]"
   ]
  },
  {
   "cell_type": "code",
   "execution_count": 41,
   "id": "478178d1",
   "metadata": {},
   "outputs": [],
   "source": [
    "classifier = nltk.NaiveBayesClassifier.train(train_set)"
   ]
  },
  {
   "cell_type": "code",
   "execution_count": 42,
   "id": "ee5d4a15",
   "metadata": {},
   "outputs": [
    {
     "name": "stdout",
     "output_type": "stream",
     "text": [
      "0.89\n"
     ]
    }
   ],
   "source": [
    "print (nltk.classify.accuracy(classifier, test_set))"
   ]
  }
 ],
 "metadata": {
  "kernelspec": {
   "display_name": "Python 3",
   "language": "python",
   "name": "python3"
  },
  "language_info": {
   "codemirror_mode": {
    "name": "ipython",
    "version": 3
   },
   "file_extension": ".py",
   "mimetype": "text/x-python",
   "name": "python",
   "nbconvert_exporter": "python",
   "pygments_lexer": "ipython3",
   "version": "3.8.8"
  }
 },
 "nbformat": 4,
 "nbformat_minor": 5
}
