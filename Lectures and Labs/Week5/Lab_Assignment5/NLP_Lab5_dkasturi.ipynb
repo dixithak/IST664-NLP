{
 "cells": [
  {
   "cell_type": "code",
   "execution_count": 1,
   "id": "53df15e4",
   "metadata": {},
   "outputs": [],
   "source": [
    "import nltk"
   ]
  },
  {
   "cell_type": "code",
   "execution_count": 2,
   "id": "86075fc1",
   "metadata": {},
   "outputs": [],
   "source": [
    "# Define sentences for the question\n",
    "\n",
    "text1 = \"I prefer a flight through Houston\".split()\n",
    "text2 = \"John gave the dog a bone\".split()\n",
    "text3 = \"I want to book that flight\".split()\n",
    "text4 = \"I am a dog lover and an ice-cream connoisseur\".split() #my own example"
   ]
  },
  {
   "cell_type": "code",
   "execution_count": 3,
   "id": "22ac29f8",
   "metadata": {},
   "outputs": [],
   "source": [
    "# extend the flight grammar:\n",
    "flight_grammar = nltk.CFG.fromstring(\"\"\"\n",
    "  S -> NP VP | VP\n",
    "  VP -> V NP | V NP PP\n",
    "  PP -> P NP\n",
    "  V -> \"saw\" | \"ate\" | \"walked\" | \"shot\" | \"book\"\n",
    "  NP -> Prop | Det N | Det N PP\n",
    "  Prop -> \"John\" | \"Mary\" | \"Bob\" | \"I\"\n",
    "  Det -> \"a\" | \"an\" | \"the\" | \"my\" | \"that\"\n",
    "  N -> \"man\" | \"dog\" | \"cat\" | \"telescope\" | \"park\" | \"elephant\" | \"pajamas\" | \"flight\"\n",
    "  P -> \"in\" | \"on\" | \"by\" | \"with\"\n",
    "  \"\"\")"
   ]
  },
  {
   "cell_type": "code",
   "execution_count": 4,
   "id": "4d5a49d3",
   "metadata": {},
   "outputs": [
    {
     "ename": "ValueError",
     "evalue": "Grammar does not cover some of the input words: \"'prefer', 'through', 'Houston'\".",
     "output_type": "error",
     "traceback": [
      "\u001b[1;31m---------------------------------------------------------------------------\u001b[0m",
      "\u001b[1;31mValueError\u001b[0m                                Traceback (most recent call last)",
      "\u001b[1;32m<ipython-input-4-e0ac75c407b0>\u001b[0m in \u001b[0;36m<module>\u001b[1;34m\u001b[0m\n\u001b[0;32m      1\u001b[0m \u001b[0mrd_parser\u001b[0m \u001b[1;33m=\u001b[0m \u001b[0mnltk\u001b[0m\u001b[1;33m.\u001b[0m\u001b[0mRecursiveDescentParser\u001b[0m\u001b[1;33m(\u001b[0m\u001b[0mflight_grammar\u001b[0m\u001b[1;33m)\u001b[0m\u001b[1;33m\u001b[0m\u001b[1;33m\u001b[0m\u001b[0m\n\u001b[1;32m----> 2\u001b[1;33m \u001b[1;32mfor\u001b[0m \u001b[0mtree\u001b[0m \u001b[1;32min\u001b[0m \u001b[0mrd_parser\u001b[0m\u001b[1;33m.\u001b[0m\u001b[0mparse\u001b[0m\u001b[1;33m(\u001b[0m\u001b[0mtext1\u001b[0m\u001b[1;33m)\u001b[0m\u001b[1;33m:\u001b[0m   \u001b[0mprint\u001b[0m \u001b[1;33m(\u001b[0m\u001b[0mtree\u001b[0m\u001b[1;33m)\u001b[0m\u001b[1;33m\u001b[0m\u001b[1;33m\u001b[0m\u001b[0m\n\u001b[0m",
      "\u001b[1;32m~\\anaconda3\\lib\\site-packages\\nltk\\parse\\recursivedescent.py\u001b[0m in \u001b[0;36mparse\u001b[1;34m(self, tokens)\u001b[0m\n\u001b[0;32m     74\u001b[0m \u001b[1;33m\u001b[0m\u001b[0m\n\u001b[0;32m     75\u001b[0m         \u001b[0mtokens\u001b[0m \u001b[1;33m=\u001b[0m \u001b[0mlist\u001b[0m\u001b[1;33m(\u001b[0m\u001b[0mtokens\u001b[0m\u001b[1;33m)\u001b[0m\u001b[1;33m\u001b[0m\u001b[1;33m\u001b[0m\u001b[0m\n\u001b[1;32m---> 76\u001b[1;33m         \u001b[0mself\u001b[0m\u001b[1;33m.\u001b[0m\u001b[0m_grammar\u001b[0m\u001b[1;33m.\u001b[0m\u001b[0mcheck_coverage\u001b[0m\u001b[1;33m(\u001b[0m\u001b[0mtokens\u001b[0m\u001b[1;33m)\u001b[0m\u001b[1;33m\u001b[0m\u001b[1;33m\u001b[0m\u001b[0m\n\u001b[0m\u001b[0;32m     77\u001b[0m \u001b[1;33m\u001b[0m\u001b[0m\n\u001b[0;32m     78\u001b[0m         \u001b[1;31m# Start a recursive descent parse, with an initial tree\u001b[0m\u001b[1;33m\u001b[0m\u001b[1;33m\u001b[0m\u001b[1;33m\u001b[0m\u001b[0m\n",
      "\u001b[1;32m~\\anaconda3\\lib\\site-packages\\nltk\\grammar.py\u001b[0m in \u001b[0;36mcheck_coverage\u001b[1;34m(self, tokens)\u001b[0m\n\u001b[0;32m    663\u001b[0m         \u001b[1;32mif\u001b[0m \u001b[0mmissing\u001b[0m\u001b[1;33m:\u001b[0m\u001b[1;33m\u001b[0m\u001b[1;33m\u001b[0m\u001b[0m\n\u001b[0;32m    664\u001b[0m             \u001b[0mmissing\u001b[0m \u001b[1;33m=\u001b[0m \u001b[1;34m\", \"\u001b[0m\u001b[1;33m.\u001b[0m\u001b[0mjoin\u001b[0m\u001b[1;33m(\u001b[0m\u001b[1;34mf\"{w!r}\"\u001b[0m \u001b[1;32mfor\u001b[0m \u001b[0mw\u001b[0m \u001b[1;32min\u001b[0m \u001b[0mmissing\u001b[0m\u001b[1;33m)\u001b[0m\u001b[1;33m\u001b[0m\u001b[1;33m\u001b[0m\u001b[0m\n\u001b[1;32m--> 665\u001b[1;33m             raise ValueError(\n\u001b[0m\u001b[0;32m    666\u001b[0m                 \u001b[1;34m\"Grammar does not cover some of the \"\u001b[0m \u001b[1;34m\"input words: %r.\"\u001b[0m \u001b[1;33m%\u001b[0m \u001b[0mmissing\u001b[0m\u001b[1;33m\u001b[0m\u001b[1;33m\u001b[0m\u001b[0m\n\u001b[0;32m    667\u001b[0m             )\n",
      "\u001b[1;31mValueError\u001b[0m: Grammar does not cover some of the input words: \"'prefer', 'through', 'Houston'\"."
     ]
    }
   ],
   "source": [
    "rd_parser = nltk.RecursiveDescentParser(flight_grammar)\n",
    "for tree in rd_parser.parse(text1):   print (tree)"
   ]
  },
  {
   "cell_type": "code",
   "execution_count": 5,
   "id": "6bb42a27",
   "metadata": {},
   "outputs": [],
   "source": [
    "#Grammar for sentex1\n",
    "flight_grammar = nltk.CFG.fromstring(\"\"\"\n",
    "  S -> NP VP | VP\n",
    "  VP -> V NP | V NP PP | V PP | V NP NP\n",
    "  PP -> P NP | P VP\n",
    "  V -> \"saw\" | \"ate\" | \"walked\" | \"shot\" | \"book\" |\"prefer\"\n",
    "  NP -> Prop | Det N | Det N PP\n",
    "  Prop -> \"John\" | \"Mary\" | \"Bob\" | \"I\" | \"Houston\"\n",
    "  Det -> \"a\" | \"an\" | \"the\" | \"my\" | \"that\"\n",
    "  N -> \"man\" | \"dog\" | \"cat\" | \"telescope\" | \"park\" | \"elephant\" | \"pajamas\" | \"flight\"\n",
    "  P -> \"in\" | \"on\" | \"by\" | \"with\" | \"through\" \n",
    "  \"\"\")"
   ]
  },
  {
   "cell_type": "code",
   "execution_count": 6,
   "id": "8ae07713",
   "metadata": {},
   "outputs": [
    {
     "name": "stdout",
     "output_type": "stream",
     "text": [
      "(S\n",
      "  (NP (Prop I))\n",
      "  (VP\n",
      "    (V prefer)\n",
      "    (NP (Det a) (N flight) (PP (P through) (NP (Prop Houston))))))\n",
      "(S\n",
      "  (NP (Prop I))\n",
      "  (VP\n",
      "    (V prefer)\n",
      "    (NP (Det a) (N flight))\n",
      "    (PP (P through) (NP (Prop Houston)))))\n"
     ]
    }
   ],
   "source": [
    "rd_parser = nltk.RecursiveDescentParser(flight_grammar)\n",
    "for tree in rd_parser.parse(text1):   print (tree)"
   ]
  },
  {
   "cell_type": "code",
   "execution_count": 23,
   "id": "4aa57ba4",
   "metadata": {},
   "outputs": [],
   "source": [
    "#Grammar for sentex 2\n",
    "flight_grammar = nltk.CFG.fromstring(\"\"\"\n",
    "  S -> NP VP | VP\n",
    "  VP -> V NP | V NP PP | V PP | V NP NP\n",
    "  PP -> P NP | P VP\n",
    "  V -> \"saw\" | \"ate\" | \"walked\" | \"shot\" | \"book\" | \"prefer\"|\"gave\"\n",
    "  NP -> Prop | Det N | Det N PP\n",
    "  Prop -> \"John\" | \"Mary\" | \"Bob\" | \"I\" | \"Houston\" | \"John\"\n",
    "  Det -> \"a\" | \"an\" | \"the\" | \"my\" | \"that\"\n",
    "  N -> \"man\" | \"dog\" | \"cat\" | \"telescope\" | \"park\" | \"elephant\" | \"pajamas\" | \"flight\" |\"bone\"\n",
    "  P -> \"in\" | \"on\" | \"by\" | \"with\" | \"through\" \n",
    "  \"\"\")"
   ]
  },
  {
   "cell_type": "code",
   "execution_count": 24,
   "id": "08c40e10",
   "metadata": {},
   "outputs": [
    {
     "name": "stdout",
     "output_type": "stream",
     "text": [
      "(S\n",
      "  (NP (Prop John))\n",
      "  (VP (V gave) (NP (Det the) (N dog)) (NP (Det a) (N bone))))\n",
      "(S\n",
      "  (NP (Prop John))\n",
      "  (VP (V gave) (NP (Det the) (N dog)) (NP (Det a) (N bone))))\n"
     ]
    }
   ],
   "source": [
    "rd_parser = nltk.RecursiveDescentParser(flight_grammar)\n",
    "for tree in rd_parser.parse(text2):   print (tree)"
   ]
  },
  {
   "cell_type": "code",
   "execution_count": 9,
   "id": "ee8a9209",
   "metadata": {},
   "outputs": [],
   "source": [
    "#Grammar for sentex3\n",
    "\n",
    "flight_grammar = nltk.CFG.fromstring(\"\"\"\n",
    "  S -> NP VP | VP\n",
    "  VP -> V NP | V NP PP | V PP | V NP NP\n",
    "  PP -> P NP | P VP\n",
    "  V -> \"saw\" | \"ate\" | \"walked\" | \"shot\" | \"book\" | \"prefer\"|\"gave\" |\"want\"\n",
    "  NP -> Prop | Det N | Det N PP\n",
    "  Prop -> \"John\" | \"Mary\" | \"Bob\" | \"I\" | \"Houston\" | \"John\"\n",
    "  Det -> \"a\" | \"an\" | \"the\" | \"my\" | \"that\"\n",
    "  N -> \"man\" | \"dog\" | \"cat\" | \"telescope\" | \"park\" | \"elephant\" | \"pajamas\" | \"flight\" |\"bone\"\n",
    "  P -> \"in\" | \"on\" | \"by\" | \"with\" | \"through\" | \"to\"\n",
    "  \"\"\")"
   ]
  },
  {
   "cell_type": "code",
   "execution_count": 10,
   "id": "f78213cb",
   "metadata": {},
   "outputs": [
    {
     "name": "stdout",
     "output_type": "stream",
     "text": [
      "(S\n",
      "  (NP (Prop I))\n",
      "  (VP (V want) (PP (P to) (VP (V book) (NP (Det that) (N flight))))))\n"
     ]
    }
   ],
   "source": [
    "rd_parser = nltk.RecursiveDescentParser(flight_grammar)\n",
    "for tree in rd_parser.parse(text3):   print (tree)"
   ]
  },
  {
   "cell_type": "code",
   "execution_count": 56,
   "id": "a754e2c1",
   "metadata": {},
   "outputs": [],
   "source": [
    "flight_grammar = nltk.CFG.fromstring(\"\"\"\n",
    "  S -> NP VP | VP\n",
    "  VP -> V NP | V NP PP | V PP | V NP NP | V NP V | NP V | VP conj NP\n",
    "  PP -> P NP | P VP\n",
    "  V -> \"saw\" | \"ate\" | \"walked\" | \"shot\" | \"book\" | \"prefer\"|\"gave\" |\"want\" |\"lover\"  |\"am\"\n",
    "  NP -> Prop | Det N | Det N PP | Det N N\n",
    "  Prop -> \"John\" | \"Mary\" | \"Bob\" | \"I\" | \"Houston\" | \"John\" \n",
    "  Det -> \"a\" | \"an\" | \"the\" | \"my\" | \"that\" \n",
    "  N -> \"man\" | \"dog\" | \"cat\" | \"telescope\" | \"park\" | \"elephant\" | \"pajamas\" | \"flight\" |\"bone\" |\"ice-cream\" |\"connoisseur\"\n",
    "  P -> \"in\" | \"on\" | \"by\" | \"with\" | \"through\" | \"to\" \n",
    "  conj -> \"and\"\n",
    "  \"\"\")"
   ]
  },
  {
   "cell_type": "code",
   "execution_count": null,
   "id": "8b92328a",
   "metadata": {},
   "outputs": [
    {
     "name": "stdout",
     "output_type": "stream",
     "text": [
      "(S\n",
      "  (NP (Prop I))\n",
      "  (VP\n",
      "    (VP (V am) (NP (Det a) (N dog)) (V lover))\n",
      "    (conj and)\n",
      "    (NP (Det an) (N ice-cream) (N connoisseur))))\n"
     ]
    }
   ],
   "source": [
    "\n",
    "rd_parser = nltk.RecursiveDescentParser(flight_grammar)\n",
    "for tree in rd_parser.parse(text4):   print (tree)"
   ]
  },
  {
   "cell_type": "code",
   "execution_count": null,
   "id": "0f913b2c",
   "metadata": {},
   "outputs": [],
   "source": []
  }
 ],
 "metadata": {
  "kernelspec": {
   "display_name": "Python 3",
   "language": "python",
   "name": "python3"
  },
  "language_info": {
   "codemirror_mode": {
    "name": "ipython",
    "version": 3
   },
   "file_extension": ".py",
   "mimetype": "text/x-python",
   "name": "python",
   "nbconvert_exporter": "python",
   "pygments_lexer": "ipython3",
   "version": "3.8.8"
  }
 },
 "nbformat": 4,
 "nbformat_minor": 5
}
